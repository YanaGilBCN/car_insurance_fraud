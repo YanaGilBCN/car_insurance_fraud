{
 "cells": [
  {
   "cell_type": "markdown",
   "metadata": {
    "id": "K6n7VmmwaIiM"
   },
   "source": [
    "<h1>Fraud is bad. Don't commit no fraud</h1>"
   ]
  },
  {
   "cell_type": "markdown",
   "metadata": {
    "id": "YLwulGtqgNP6"
   },
   "source": [
    "\n",
    "\n",
    "1.   Data Import\n",
    "2.   Exploratory Data Analysis"
   ]
  },
  {
   "cell_type": "markdown",
   "metadata": {
    "id": "NeZr1pZcg-qi"
   },
   "source": [
    "\n",
    "\n",
    "\n",
    "\n",
    "\n",
    "# Data Import"
   ]
  },
  {
   "cell_type": "code",
   "execution_count": 2,
   "metadata": {
    "executionInfo": {
     "elapsed": 4602,
     "status": "ok",
     "timestamp": 1702988353473,
     "user": {
      "displayName": "Yana G.",
      "userId": "05404332677488623640"
     },
     "user_tz": -60
    },
    "id": "jgFX9zSu2fKT"
   },
   "outputs": [],
   "source": [
    "# importing all the python libraries we will use\n",
    "import pathlib\n",
    "import matplotlib.pyplot as plt\n",
    "from google.colab import drive\n",
    "import pandas as pd\n",
    "import seaborn as sns\n",
    "import numpy as np\n",
    "\n",
    "df_fraud = pd.read_csv('fraud_oracle.csv')\n",
    "df_fraud_backup = df_fraud.copy()"
   ]
  },
  {
   "cell_type": "markdown",
   "metadata": {
    "id": "U7bYZvHyp_Ef"
   },
   "source": [
    "### Exploratory Data Analysis ###\n",
    "\n",
    "\n",
    "* Number of variables\n",
    "* Data types\n",
    "* Class distribution of the variables\n",
    "* Data quality check\n",
    "* Feature engineering\n",
    "\n",
    "\n",
    "\n"
   ]
  },
  {
   "cell_type": "code",
   "execution_count": 3,
   "metadata": {
    "colab": {
     "base_uri": "https://localhost:8080/"
    },
    "executionInfo": {
     "elapsed": 17,
     "status": "ok",
     "timestamp": 1702988353475,
     "user": {
      "displayName": "Yana G.",
      "userId": "05404332677488623640"
     },
     "user_tz": -60
    },
    "id": "Wi76wZBTDczC",
    "outputId": "0226f953-15fa-4850-95af-a1123c00d67e"
   },
   "outputs": [
    {
     "data": {
      "text/plain": [
       "(15420, 33)"
      ]
     },
     "execution_count": 3,
     "metadata": {},
     "output_type": "execute_result"
    }
   ],
   "source": [
    "# size of the dataset\n",
    "df_fraud.shape"
   ]
  },
  {
   "cell_type": "code",
   "execution_count": null,
   "metadata": {
    "colab": {
     "base_uri": "https://localhost:8080/"
    },
    "executionInfo": {
     "elapsed": 400,
     "status": "ok",
     "timestamp": 1701473277018,
     "user": {
      "displayName": "Yana G.",
      "userId": "05404332677488623640"
     },
     "user_tz": -60
    },
    "id": "r0zW9AdAcHY6",
    "outputId": "91d803a5-e0c1-44b6-e0cc-e25cade5f208"
   },
   "outputs": [
    {
     "name": "stdout",
     "output_type": "stream",
     "text": [
      "<class 'pandas.core.frame.DataFrame'>\n",
      "RangeIndex: 15420 entries, 0 to 15419\n",
      "Data columns (total 33 columns):\n",
      " #   Column                Non-Null Count  Dtype \n",
      "---  ------                --------------  ----- \n",
      " 0   Month                 15420 non-null  object\n",
      " 1   WeekOfMonth           15420 non-null  int64 \n",
      " 2   DayOfWeek             15420 non-null  object\n",
      " 3   Make                  15420 non-null  object\n",
      " 4   AccidentArea          15420 non-null  object\n",
      " 5   DayOfWeekClaimed      15420 non-null  object\n",
      " 6   MonthClaimed          15420 non-null  object\n",
      " 7   WeekOfMonthClaimed    15420 non-null  int64 \n",
      " 8   Sex                   15420 non-null  object\n",
      " 9   MaritalStatus         15420 non-null  object\n",
      " 10  Age                   15420 non-null  int64 \n",
      " 11  Fault                 15420 non-null  object\n",
      " 12  PolicyType            15420 non-null  object\n",
      " 13  VehicleCategory       15420 non-null  object\n",
      " 14  VehiclePrice          15420 non-null  object\n",
      " 15  FraudFound_P          15420 non-null  int64 \n",
      " 16  PolicyNumber          15420 non-null  int64 \n",
      " 17  RepNumber             15420 non-null  int64 \n",
      " 18  Deductible            15420 non-null  int64 \n",
      " 19  DriverRating          15420 non-null  int64 \n",
      " 20  Days_Policy_Accident  15420 non-null  object\n",
      " 21  Days_Policy_Claim     15420 non-null  object\n",
      " 22  PastNumberOfClaims    15420 non-null  object\n",
      " 23  AgeOfVehicle          15420 non-null  object\n",
      " 24  AgeOfPolicyHolder     15420 non-null  object\n",
      " 25  PoliceReportFiled     15420 non-null  object\n",
      " 26  WitnessPresent        15420 non-null  object\n",
      " 27  AgentType             15420 non-null  object\n",
      " 28  NumberOfSuppliments   15420 non-null  object\n",
      " 29  AddressChange_Claim   15420 non-null  object\n",
      " 30  NumberOfCars          15420 non-null  object\n",
      " 31  Year                  15420 non-null  int64 \n",
      " 32  BasePolicy            15420 non-null  object\n",
      "dtypes: int64(9), object(24)\n",
      "memory usage: 3.9+ MB\n"
     ]
    }
   ],
   "source": [
    "# first look at the data\n",
    "df_fraud.info()"
   ]
  },
  {
   "cell_type": "code",
   "execution_count": null,
   "metadata": {
    "colab": {
     "base_uri": "https://localhost:8080/"
    },
    "executionInfo": {
     "elapsed": 397,
     "status": "ok",
     "timestamp": 1701473277019,
     "user": {
      "displayName": "Yana G.",
      "userId": "05404332677488623640"
     },
     "user_tz": -60
    },
    "id": "s1v_ZzG2vefl",
    "outputId": "843a3333-539c-494b-c4dd-c72d0df7ed3a"
   },
   "outputs": [
    {
     "data": {
      "text/plain": [
       "object    24\n",
       "int64      9\n",
       "dtype: int64"
      ]
     },
     "execution_count": 4,
     "metadata": {},
     "output_type": "execute_result"
    }
   ],
   "source": [
    "# variable type breakdown and count\n",
    "df_fraud.dtypes.value_counts()"
   ]
  },
  {
   "cell_type": "code",
   "execution_count": null,
   "metadata": {
    "colab": {
     "base_uri": "https://localhost:8080/"
    },
    "executionInfo": {
     "elapsed": 390,
     "status": "ok",
     "timestamp": 1701473277019,
     "user": {
      "displayName": "Yana G.",
      "userId": "05404332677488623640"
     },
     "user_tz": -60
    },
    "id": "J3zFHubwvvHd",
    "outputId": "18f4218a-2ec1-4b1f-b0f5-403584989b2f"
   },
   "outputs": [
    {
     "data": {
      "text/plain": [
       "Index(['Month', 'DayOfWeek', 'Make', 'AccidentArea', 'DayOfWeekClaimed',\n",
       "       'MonthClaimed', 'Sex', 'MaritalStatus', 'Fault', 'PolicyType',\n",
       "       'VehicleCategory', 'VehiclePrice', 'Days_Policy_Accident',\n",
       "       'Days_Policy_Claim', 'PastNumberOfClaims', 'AgeOfVehicle',\n",
       "       'AgeOfPolicyHolder', 'PoliceReportFiled', 'WitnessPresent', 'AgentType',\n",
       "       'NumberOfSuppliments', 'AddressChange_Claim', 'NumberOfCars',\n",
       "       'BasePolicy'],\n",
       "      dtype='object')"
      ]
     },
     "execution_count": 5,
     "metadata": {},
     "output_type": "execute_result"
    }
   ],
   "source": [
    "# we have 33 variables: 24 categorical and 9 numerical\n",
    "\n",
    "# list of categorical variables\n",
    "df_fraud.columns[df_fraud.dtypes == 'object']"
   ]
  },
  {
   "cell_type": "code",
   "execution_count": null,
   "metadata": {
    "colab": {
     "base_uri": "https://localhost:8080/"
    },
    "executionInfo": {
     "elapsed": 381,
     "status": "ok",
     "timestamp": 1701473277019,
     "user": {
      "displayName": "Yana G.",
      "userId": "05404332677488623640"
     },
     "user_tz": -60
    },
    "id": "rtZrJvmtwOcu",
    "outputId": "2e7bd3d2-2c7c-4d30-c8f7-bff16400db51"
   },
   "outputs": [
    {
     "data": {
      "text/plain": [
       "Index(['WeekOfMonth', 'WeekOfMonthClaimed', 'Age', 'FraudFound_P',\n",
       "       'PolicyNumber', 'RepNumber', 'Deductible', 'DriverRating', 'Year'],\n",
       "      dtype='object')"
      ]
     },
     "execution_count": 6,
     "metadata": {},
     "output_type": "execute_result"
    }
   ],
   "source": [
    "# list of numerical variables\n",
    "df_fraud.columns[df_fraud.dtypes == 'int64']"
   ]
  },
  {
   "cell_type": "code",
   "execution_count": null,
   "metadata": {
    "colab": {
     "base_uri": "https://localhost:8080/",
     "height": 112
    },
    "executionInfo": {
     "elapsed": 377,
     "status": "ok",
     "timestamp": 1701473277019,
     "user": {
      "displayName": "Yana G.",
      "userId": "05404332677488623640"
     },
     "user_tz": -60
    },
    "id": "ILJPS3V2A4CF",
    "outputId": "210abe4b-20ac-4bba-9027-c5206350e12b"
   },
   "outputs": [
    {
     "data": {
      "text/html": [
       "\n",
       "  <div id=\"df-b213a160-39ae-4e50-b0d0-585e068c51a8\" class=\"colab-df-container\">\n",
       "    <div>\n",
       "<style scoped>\n",
       "    .dataframe tbody tr th:only-of-type {\n",
       "        vertical-align: middle;\n",
       "    }\n",
       "\n",
       "    .dataframe tbody tr th {\n",
       "        vertical-align: top;\n",
       "    }\n",
       "\n",
       "    .dataframe thead th {\n",
       "        text-align: right;\n",
       "    }\n",
       "</style>\n",
       "<table border=\"1\" class=\"dataframe\">\n",
       "  <thead>\n",
       "    <tr style=\"text-align: right;\">\n",
       "      <th></th>\n",
       "      <th>Claims</th>\n",
       "      <th>Percentage</th>\n",
       "    </tr>\n",
       "  </thead>\n",
       "  <tbody>\n",
       "    <tr>\n",
       "      <th>0</th>\n",
       "      <td>14497</td>\n",
       "      <td>94.01</td>\n",
       "    </tr>\n",
       "    <tr>\n",
       "      <th>1</th>\n",
       "      <td>923</td>\n",
       "      <td>5.99</td>\n",
       "    </tr>\n",
       "  </tbody>\n",
       "</table>\n",
       "</div>\n",
       "    <div class=\"colab-df-buttons\">\n",
       "\n",
       "  <div class=\"colab-df-container\">\n",
       "    <button class=\"colab-df-convert\" onclick=\"convertToInteractive('df-b213a160-39ae-4e50-b0d0-585e068c51a8')\"\n",
       "            title=\"Convert this dataframe to an interactive table.\"\n",
       "            style=\"display:none;\">\n",
       "\n",
       "  <svg xmlns=\"http://www.w3.org/2000/svg\" height=\"24px\" viewBox=\"0 -960 960 960\">\n",
       "    <path d=\"M120-120v-720h720v720H120Zm60-500h600v-160H180v160Zm220 220h160v-160H400v160Zm0 220h160v-160H400v160ZM180-400h160v-160H180v160Zm440 0h160v-160H620v160ZM180-180h160v-160H180v160Zm440 0h160v-160H620v160Z\"/>\n",
       "  </svg>\n",
       "    </button>\n",
       "\n",
       "  <style>\n",
       "    .colab-df-container {\n",
       "      display:flex;\n",
       "      gap: 12px;\n",
       "    }\n",
       "\n",
       "    .colab-df-convert {\n",
       "      background-color: #E8F0FE;\n",
       "      border: none;\n",
       "      border-radius: 50%;\n",
       "      cursor: pointer;\n",
       "      display: none;\n",
       "      fill: #1967D2;\n",
       "      height: 32px;\n",
       "      padding: 0 0 0 0;\n",
       "      width: 32px;\n",
       "    }\n",
       "\n",
       "    .colab-df-convert:hover {\n",
       "      background-color: #E2EBFA;\n",
       "      box-shadow: 0px 1px 2px rgba(60, 64, 67, 0.3), 0px 1px 3px 1px rgba(60, 64, 67, 0.15);\n",
       "      fill: #174EA6;\n",
       "    }\n",
       "\n",
       "    .colab-df-buttons div {\n",
       "      margin-bottom: 4px;\n",
       "    }\n",
       "\n",
       "    [theme=dark] .colab-df-convert {\n",
       "      background-color: #3B4455;\n",
       "      fill: #D2E3FC;\n",
       "    }\n",
       "\n",
       "    [theme=dark] .colab-df-convert:hover {\n",
       "      background-color: #434B5C;\n",
       "      box-shadow: 0px 1px 3px 1px rgba(0, 0, 0, 0.15);\n",
       "      filter: drop-shadow(0px 1px 2px rgba(0, 0, 0, 0.3));\n",
       "      fill: #FFFFFF;\n",
       "    }\n",
       "  </style>\n",
       "\n",
       "    <script>\n",
       "      const buttonEl =\n",
       "        document.querySelector('#df-b213a160-39ae-4e50-b0d0-585e068c51a8 button.colab-df-convert');\n",
       "      buttonEl.style.display =\n",
       "        google.colab.kernel.accessAllowed ? 'block' : 'none';\n",
       "\n",
       "      async function convertToInteractive(key) {\n",
       "        const element = document.querySelector('#df-b213a160-39ae-4e50-b0d0-585e068c51a8');\n",
       "        const dataTable =\n",
       "          await google.colab.kernel.invokeFunction('convertToInteractive',\n",
       "                                                    [key], {});\n",
       "        if (!dataTable) return;\n",
       "\n",
       "        const docLinkHtml = 'Like what you see? Visit the ' +\n",
       "          '<a target=\"_blank\" href=https://colab.research.google.com/notebooks/data_table.ipynb>data table notebook</a>'\n",
       "          + ' to learn more about interactive tables.';\n",
       "        element.innerHTML = '';\n",
       "        dataTable['output_type'] = 'display_data';\n",
       "        await google.colab.output.renderOutput(dataTable, element);\n",
       "        const docLink = document.createElement('div');\n",
       "        docLink.innerHTML = docLinkHtml;\n",
       "        element.appendChild(docLink);\n",
       "      }\n",
       "    </script>\n",
       "  </div>\n",
       "\n",
       "\n",
       "<div id=\"df-d505c68e-8a87-4798-8485-0c7bf0f37fec\">\n",
       "  <button class=\"colab-df-quickchart\" onclick=\"quickchart('df-d505c68e-8a87-4798-8485-0c7bf0f37fec')\"\n",
       "            title=\"Suggest charts\"\n",
       "            style=\"display:none;\">\n",
       "\n",
       "<svg xmlns=\"http://www.w3.org/2000/svg\" height=\"24px\"viewBox=\"0 0 24 24\"\n",
       "     width=\"24px\">\n",
       "    <g>\n",
       "        <path d=\"M19 3H5c-1.1 0-2 .9-2 2v14c0 1.1.9 2 2 2h14c1.1 0 2-.9 2-2V5c0-1.1-.9-2-2-2zM9 17H7v-7h2v7zm4 0h-2V7h2v10zm4 0h-2v-4h2v4z\"/>\n",
       "    </g>\n",
       "</svg>\n",
       "  </button>\n",
       "\n",
       "<style>\n",
       "  .colab-df-quickchart {\n",
       "      --bg-color: #E8F0FE;\n",
       "      --fill-color: #1967D2;\n",
       "      --hover-bg-color: #E2EBFA;\n",
       "      --hover-fill-color: #174EA6;\n",
       "      --disabled-fill-color: #AAA;\n",
       "      --disabled-bg-color: #DDD;\n",
       "  }\n",
       "\n",
       "  [theme=dark] .colab-df-quickchart {\n",
       "      --bg-color: #3B4455;\n",
       "      --fill-color: #D2E3FC;\n",
       "      --hover-bg-color: #434B5C;\n",
       "      --hover-fill-color: #FFFFFF;\n",
       "      --disabled-bg-color: #3B4455;\n",
       "      --disabled-fill-color: #666;\n",
       "  }\n",
       "\n",
       "  .colab-df-quickchart {\n",
       "    background-color: var(--bg-color);\n",
       "    border: none;\n",
       "    border-radius: 50%;\n",
       "    cursor: pointer;\n",
       "    display: none;\n",
       "    fill: var(--fill-color);\n",
       "    height: 32px;\n",
       "    padding: 0;\n",
       "    width: 32px;\n",
       "  }\n",
       "\n",
       "  .colab-df-quickchart:hover {\n",
       "    background-color: var(--hover-bg-color);\n",
       "    box-shadow: 0 1px 2px rgba(60, 64, 67, 0.3), 0 1px 3px 1px rgba(60, 64, 67, 0.15);\n",
       "    fill: var(--button-hover-fill-color);\n",
       "  }\n",
       "\n",
       "  .colab-df-quickchart-complete:disabled,\n",
       "  .colab-df-quickchart-complete:disabled:hover {\n",
       "    background-color: var(--disabled-bg-color);\n",
       "    fill: var(--disabled-fill-color);\n",
       "    box-shadow: none;\n",
       "  }\n",
       "\n",
       "  .colab-df-spinner {\n",
       "    border: 2px solid var(--fill-color);\n",
       "    border-color: transparent;\n",
       "    border-bottom-color: var(--fill-color);\n",
       "    animation:\n",
       "      spin 1s steps(1) infinite;\n",
       "  }\n",
       "\n",
       "  @keyframes spin {\n",
       "    0% {\n",
       "      border-color: transparent;\n",
       "      border-bottom-color: var(--fill-color);\n",
       "      border-left-color: var(--fill-color);\n",
       "    }\n",
       "    20% {\n",
       "      border-color: transparent;\n",
       "      border-left-color: var(--fill-color);\n",
       "      border-top-color: var(--fill-color);\n",
       "    }\n",
       "    30% {\n",
       "      border-color: transparent;\n",
       "      border-left-color: var(--fill-color);\n",
       "      border-top-color: var(--fill-color);\n",
       "      border-right-color: var(--fill-color);\n",
       "    }\n",
       "    40% {\n",
       "      border-color: transparent;\n",
       "      border-right-color: var(--fill-color);\n",
       "      border-top-color: var(--fill-color);\n",
       "    }\n",
       "    60% {\n",
       "      border-color: transparent;\n",
       "      border-right-color: var(--fill-color);\n",
       "    }\n",
       "    80% {\n",
       "      border-color: transparent;\n",
       "      border-right-color: var(--fill-color);\n",
       "      border-bottom-color: var(--fill-color);\n",
       "    }\n",
       "    90% {\n",
       "      border-color: transparent;\n",
       "      border-bottom-color: var(--fill-color);\n",
       "    }\n",
       "  }\n",
       "</style>\n",
       "\n",
       "  <script>\n",
       "    async function quickchart(key) {\n",
       "      const quickchartButtonEl =\n",
       "        document.querySelector('#' + key + ' button');\n",
       "      quickchartButtonEl.disabled = true;  // To prevent multiple clicks.\n",
       "      quickchartButtonEl.classList.add('colab-df-spinner');\n",
       "      try {\n",
       "        const charts = await google.colab.kernel.invokeFunction(\n",
       "            'suggestCharts', [key], {});\n",
       "      } catch (error) {\n",
       "        console.error('Error during call to suggestCharts:', error);\n",
       "      }\n",
       "      quickchartButtonEl.classList.remove('colab-df-spinner');\n",
       "      quickchartButtonEl.classList.add('colab-df-quickchart-complete');\n",
       "    }\n",
       "    (() => {\n",
       "      let quickchartButtonEl =\n",
       "        document.querySelector('#df-d505c68e-8a87-4798-8485-0c7bf0f37fec button');\n",
       "      quickchartButtonEl.style.display =\n",
       "        google.colab.kernel.accessAllowed ? 'block' : 'none';\n",
       "    })();\n",
       "  </script>\n",
       "</div>\n",
       "    </div>\n",
       "  </div>\n"
      ],
      "text/plain": [
       "   Claims  Percentage\n",
       "0   14497       94.01\n",
       "1     923        5.99"
      ]
     },
     "execution_count": 7,
     "metadata": {},
     "output_type": "execute_result"
    }
   ],
   "source": [
    "# Now, let's take a look at the target variable, FraudFound_P\n",
    "# Lets see the breakdown of classes for FraudFound_P\n",
    "\n",
    "fraud_cases = pd.DataFrame(df_fraud['FraudFound_P'].value_counts())\n",
    "fraud_cases['Percentage'] = round(df_fraud['FraudFound_P'].value_counts(normalize=True) * 100, 2)\n",
    "fraud_cases = fraud_cases.rename(columns={'FraudFound_P': 'Claims'})\n",
    "fraud_cases"
   ]
  },
  {
   "cell_type": "code",
   "execution_count": null,
   "metadata": {
    "colab": {
     "base_uri": "https://localhost:8080/",
     "height": 290
    },
    "executionInfo": {
     "elapsed": 373,
     "status": "ok",
     "timestamp": 1701473277020,
     "user": {
      "displayName": "Yana G.",
      "userId": "05404332677488623640"
     },
     "user_tz": -60
    },
    "id": "aDbi3PTqAtL1",
    "outputId": "5021ddec-33f5-41c6-cdc4-918021880884"
   },
   "outputs": [
    {
     "data": {
      "image/png": "[encoded data removed]",
      "text/plain": [
       "<Figure size 400x300 with 1 Axes>"
      ]
     },
     "metadata": {},
     "output_type": "display_data"
    }
   ],
   "source": [
    "# Lets make a pie chart to vizualize this imbalance:\n",
    "\n",
    "import matplotlib.pyplot as plt\n",
    "\n",
    "# Proportion of fraud claims\n",
    "fig, ax = plt.subplots(figsize=(4, 3))\n",
    "fraud_proportion = df_fraud['FraudFound_P'].value_counts(normalize=True)\n",
    "fraud_proportion.plot.pie(labels=['Non-fraud', 'Fraud'], autopct='%1.1f%%', ax=ax, colors=['lightgreen', 'pink'])  # Specify the axis using ax=ax\n",
    "\n",
    "# Remove y-axis label\n",
    "ax.set_ylabel('')\n",
    "\n",
    "plt.title('Proportion of Fraud Claims')\n",
    "plt.show()"
   ]
  },
  {
   "cell_type": "markdown",
   "metadata": {
    "id": "VoC51UHhhS61"
   },
   "source": [
    "## Overview of the variables\n",
    "\n",
    "#### Number of variables\n",
    "\n",
    "In total, there are 33 variables:\n",
    "- 32 input variables\n",
    "- 1 Output Variable\n",
    "\n",
    "#### Data Types\n",
    "\n",
    "- Numeric (int64) - 9\n",
    "- Binary (Object) - 24\n",
    "\n",
    "#### Target Variable\n",
    "-  `FraudFound_P`\n",
    "- Numeric\n",
    "- Binary (0/1)\n",
    "- Class Distribution: imbalanced (6% Fraud vs 94% Non-fraud)"
   ]
  },
  {
   "cell_type": "markdown",
   "metadata": {
    "id": "i5QZ76OsU2Fn"
   },
   "source": [
    "**IMPORTANT:** The dataset is imbalanced. There are 5.99% fraud cases vs 94.01% non-fraud ones. In absolute numbers, we have 923 fraud cases vs 14,497 non-fraud cases. To deal with the imbalance, we will try some balancing technique:  'oversampling' of the minority class (fraud) or 'undersampling' of the majority class (no fraud) or both at the same time"
   ]
  },
  {
   "cell_type": "code",
   "execution_count": null,
   "metadata": {
    "id": "ds8PPefRiryX"
   },
   "outputs": [],
   "source": [
    "# As seen above, only the Age variable appears to be a true numeric variable. All others can  be converted into object/categorical variables.\n",
    "# Let's take a closer look at Age variable"
   ]
  },
  {
   "cell_type": "code",
   "execution_count": null,
   "metadata": {
    "colab": {
     "base_uri": "https://localhost:8080/"
    },
    "executionInfo": {
     "elapsed": 369,
     "status": "ok",
     "timestamp": 1701473277020,
     "user": {
      "displayName": "Yana G.",
      "userId": "05404332677488623640"
     },
     "user_tz": -60
    },
    "id": "Bm_9fKorhaaC",
    "outputId": "8d517d0b-40d1-4bc1-c290-746ed6f542cb"
   },
   "outputs": [
    {
     "data": {
      "text/plain": [
       "count    15420.000000\n",
       "mean        39.855707\n",
       "std         13.492377\n",
       "min          0.000000\n",
       "25%         31.000000\n",
       "50%         38.000000\n",
       "75%         48.000000\n",
       "max         80.000000\n",
       "Name: Age, dtype: float64"
      ]
     },
     "execution_count": 10,
     "metadata": {},
     "output_type": "execute_result"
    }
   ],
   "source": [
    "df_fraud['Age'].describe()"
   ]
  },
  {
   "cell_type": "code",
   "execution_count": null,
   "metadata": {
    "colab": {
     "base_uri": "https://localhost:8080/",
     "height": 391
    },
    "executionInfo": {
     "elapsed": 360,
     "status": "ok",
     "timestamp": 1701473277021,
     "user": {
      "displayName": "Yana G.",
      "userId": "05404332677488623640"
     },
     "user_tz": -60
    },
    "id": "P4U8jqREkt0K",
    "outputId": "0a951941-f449-4238-a618-877ceabdaa47"
   },
   "outputs": [
    {
     "data": {
      "image/png": "[encoded data removed]",
      "text/plain": [
       "<Figure size 600x300 with 1 Axes>"
      ]
     },
     "metadata": {},
     "output_type": "display_data"
    }
   ],
   "source": [
    "# The minimum value of A is 0 which does not seem correct so lets take a closer look at it and see its distribution\n",
    "\n",
    "# Plot the distribution:\n",
    "plt.figure(figsize=(6, 3))\n",
    "sns.set_style('darkgrid')\n",
    "sns.histplot(data=df_fraud, x='Age', color='teal', kde=True, bins=25, hue='FraudFound_P')\n",
    "plt.title('\\nDistribution of Age\\n')\n",
    "plt.xlabel('\\nAge')\n",
    "plt.ylabel('Count\\n')\n",
    "plt.show()"
   ]
  },
  {
   "cell_type": "code",
   "execution_count": null,
   "metadata": {
    "colab": {
     "base_uri": "https://localhost:8080/"
    },
    "executionInfo": {
     "elapsed": 357,
     "status": "ok",
     "timestamp": 1701473277021,
     "user": {
      "displayName": "Yana G.",
      "userId": "05404332677488623640"
     },
     "user_tz": -60
    },
    "id": "qY_JYwCtivyu",
    "outputId": "e2caac8c-5d4a-4779-c2c6-bf1fabf51df0"
   },
   "outputs": [
    {
     "data": {
      "text/plain": [
       "Age  FraudFound_P\n",
       "0    0               289\n",
       "     1                31\n",
       "dtype: int64"
      ]
     },
     "execution_count": 12,
     "metadata": {},
     "output_type": "execute_result"
    }
   ],
   "source": [
    "# So how many data points are there with Age == 0\n",
    "df_fraud[df_fraud['Age'] == 0][['Age', 'FraudFound_P']].value_counts()\n"
   ]
  },
  {
   "cell_type": "code",
   "execution_count": null,
   "metadata": {
    "id": "H8Hueu6i7bHD"
   },
   "outputs": [],
   "source": [
    "# We have a total of 320 cases where Age = 0. 31 of them are Fraud vases vs 289 non-Fraud cases.\n",
    "# Need to replace Age values that are currently 0. First replace them with NaN, than impute with median for Age for FraudFound_P == 0:\n",
    "\n",
    "df_fraud['Age'] = df_fraud['Age'].replace(0, float('nan'))\n",
    "\n",
    "# Calculate the median of 'Age' for non-fraudulent cases\n",
    "median_age_non_fraud = df_fraud[df_fraud['FraudFound_P'] == 0]['Age'].median()\n",
    "\n",
    "# Fill NaN values in 'Age' with the calculated median\n",
    "df_fraud['Age'].fillna(median_age_non_fraud, inplace=True)\n"
   ]
  },
  {
   "cell_type": "code",
   "execution_count": null,
   "metadata": {
    "colab": {
     "base_uri": "https://localhost:8080/",
     "height": 391
    },
    "executionInfo": {
     "elapsed": 350,
     "status": "ok",
     "timestamp": 1701473277021,
     "user": {
      "displayName": "Yana G.",
      "userId": "05404332677488623640"
     },
     "user_tz": -60
    },
    "id": "2jG1XBTn1XIC",
    "outputId": "14451aa5-5abe-472a-c3d7-d3ebb8b0d879"
   },
   "outputs": [
    {
     "data": {
      "image/png": "[encoded data removed]",
      "text/plain": [
       "<Figure size 600x300 with 1 Axes>"
      ]
     },
     "metadata": {},
     "output_type": "display_data"
    }
   ],
   "source": [
    "# Replot the distribution:\n",
    "plt.figure(figsize=(6, 3))\n",
    "sns.set_style('darkgrid')\n",
    "sns.histplot(data=df_fraud, x='Age', color='teal', kde=True, bins=25, hue='FraudFound_P')\n",
    "plt.title('\\nUPDATED: Distribution of Age\\n')\n",
    "plt.xlabel('\\nAge')\n",
    "plt.ylabel('Count\\n')\n",
    "plt.show()"
   ]
  },
  {
   "cell_type": "code",
   "execution_count": null,
   "metadata": {
    "id": "3FlwWKhQEcvO"
   },
   "outputs": [],
   "source": [
    "# recoding Age into Age_Bracket. We will assume AgeOfPolicyHolder is a different variable\n",
    "bins = [16, 18, 21, 26, 31, 36, 41, 51, 66, 100]\n",
    "labels = ['16 to 17', '18 to 20', '21 to 25', '26 to 30', '31 to 35', '36 to 40', '41 to 50', '51 to 65', 'over 65']\n",
    "\n",
    "df_fraud['Age_Bracket'] = pd.cut(df_fraud['Age'], bins=bins, labels=labels, right=False)\n",
    "df_fraud['Age_Bracket'] = df_fraud['Age_Bracket'].astype('object')\n"
   ]
  },
  {
   "cell_type": "code",
   "execution_count": null,
   "metadata": {
    "colab": {
     "base_uri": "https://localhost:8080/",
     "height": 363
    },
    "executionInfo": {
     "elapsed": 341,
     "status": "ok",
     "timestamp": 1701473277022,
     "user": {
      "displayName": "Yana G.",
      "userId": "05404332677488623640"
     },
     "user_tz": -60
    },
    "id": "hxT_Nzl0VJnk",
    "outputId": "4677939d-bc0e-4bff-cde1-1a23b864677b"
   },
   "outputs": [
    {
     "data": {
      "text/html": [
       "\n",
       "  <div id=\"df-bbb2930e-2506-43fd-8936-d33dcd1de4e5\" class=\"colab-df-container\">\n",
       "    <div>\n",
       "<style scoped>\n",
       "    .dataframe tbody tr th:only-of-type {\n",
       "        vertical-align: middle;\n",
       "    }\n",
       "\n",
       "    .dataframe tbody tr th {\n",
       "        vertical-align: top;\n",
       "    }\n",
       "\n",
       "    .dataframe thead th {\n",
       "        text-align: right;\n",
       "    }\n",
       "</style>\n",
       "<table border=\"1\" class=\"dataframe\">\n",
       "  <thead>\n",
       "    <tr style=\"text-align: right;\">\n",
       "      <th></th>\n",
       "      <th>Age</th>\n",
       "      <th>AgeOfPolicyHolder</th>\n",
       "      <th>Age_Bracket</th>\n",
       "    </tr>\n",
       "  </thead>\n",
       "  <tbody>\n",
       "    <tr>\n",
       "      <th>0</th>\n",
       "      <td>21.0</td>\n",
       "      <td>26 to 30</td>\n",
       "      <td>21 to 25</td>\n",
       "    </tr>\n",
       "    <tr>\n",
       "      <th>1</th>\n",
       "      <td>34.0</td>\n",
       "      <td>31 to 35</td>\n",
       "      <td>31 to 35</td>\n",
       "    </tr>\n",
       "    <tr>\n",
       "      <th>2</th>\n",
       "      <td>47.0</td>\n",
       "      <td>41 to 50</td>\n",
       "      <td>41 to 50</td>\n",
       "    </tr>\n",
       "    <tr>\n",
       "      <th>3</th>\n",
       "      <td>65.0</td>\n",
       "      <td>51 to 65</td>\n",
       "      <td>51 to 65</td>\n",
       "    </tr>\n",
       "    <tr>\n",
       "      <th>4</th>\n",
       "      <td>27.0</td>\n",
       "      <td>31 to 35</td>\n",
       "      <td>26 to 30</td>\n",
       "    </tr>\n",
       "    <tr>\n",
       "      <th>5</th>\n",
       "      <td>20.0</td>\n",
       "      <td>21 to 25</td>\n",
       "      <td>18 to 20</td>\n",
       "    </tr>\n",
       "    <tr>\n",
       "      <th>6</th>\n",
       "      <td>36.0</td>\n",
       "      <td>36 to 40</td>\n",
       "      <td>36 to 40</td>\n",
       "    </tr>\n",
       "    <tr>\n",
       "      <th>7</th>\n",
       "      <td>39.0</td>\n",
       "      <td>16 to 17</td>\n",
       "      <td>36 to 40</td>\n",
       "    </tr>\n",
       "    <tr>\n",
       "      <th>8</th>\n",
       "      <td>30.0</td>\n",
       "      <td>31 to 35</td>\n",
       "      <td>26 to 30</td>\n",
       "    </tr>\n",
       "    <tr>\n",
       "      <th>9</th>\n",
       "      <td>42.0</td>\n",
       "      <td>36 to 40</td>\n",
       "      <td>41 to 50</td>\n",
       "    </tr>\n",
       "  </tbody>\n",
       "</table>\n",
       "</div>\n",
       "    <div class=\"colab-df-buttons\">\n",
       "\n",
       "  <div class=\"colab-df-container\">\n",
       "    <button class=\"colab-df-convert\" onclick=\"convertToInteractive('df-bbb2930e-2506-43fd-8936-d33dcd1de4e5')\"\n",
       "            title=\"Convert this dataframe to an interactive table.\"\n",
       "            style=\"display:none;\">\n",
       "\n",
       "  <svg xmlns=\"http://www.w3.org/2000/svg\" height=\"24px\" viewBox=\"0 -960 960 960\">\n",
       "    <path d=\"M120-120v-720h720v720H120Zm60-500h600v-160H180v160Zm220 220h160v-160H400v160Zm0 220h160v-160H400v160ZM180-400h160v-160H180v160Zm440 0h160v-160H620v160ZM180-180h160v-160H180v160Zm440 0h160v-160H620v160Z\"/>\n",
       "  </svg>\n",
       "    </button>\n",
       "\n",
       "  <style>\n",
       "    .colab-df-container {\n",
       "      display:flex;\n",
       "      gap: 12px;\n",
       "    }\n",
       "\n",
       "    .colab-df-convert {\n",
       "      background-color: #E8F0FE;\n",
       "      border: none;\n",
       "      border-radius: 50%;\n",
       "      cursor: pointer;\n",
       "      display: none;\n",
       "      fill: #1967D2;\n",
       "      height: 32px;\n",
       "      padding: 0 0 0 0;\n",
       "      width: 32px;\n",
       "    }\n",
       "\n",
       "    .colab-df-convert:hover {\n",
       "      background-color: #E2EBFA;\n",
       "      box-shadow: 0px 1px 2px rgba(60, 64, 67, 0.3), 0px 1px 3px 1px rgba(60, 64, 67, 0.15);\n",
       "      fill: #174EA6;\n",
       "    }\n",
       "\n",
       "    .colab-df-buttons div {\n",
       "      margin-bottom: 4px;\n",
       "    }\n",
       "\n",
       "    [theme=dark] .colab-df-convert {\n",
       "      background-color: #3B4455;\n",
       "      fill: #D2E3FC;\n",
       "    }\n",
       "\n",
       "    [theme=dark] .colab-df-convert:hover {\n",
       "      background-color: #434B5C;\n",
       "      box-shadow: 0px 1px 3px 1px rgba(0, 0, 0, 0.15);\n",
       "      filter: drop-shadow(0px 1px 2px rgba(0, 0, 0, 0.3));\n",
       "      fill: #FFFFFF;\n",
       "    }\n",
       "  </style>\n",
       "\n",
       "    <script>\n",
       "      const buttonEl =\n",
       "        document.querySelector('#df-bbb2930e-2506-43fd-8936-d33dcd1de4e5 button.colab-df-convert');\n",
       "      buttonEl.style.display =\n",
       "        google.colab.kernel.accessAllowed ? 'block' : 'none';\n",
       "\n",
       "      async function convertToInteractive(key) {\n",
       "        const element = document.querySelector('#df-bbb2930e-2506-43fd-8936-d33dcd1de4e5');\n",
       "        const dataTable =\n",
       "          await google.colab.kernel.invokeFunction('convertToInteractive',\n",
       "                                                    [key], {});\n",
       "        if (!dataTable) return;\n",
       "\n",
       "        const docLinkHtml = 'Like what you see? Visit the ' +\n",
       "          '<a target=\"_blank\" href=https://colab.research.google.com/notebooks/data_table.ipynb>data table notebook</a>'\n",
       "          + ' to learn more about interactive tables.';\n",
       "        element.innerHTML = '';\n",
       "        dataTable['output_type'] = 'display_data';\n",
       "        await google.colab.output.renderOutput(dataTable, element);\n",
       "        const docLink = document.createElement('div');\n",
       "        docLink.innerHTML = docLinkHtml;\n",
       "        element.appendChild(docLink);\n",
       "      }\n",
       "    </script>\n",
       "  </div>\n",
       "\n",
       "\n",
       "<div id=\"df-11c675f3-7567-4f76-9a95-2cac0352671b\">\n",
       "  <button class=\"colab-df-quickchart\" onclick=\"quickchart('df-11c675f3-7567-4f76-9a95-2cac0352671b')\"\n",
       "            title=\"Suggest charts\"\n",
       "            style=\"display:none;\">\n",
       "\n",
       "<svg xmlns=\"http://www.w3.org/2000/svg\" height=\"24px\"viewBox=\"0 0 24 24\"\n",
       "     width=\"24px\">\n",
       "    <g>\n",
       "        <path d=\"M19 3H5c-1.1 0-2 .9-2 2v14c0 1.1.9 2 2 2h14c1.1 0 2-.9 2-2V5c0-1.1-.9-2-2-2zM9 17H7v-7h2v7zm4 0h-2V7h2v10zm4 0h-2v-4h2v4z\"/>\n",
       "    </g>\n",
       "</svg>\n",
       "  </button>\n",
       "\n",
       "<style>\n",
       "  .colab-df-quickchart {\n",
       "      --bg-color: #E8F0FE;\n",
       "      --fill-color: #1967D2;\n",
       "      --hover-bg-color: #E2EBFA;\n",
       "      --hover-fill-color: #174EA6;\n",
       "      --disabled-fill-color: #AAA;\n",
       "      --disabled-bg-color: #DDD;\n",
       "  }\n",
       "\n",
       "  [theme=dark] .colab-df-quickchart {\n",
       "      --bg-color: #3B4455;\n",
       "      --fill-color: #D2E3FC;\n",
       "      --hover-bg-color: #434B5C;\n",
       "      --hover-fill-color: #FFFFFF;\n",
       "      --disabled-bg-color: #3B4455;\n",
       "      --disabled-fill-color: #666;\n",
       "  }\n",
       "\n",
       "  .colab-df-quickchart {\n",
       "    background-color: var(--bg-color);\n",
       "    border: none;\n",
       "    border-radius: 50%;\n",
       "    cursor: pointer;\n",
       "    display: none;\n",
       "    fill: var(--fill-color);\n",
       "    height: 32px;\n",
       "    padding: 0;\n",
       "    width: 32px;\n",
       "  }\n",
       "\n",
       "  .colab-df-quickchart:hover {\n",
       "    background-color: var(--hover-bg-color);\n",
       "    box-shadow: 0 1px 2px rgba(60, 64, 67, 0.3), 0 1px 3px 1px rgba(60, 64, 67, 0.15);\n",
       "    fill: var(--button-hover-fill-color);\n",
       "  }\n",
       "\n",
       "  .colab-df-quickchart-complete:disabled,\n",
       "  .colab-df-quickchart-complete:disabled:hover {\n",
       "    background-color: var(--disabled-bg-color);\n",
       "    fill: var(--disabled-fill-color);\n",
       "    box-shadow: none;\n",
       "  }\n",
       "\n",
       "  .colab-df-spinner {\n",
       "    border: 2px solid var(--fill-color);\n",
       "    border-color: transparent;\n",
       "    border-bottom-color: var(--fill-color);\n",
       "    animation:\n",
       "      spin 1s steps(1) infinite;\n",
       "  }\n",
       "\n",
       "  @keyframes spin {\n",
       "    0% {\n",
       "      border-color: transparent;\n",
       "      border-bottom-color: var(--fill-color);\n",
       "      border-left-color: var(--fill-color);\n",
       "    }\n",
       "    20% {\n",
       "      border-color: transparent;\n",
       "      border-left-color: var(--fill-color);\n",
       "      border-top-color: var(--fill-color);\n",
       "    }\n",
       "    30% {\n",
       "      border-color: transparent;\n",
       "      border-left-color: var(--fill-color);\n",
       "      border-top-color: var(--fill-color);\n",
       "      border-right-color: var(--fill-color);\n",
       "    }\n",
       "    40% {\n",
       "      border-color: transparent;\n",
       "      border-right-color: var(--fill-color);\n",
       "      border-top-color: var(--fill-color);\n",
       "    }\n",
       "    60% {\n",
       "      border-color: transparent;\n",
       "      border-right-color: var(--fill-color);\n",
       "    }\n",
       "    80% {\n",
       "      border-color: transparent;\n",
       "      border-right-color: var(--fill-color);\n",
       "      border-bottom-color: var(--fill-color);\n",
       "    }\n",
       "    90% {\n",
       "      border-color: transparent;\n",
       "      border-bottom-color: var(--fill-color);\n",
       "    }\n",
       "  }\n",
       "</style>\n",
       "\n",
       "  <script>\n",
       "    async function quickchart(key) {\n",
       "      const quickchartButtonEl =\n",
       "        document.querySelector('#' + key + ' button');\n",
       "      quickchartButtonEl.disabled = true;  // To prevent multiple clicks.\n",
       "      quickchartButtonEl.classList.add('colab-df-spinner');\n",
       "      try {\n",
       "        const charts = await google.colab.kernel.invokeFunction(\n",
       "            'suggestCharts', [key], {});\n",
       "      } catch (error) {\n",
       "        console.error('Error during call to suggestCharts:', error);\n",
       "      }\n",
       "      quickchartButtonEl.classList.remove('colab-df-spinner');\n",
       "      quickchartButtonEl.classList.add('colab-df-quickchart-complete');\n",
       "    }\n",
       "    (() => {\n",
       "      let quickchartButtonEl =\n",
       "        document.querySelector('#df-11c675f3-7567-4f76-9a95-2cac0352671b button');\n",
       "      quickchartButtonEl.style.display =\n",
       "        google.colab.kernel.accessAllowed ? 'block' : 'none';\n",
       "    })();\n",
       "  </script>\n",
       "</div>\n",
       "    </div>\n",
       "  </div>\n"
      ],
      "text/plain": [
       "    Age AgeOfPolicyHolder Age_Bracket\n",
       "0  21.0          26 to 30    21 to 25\n",
       "1  34.0          31 to 35    31 to 35\n",
       "2  47.0          41 to 50    41 to 50\n",
       "3  65.0          51 to 65    51 to 65\n",
       "4  27.0          31 to 35    26 to 30\n",
       "5  20.0          21 to 25    18 to 20\n",
       "6  36.0          36 to 40    36 to 40\n",
       "7  39.0          16 to 17    36 to 40\n",
       "8  30.0          31 to 35    26 to 30\n",
       "9  42.0          36 to 40    41 to 50"
      ]
     },
     "execution_count": 16,
     "metadata": {},
     "output_type": "execute_result"
    }
   ],
   "source": [
    "df_fraud[['Age', 'AgeOfPolicyHolder', 'Age_Bracket']].head(10)"
   ]
  },
  {
   "cell_type": "code",
   "execution_count": null,
   "metadata": {
    "colab": {
     "base_uri": "https://localhost:8080/",
     "height": 423
    },
    "executionInfo": {
     "elapsed": 338,
     "status": "ok",
     "timestamp": 1701473277023,
     "user": {
      "displayName": "Yana G.",
      "userId": "05404332677488623640"
     },
     "user_tz": -60
    },
    "id": "axjiIJEgMeRN",
    "outputId": "5b21471c-57cd-4810-c215-b5bb4c6deca8"
   },
   "outputs": [
    {
     "data": {
      "text/html": [
       "\n",
       "  <div id=\"df-2115abfc-9343-4ff4-8be3-631fdb89e028\" class=\"colab-df-container\">\n",
       "    <div>\n",
       "<style scoped>\n",
       "    .dataframe tbody tr th:only-of-type {\n",
       "        vertical-align: middle;\n",
       "    }\n",
       "\n",
       "    .dataframe tbody tr th {\n",
       "        vertical-align: top;\n",
       "    }\n",
       "\n",
       "    .dataframe thead th {\n",
       "        text-align: right;\n",
       "    }\n",
       "</style>\n",
       "<table border=\"1\" class=\"dataframe\">\n",
       "  <thead>\n",
       "    <tr style=\"text-align: right;\">\n",
       "      <th></th>\n",
       "      <th>VehicleCategory</th>\n",
       "      <th>BasePolicy</th>\n",
       "      <th>PolicyType</th>\n",
       "    </tr>\n",
       "  </thead>\n",
       "  <tbody>\n",
       "    <tr>\n",
       "      <th>0</th>\n",
       "      <td>Sport</td>\n",
       "      <td>Liability</td>\n",
       "      <td>Sport - Liability</td>\n",
       "    </tr>\n",
       "    <tr>\n",
       "      <th>1</th>\n",
       "      <td>Sport</td>\n",
       "      <td>Collision</td>\n",
       "      <td>Sport - Collision</td>\n",
       "    </tr>\n",
       "    <tr>\n",
       "      <th>2</th>\n",
       "      <td>Sport</td>\n",
       "      <td>Collision</td>\n",
       "      <td>Sport - Collision</td>\n",
       "    </tr>\n",
       "    <tr>\n",
       "      <th>3</th>\n",
       "      <td>Sport</td>\n",
       "      <td>Liability</td>\n",
       "      <td>Sedan - Liability</td>\n",
       "    </tr>\n",
       "    <tr>\n",
       "      <th>4</th>\n",
       "      <td>Sport</td>\n",
       "      <td>Collision</td>\n",
       "      <td>Sport - Collision</td>\n",
       "    </tr>\n",
       "    <tr>\n",
       "      <th>...</th>\n",
       "      <td>...</td>\n",
       "      <td>...</td>\n",
       "      <td>...</td>\n",
       "    </tr>\n",
       "    <tr>\n",
       "      <th>15402</th>\n",
       "      <td>Sport</td>\n",
       "      <td>Liability</td>\n",
       "      <td>Sedan - Liability</td>\n",
       "    </tr>\n",
       "    <tr>\n",
       "      <th>15407</th>\n",
       "      <td>Sport</td>\n",
       "      <td>Liability</td>\n",
       "      <td>Sedan - Liability</td>\n",
       "    </tr>\n",
       "    <tr>\n",
       "      <th>15412</th>\n",
       "      <td>Sport</td>\n",
       "      <td>Liability</td>\n",
       "      <td>Sedan - Liability</td>\n",
       "    </tr>\n",
       "    <tr>\n",
       "      <th>15413</th>\n",
       "      <td>Sport</td>\n",
       "      <td>Liability</td>\n",
       "      <td>Sedan - Liability</td>\n",
       "    </tr>\n",
       "    <tr>\n",
       "      <th>15416</th>\n",
       "      <td>Sport</td>\n",
       "      <td>Liability</td>\n",
       "      <td>Sedan - Liability</td>\n",
       "    </tr>\n",
       "  </tbody>\n",
       "</table>\n",
       "<p>5358 rows × 3 columns</p>\n",
       "</div>\n",
       "    <div class=\"colab-df-buttons\">\n",
       "\n",
       "  <div class=\"colab-df-container\">\n",
       "    <button class=\"colab-df-convert\" onclick=\"convertToInteractive('df-2115abfc-9343-4ff4-8be3-631fdb89e028')\"\n",
       "            title=\"Convert this dataframe to an interactive table.\"\n",
       "            style=\"display:none;\">\n",
       "\n",
       "  <svg xmlns=\"http://www.w3.org/2000/svg\" height=\"24px\" viewBox=\"0 -960 960 960\">\n",
       "    <path d=\"M120-120v-720h720v720H120Zm60-500h600v-160H180v160Zm220 220h160v-160H400v160Zm0 220h160v-160H400v160ZM180-400h160v-160H180v160Zm440 0h160v-160H620v160ZM180-180h160v-160H180v160Zm440 0h160v-160H620v160Z\"/>\n",
       "  </svg>\n",
       "    </button>\n",
       "\n",
       "  <style>\n",
       "    .colab-df-container {\n",
       "      display:flex;\n",
       "      gap: 12px;\n",
       "    }\n",
       "\n",
       "    .colab-df-convert {\n",
       "      background-color: #E8F0FE;\n",
       "      border: none;\n",
       "      border-radius: 50%;\n",
       "      cursor: pointer;\n",
       "      display: none;\n",
       "      fill: #1967D2;\n",
       "      height: 32px;\n",
       "      padding: 0 0 0 0;\n",
       "      width: 32px;\n",
       "    }\n",
       "\n",
       "    .colab-df-convert:hover {\n",
       "      background-color: #E2EBFA;\n",
       "      box-shadow: 0px 1px 2px rgba(60, 64, 67, 0.3), 0px 1px 3px 1px rgba(60, 64, 67, 0.15);\n",
       "      fill: #174EA6;\n",
       "    }\n",
       "\n",
       "    .colab-df-buttons div {\n",
       "      margin-bottom: 4px;\n",
       "    }\n",
       "\n",
       "    [theme=dark] .colab-df-convert {\n",
       "      background-color: #3B4455;\n",
       "      fill: #D2E3FC;\n",
       "    }\n",
       "\n",
       "    [theme=dark] .colab-df-convert:hover {\n",
       "      background-color: #434B5C;\n",
       "      box-shadow: 0px 1px 3px 1px rgba(0, 0, 0, 0.15);\n",
       "      filter: drop-shadow(0px 1px 2px rgba(0, 0, 0, 0.3));\n",
       "      fill: #FFFFFF;\n",
       "    }\n",
       "  </style>\n",
       "\n",
       "    <script>\n",
       "      const buttonEl =\n",
       "        document.querySelector('#df-2115abfc-9343-4ff4-8be3-631fdb89e028 button.colab-df-convert');\n",
       "      buttonEl.style.display =\n",
       "        google.colab.kernel.accessAllowed ? 'block' : 'none';\n",
       "\n",
       "      async function convertToInteractive(key) {\n",
       "        const element = document.querySelector('#df-2115abfc-9343-4ff4-8be3-631fdb89e028');\n",
       "        const dataTable =\n",
       "          await google.colab.kernel.invokeFunction('convertToInteractive',\n",
       "                                                    [key], {});\n",
       "        if (!dataTable) return;\n",
       "\n",
       "        const docLinkHtml = 'Like what you see? Visit the ' +\n",
       "          '<a target=\"_blank\" href=https://colab.research.google.com/notebooks/data_table.ipynb>data table notebook</a>'\n",
       "          + ' to learn more about interactive tables.';\n",
       "        element.innerHTML = '';\n",
       "        dataTable['output_type'] = 'display_data';\n",
       "        await google.colab.output.renderOutput(dataTable, element);\n",
       "        const docLink = document.createElement('div');\n",
       "        docLink.innerHTML = docLinkHtml;\n",
       "        element.appendChild(docLink);\n",
       "      }\n",
       "    </script>\n",
       "  </div>\n",
       "\n",
       "\n",
       "<div id=\"df-e5002097-0f2e-4b86-9f8c-46f1c7d50f6d\">\n",
       "  <button class=\"colab-df-quickchart\" onclick=\"quickchart('df-e5002097-0f2e-4b86-9f8c-46f1c7d50f6d')\"\n",
       "            title=\"Suggest charts\"\n",
       "            style=\"display:none;\">\n",
       "\n",
       "<svg xmlns=\"http://www.w3.org/2000/svg\" height=\"24px\"viewBox=\"0 0 24 24\"\n",
       "     width=\"24px\">\n",
       "    <g>\n",
       "        <path d=\"M19 3H5c-1.1 0-2 .9-2 2v14c0 1.1.9 2 2 2h14c1.1 0 2-.9 2-2V5c0-1.1-.9-2-2-2zM9 17H7v-7h2v7zm4 0h-2V7h2v10zm4 0h-2v-4h2v4z\"/>\n",
       "    </g>\n",
       "</svg>\n",
       "  </button>\n",
       "\n",
       "<style>\n",
       "  .colab-df-quickchart {\n",
       "      --bg-color: #E8F0FE;\n",
       "      --fill-color: #1967D2;\n",
       "      --hover-bg-color: #E2EBFA;\n",
       "      --hover-fill-color: #174EA6;\n",
       "      --disabled-fill-color: #AAA;\n",
       "      --disabled-bg-color: #DDD;\n",
       "  }\n",
       "\n",
       "  [theme=dark] .colab-df-quickchart {\n",
       "      --bg-color: #3B4455;\n",
       "      --fill-color: #D2E3FC;\n",
       "      --hover-bg-color: #434B5C;\n",
       "      --hover-fill-color: #FFFFFF;\n",
       "      --disabled-bg-color: #3B4455;\n",
       "      --disabled-fill-color: #666;\n",
       "  }\n",
       "\n",
       "  .colab-df-quickchart {\n",
       "    background-color: var(--bg-color);\n",
       "    border: none;\n",
       "    border-radius: 50%;\n",
       "    cursor: pointer;\n",
       "    display: none;\n",
       "    fill: var(--fill-color);\n",
       "    height: 32px;\n",
       "    padding: 0;\n",
       "    width: 32px;\n",
       "  }\n",
       "\n",
       "  .colab-df-quickchart:hover {\n",
       "    background-color: var(--hover-bg-color);\n",
       "    box-shadow: 0 1px 2px rgba(60, 64, 67, 0.3), 0 1px 3px 1px rgba(60, 64, 67, 0.15);\n",
       "    fill: var(--button-hover-fill-color);\n",
       "  }\n",
       "\n",
       "  .colab-df-quickchart-complete:disabled,\n",
       "  .colab-df-quickchart-complete:disabled:hover {\n",
       "    background-color: var(--disabled-bg-color);\n",
       "    fill: var(--disabled-fill-color);\n",
       "    box-shadow: none;\n",
       "  }\n",
       "\n",
       "  .colab-df-spinner {\n",
       "    border: 2px solid var(--fill-color);\n",
       "    border-color: transparent;\n",
       "    border-bottom-color: var(--fill-color);\n",
       "    animation:\n",
       "      spin 1s steps(1) infinite;\n",
       "  }\n",
       "\n",
       "  @keyframes spin {\n",
       "    0% {\n",
       "      border-color: transparent;\n",
       "      border-bottom-color: var(--fill-color);\n",
       "      border-left-color: var(--fill-color);\n",
       "    }\n",
       "    20% {\n",
       "      border-color: transparent;\n",
       "      border-left-color: var(--fill-color);\n",
       "      border-top-color: var(--fill-color);\n",
       "    }\n",
       "    30% {\n",
       "      border-color: transparent;\n",
       "      border-left-color: var(--fill-color);\n",
       "      border-top-color: var(--fill-color);\n",
       "      border-right-color: var(--fill-color);\n",
       "    }\n",
       "    40% {\n",
       "      border-color: transparent;\n",
       "      border-right-color: var(--fill-color);\n",
       "      border-top-color: var(--fill-color);\n",
       "    }\n",
       "    60% {\n",
       "      border-color: transparent;\n",
       "      border-right-color: var(--fill-color);\n",
       "    }\n",
       "    80% {\n",
       "      border-color: transparent;\n",
       "      border-right-color: var(--fill-color);\n",
       "      border-bottom-color: var(--fill-color);\n",
       "    }\n",
       "    90% {\n",
       "      border-color: transparent;\n",
       "      border-bottom-color: var(--fill-color);\n",
       "    }\n",
       "  }\n",
       "</style>\n",
       "\n",
       "  <script>\n",
       "    async function quickchart(key) {\n",
       "      const quickchartButtonEl =\n",
       "        document.querySelector('#' + key + ' button');\n",
       "      quickchartButtonEl.disabled = true;  // To prevent multiple clicks.\n",
       "      quickchartButtonEl.classList.add('colab-df-spinner');\n",
       "      try {\n",
       "        const charts = await google.colab.kernel.invokeFunction(\n",
       "            'suggestCharts', [key], {});\n",
       "      } catch (error) {\n",
       "        console.error('Error during call to suggestCharts:', error);\n",
       "      }\n",
       "      quickchartButtonEl.classList.remove('colab-df-spinner');\n",
       "      quickchartButtonEl.classList.add('colab-df-quickchart-complete');\n",
       "    }\n",
       "    (() => {\n",
       "      let quickchartButtonEl =\n",
       "        document.querySelector('#df-e5002097-0f2e-4b86-9f8c-46f1c7d50f6d button');\n",
       "      quickchartButtonEl.style.display =\n",
       "        google.colab.kernel.accessAllowed ? 'block' : 'none';\n",
       "    })();\n",
       "  </script>\n",
       "</div>\n",
       "    </div>\n",
       "  </div>\n"
      ],
      "text/plain": [
       "      VehicleCategory BasePolicy         PolicyType\n",
       "0               Sport  Liability  Sport - Liability\n",
       "1               Sport  Collision  Sport - Collision\n",
       "2               Sport  Collision  Sport - Collision\n",
       "3               Sport  Liability  Sedan - Liability\n",
       "4               Sport  Collision  Sport - Collision\n",
       "...               ...        ...                ...\n",
       "15402           Sport  Liability  Sedan - Liability\n",
       "15407           Sport  Liability  Sedan - Liability\n",
       "15412           Sport  Liability  Sedan - Liability\n",
       "15413           Sport  Liability  Sedan - Liability\n",
       "15416           Sport  Liability  Sedan - Liability\n",
       "\n",
       "[5358 rows x 3 columns]"
      ]
     },
     "execution_count": 17,
     "metadata": {},
     "output_type": "execute_result"
    }
   ],
   "source": [
    "# exploring similar columns ['BasePolicy','PolicyType', 'VehicleCategory']\n",
    "\n",
    "df_fraud[df_fraud['VehicleCategory'] == 'Sport'][['VehicleCategory', 'BasePolicy', 'PolicyType']]\n",
    "\n"
   ]
  },
  {
   "cell_type": "code",
   "execution_count": null,
   "metadata": {
    "id": "O8MEtw_KaVRt"
   },
   "outputs": [],
   "source": [
    "# creating a new variable that is a combo of VehicleCategory' and 'BasePolicy'\n",
    "# we are assuming its actually different from 'PolicyType' so we are keeping that one too\n",
    "\n",
    "df_fraud['VehicleCategory_BasePolicy'] = df_fraud['VehicleCategory'] + ' - ' + df_fraud['BasePolicy']"
   ]
  },
  {
   "cell_type": "code",
   "execution_count": null,
   "metadata": {
    "id": "z1KF6OERep0c"
   },
   "outputs": [],
   "source": [
    "# dropping the old ''PolicyType':\n",
    "#df_fraud['PolicyType_New'] = df_fraud['VehicleCategory'] + ' - ' + df_fraud['BasePolicy']\n",
    "#df_fraud = df_fraud.drop(['PolicyType'], axis = 1)"
   ]
  },
  {
   "cell_type": "code",
   "execution_count": null,
   "metadata": {
    "id": "s-zt1hvf86Nm"
   },
   "outputs": [],
   "source": [
    "# dropping other irrelevant columns\n",
    "df_fraud = df_fraud.drop(['PolicyNumber'], axis = 1)\n",
    " #'DayOfWeekClaimed', 'MonthClaimed', 'Year', 'AgeOfPolicyHolder', 'Month', 'WeekOfMonth', 'WeekOfMonthClaimed',\n"
   ]
  },
  {
   "cell_type": "code",
   "execution_count": null,
   "metadata": {
    "colab": {
     "base_uri": "https://localhost:8080/",
     "height": 255
    },
    "executionInfo": {
     "elapsed": 317,
     "status": "ok",
     "timestamp": 1701473277024,
     "user": {
      "displayName": "Yana G.",
      "userId": "05404332677488623640"
     },
     "user_tz": -60
    },
    "id": "O9o0yT-VZR3S",
    "outputId": "3036c54d-cf85-4a82-f7b3-b223db600253"
   },
   "outputs": [
    {
     "data": {
      "text/html": [
       "\n",
       "  <div id=\"df-ef991720-c937-47cd-beda-16e69b95e60c\" class=\"colab-df-container\">\n",
       "    <div>\n",
       "<style scoped>\n",
       "    .dataframe tbody tr th:only-of-type {\n",
       "        vertical-align: middle;\n",
       "    }\n",
       "\n",
       "    .dataframe tbody tr th {\n",
       "        vertical-align: top;\n",
       "    }\n",
       "\n",
       "    .dataframe thead th {\n",
       "        text-align: right;\n",
       "    }\n",
       "</style>\n",
       "<table border=\"1\" class=\"dataframe\">\n",
       "  <thead>\n",
       "    <tr style=\"text-align: right;\">\n",
       "      <th></th>\n",
       "      <th>Month</th>\n",
       "      <th>WeekOfMonth</th>\n",
       "      <th>DayOfWeek</th>\n",
       "      <th>Make</th>\n",
       "      <th>AccidentArea</th>\n",
       "      <th>DayOfWeekClaimed</th>\n",
       "      <th>MonthClaimed</th>\n",
       "      <th>WeekOfMonthClaimed</th>\n",
       "      <th>Sex</th>\n",
       "      <th>MaritalStatus</th>\n",
       "      <th>...</th>\n",
       "      <th>PoliceReportFiled</th>\n",
       "      <th>WitnessPresent</th>\n",
       "      <th>AgentType</th>\n",
       "      <th>NumberOfSuppliments</th>\n",
       "      <th>AddressChange_Claim</th>\n",
       "      <th>NumberOfCars</th>\n",
       "      <th>Year</th>\n",
       "      <th>BasePolicy</th>\n",
       "      <th>Age_Bracket</th>\n",
       "      <th>VehicleCategory_BasePolicy</th>\n",
       "    </tr>\n",
       "  </thead>\n",
       "  <tbody>\n",
       "    <tr>\n",
       "      <th>0</th>\n",
       "      <td>Dec</td>\n",
       "      <td>5</td>\n",
       "      <td>Wednesday</td>\n",
       "      <td>Honda</td>\n",
       "      <td>Urban</td>\n",
       "      <td>Tuesday</td>\n",
       "      <td>Jan</td>\n",
       "      <td>1</td>\n",
       "      <td>Female</td>\n",
       "      <td>Single</td>\n",
       "      <td>...</td>\n",
       "      <td>No</td>\n",
       "      <td>No</td>\n",
       "      <td>External</td>\n",
       "      <td>none</td>\n",
       "      <td>1 year</td>\n",
       "      <td>3 to 4</td>\n",
       "      <td>1994</td>\n",
       "      <td>Liability</td>\n",
       "      <td>21 to 25</td>\n",
       "      <td>Sport - Liability</td>\n",
       "    </tr>\n",
       "    <tr>\n",
       "      <th>1</th>\n",
       "      <td>Jan</td>\n",
       "      <td>3</td>\n",
       "      <td>Wednesday</td>\n",
       "      <td>Honda</td>\n",
       "      <td>Urban</td>\n",
       "      <td>Monday</td>\n",
       "      <td>Jan</td>\n",
       "      <td>4</td>\n",
       "      <td>Male</td>\n",
       "      <td>Single</td>\n",
       "      <td>...</td>\n",
       "      <td>Yes</td>\n",
       "      <td>No</td>\n",
       "      <td>External</td>\n",
       "      <td>none</td>\n",
       "      <td>no change</td>\n",
       "      <td>1 vehicle</td>\n",
       "      <td>1994</td>\n",
       "      <td>Collision</td>\n",
       "      <td>31 to 35</td>\n",
       "      <td>Sport - Collision</td>\n",
       "    </tr>\n",
       "    <tr>\n",
       "      <th>2</th>\n",
       "      <td>Oct</td>\n",
       "      <td>5</td>\n",
       "      <td>Friday</td>\n",
       "      <td>Honda</td>\n",
       "      <td>Urban</td>\n",
       "      <td>Thursday</td>\n",
       "      <td>Nov</td>\n",
       "      <td>2</td>\n",
       "      <td>Male</td>\n",
       "      <td>Married</td>\n",
       "      <td>...</td>\n",
       "      <td>No</td>\n",
       "      <td>No</td>\n",
       "      <td>External</td>\n",
       "      <td>none</td>\n",
       "      <td>no change</td>\n",
       "      <td>1 vehicle</td>\n",
       "      <td>1994</td>\n",
       "      <td>Collision</td>\n",
       "      <td>41 to 50</td>\n",
       "      <td>Sport - Collision</td>\n",
       "    </tr>\n",
       "    <tr>\n",
       "      <th>3</th>\n",
       "      <td>Jun</td>\n",
       "      <td>2</td>\n",
       "      <td>Saturday</td>\n",
       "      <td>Toyota</td>\n",
       "      <td>Rural</td>\n",
       "      <td>Friday</td>\n",
       "      <td>Jul</td>\n",
       "      <td>1</td>\n",
       "      <td>Male</td>\n",
       "      <td>Married</td>\n",
       "      <td>...</td>\n",
       "      <td>Yes</td>\n",
       "      <td>No</td>\n",
       "      <td>External</td>\n",
       "      <td>more than 5</td>\n",
       "      <td>no change</td>\n",
       "      <td>1 vehicle</td>\n",
       "      <td>1994</td>\n",
       "      <td>Liability</td>\n",
       "      <td>51 to 65</td>\n",
       "      <td>Sport - Liability</td>\n",
       "    </tr>\n",
       "    <tr>\n",
       "      <th>4</th>\n",
       "      <td>Jan</td>\n",
       "      <td>5</td>\n",
       "      <td>Monday</td>\n",
       "      <td>Honda</td>\n",
       "      <td>Urban</td>\n",
       "      <td>Tuesday</td>\n",
       "      <td>Feb</td>\n",
       "      <td>2</td>\n",
       "      <td>Female</td>\n",
       "      <td>Single</td>\n",
       "      <td>...</td>\n",
       "      <td>No</td>\n",
       "      <td>No</td>\n",
       "      <td>External</td>\n",
       "      <td>none</td>\n",
       "      <td>no change</td>\n",
       "      <td>1 vehicle</td>\n",
       "      <td>1994</td>\n",
       "      <td>Collision</td>\n",
       "      <td>26 to 30</td>\n",
       "      <td>Sport - Collision</td>\n",
       "    </tr>\n",
       "  </tbody>\n",
       "</table>\n",
       "<p>5 rows × 34 columns</p>\n",
       "</div>\n",
       "    <div class=\"colab-df-buttons\">\n",
       "\n",
       "  <div class=\"colab-df-container\">\n",
       "    <button class=\"colab-df-convert\" onclick=\"convertToInteractive('df-ef991720-c937-47cd-beda-16e69b95e60c')\"\n",
       "            title=\"Convert this dataframe to an interactive table.\"\n",
       "            style=\"display:none;\">\n",
       "\n",
       "  <svg xmlns=\"http://www.w3.org/2000/svg\" height=\"24px\" viewBox=\"0 -960 960 960\">\n",
       "    <path d=\"M120-120v-720h720v720H120Zm60-500h600v-160H180v160Zm220 220h160v-160H400v160Zm0 220h160v-160H400v160ZM180-400h160v-160H180v160Zm440 0h160v-160H620v160ZM180-180h160v-160H180v160Zm440 0h160v-160H620v160Z\"/>\n",
       "  </svg>\n",
       "    </button>\n",
       "\n",
       "  <style>\n",
       "    .colab-df-container {\n",
       "      display:flex;\n",
       "      gap: 12px;\n",
       "    }\n",
       "\n",
       "    .colab-df-convert {\n",
       "      background-color: #E8F0FE;\n",
       "      border: none;\n",
       "      border-radius: 50%;\n",
       "      cursor: pointer;\n",
       "      display: none;\n",
       "      fill: #1967D2;\n",
       "      height: 32px;\n",
       "      padding: 0 0 0 0;\n",
       "      width: 32px;\n",
       "    }\n",
       "\n",
       "    .colab-df-convert:hover {\n",
       "      background-color: #E2EBFA;\n",
       "      box-shadow: 0px 1px 2px rgba(60, 64, 67, 0.3), 0px 1px 3px 1px rgba(60, 64, 67, 0.15);\n",
       "      fill: #174EA6;\n",
       "    }\n",
       "\n",
       "    .colab-df-buttons div {\n",
       "      margin-bottom: 4px;\n",
       "    }\n",
       "\n",
       "    [theme=dark] .colab-df-convert {\n",
       "      background-color: #3B4455;\n",
       "      fill: #D2E3FC;\n",
       "    }\n",
       "\n",
       "    [theme=dark] .colab-df-convert:hover {\n",
       "      background-color: #434B5C;\n",
       "      box-shadow: 0px 1px 3px 1px rgba(0, 0, 0, 0.15);\n",
       "      filter: drop-shadow(0px 1px 2px rgba(0, 0, 0, 0.3));\n",
       "      fill: #FFFFFF;\n",
       "    }\n",
       "  </style>\n",
       "\n",
       "    <script>\n",
       "      const buttonEl =\n",
       "        document.querySelector('#df-ef991720-c937-47cd-beda-16e69b95e60c button.colab-df-convert');\n",
       "      buttonEl.style.display =\n",
       "        google.colab.kernel.accessAllowed ? 'block' : 'none';\n",
       "\n",
       "      async function convertToInteractive(key) {\n",
       "        const element = document.querySelector('#df-ef991720-c937-47cd-beda-16e69b95e60c');\n",
       "        const dataTable =\n",
       "          await google.colab.kernel.invokeFunction('convertToInteractive',\n",
       "                                                    [key], {});\n",
       "        if (!dataTable) return;\n",
       "\n",
       "        const docLinkHtml = 'Like what you see? Visit the ' +\n",
       "          '<a target=\"_blank\" href=https://colab.research.google.com/notebooks/data_table.ipynb>data table notebook</a>'\n",
       "          + ' to learn more about interactive tables.';\n",
       "        element.innerHTML = '';\n",
       "        dataTable['output_type'] = 'display_data';\n",
       "        await google.colab.output.renderOutput(dataTable, element);\n",
       "        const docLink = document.createElement('div');\n",
       "        docLink.innerHTML = docLinkHtml;\n",
       "        element.appendChild(docLink);\n",
       "      }\n",
       "    </script>\n",
       "  </div>\n",
       "\n",
       "\n",
       "<div id=\"df-7f0ffd4a-3324-4b7b-83a4-c2098c6e0531\">\n",
       "  <button class=\"colab-df-quickchart\" onclick=\"quickchart('df-7f0ffd4a-3324-4b7b-83a4-c2098c6e0531')\"\n",
       "            title=\"Suggest charts\"\n",
       "            style=\"display:none;\">\n",
       "\n",
       "<svg xmlns=\"http://www.w3.org/2000/svg\" height=\"24px\"viewBox=\"0 0 24 24\"\n",
       "     width=\"24px\">\n",
       "    <g>\n",
       "        <path d=\"M19 3H5c-1.1 0-2 .9-2 2v14c0 1.1.9 2 2 2h14c1.1 0 2-.9 2-2V5c0-1.1-.9-2-2-2zM9 17H7v-7h2v7zm4 0h-2V7h2v10zm4 0h-2v-4h2v4z\"/>\n",
       "    </g>\n",
       "</svg>\n",
       "  </button>\n",
       "\n",
       "<style>\n",
       "  .colab-df-quickchart {\n",
       "      --bg-color: #E8F0FE;\n",
       "      --fill-color: #1967D2;\n",
       "      --hover-bg-color: #E2EBFA;\n",
       "      --hover-fill-color: #174EA6;\n",
       "      --disabled-fill-color: #AAA;\n",
       "      --disabled-bg-color: #DDD;\n",
       "  }\n",
       "\n",
       "  [theme=dark] .colab-df-quickchart {\n",
       "      --bg-color: #3B4455;\n",
       "      --fill-color: #D2E3FC;\n",
       "      --hover-bg-color: #434B5C;\n",
       "      --hover-fill-color: #FFFFFF;\n",
       "      --disabled-bg-color: #3B4455;\n",
       "      --disabled-fill-color: #666;\n",
       "  }\n",
       "\n",
       "  .colab-df-quickchart {\n",
       "    background-color: var(--bg-color);\n",
       "    border: none;\n",
       "    border-radius: 50%;\n",
       "    cursor: pointer;\n",
       "    display: none;\n",
       "    fill: var(--fill-color);\n",
       "    height: 32px;\n",
       "    padding: 0;\n",
       "    width: 32px;\n",
       "  }\n",
       "\n",
       "  .colab-df-quickchart:hover {\n",
       "    background-color: var(--hover-bg-color);\n",
       "    box-shadow: 0 1px 2px rgba(60, 64, 67, 0.3), 0 1px 3px 1px rgba(60, 64, 67, 0.15);\n",
       "    fill: var(--button-hover-fill-color);\n",
       "  }\n",
       "\n",
       "  .colab-df-quickchart-complete:disabled,\n",
       "  .colab-df-quickchart-complete:disabled:hover {\n",
       "    background-color: var(--disabled-bg-color);\n",
       "    fill: var(--disabled-fill-color);\n",
       "    box-shadow: none;\n",
       "  }\n",
       "\n",
       "  .colab-df-spinner {\n",
       "    border: 2px solid var(--fill-color);\n",
       "    border-color: transparent;\n",
       "    border-bottom-color: var(--fill-color);\n",
       "    animation:\n",
       "      spin 1s steps(1) infinite;\n",
       "  }\n",
       "\n",
       "  @keyframes spin {\n",
       "    0% {\n",
       "      border-color: transparent;\n",
       "      border-bottom-color: var(--fill-color);\n",
       "      border-left-color: var(--fill-color);\n",
       "    }\n",
       "    20% {\n",
       "      border-color: transparent;\n",
       "      border-left-color: var(--fill-color);\n",
       "      border-top-color: var(--fill-color);\n",
       "    }\n",
       "    30% {\n",
       "      border-color: transparent;\n",
       "      border-left-color: var(--fill-color);\n",
       "      border-top-color: var(--fill-color);\n",
       "      border-right-color: var(--fill-color);\n",
       "    }\n",
       "    40% {\n",
       "      border-color: transparent;\n",
       "      border-right-color: var(--fill-color);\n",
       "      border-top-color: var(--fill-color);\n",
       "    }\n",
       "    60% {\n",
       "      border-color: transparent;\n",
       "      border-right-color: var(--fill-color);\n",
       "    }\n",
       "    80% {\n",
       "      border-color: transparent;\n",
       "      border-right-color: var(--fill-color);\n",
       "      border-bottom-color: var(--fill-color);\n",
       "    }\n",
       "    90% {\n",
       "      border-color: transparent;\n",
       "      border-bottom-color: var(--fill-color);\n",
       "    }\n",
       "  }\n",
       "</style>\n",
       "\n",
       "  <script>\n",
       "    async function quickchart(key) {\n",
       "      const quickchartButtonEl =\n",
       "        document.querySelector('#' + key + ' button');\n",
       "      quickchartButtonEl.disabled = true;  // To prevent multiple clicks.\n",
       "      quickchartButtonEl.classList.add('colab-df-spinner');\n",
       "      try {\n",
       "        const charts = await google.colab.kernel.invokeFunction(\n",
       "            'suggestCharts', [key], {});\n",
       "      } catch (error) {\n",
       "        console.error('Error during call to suggestCharts:', error);\n",
       "      }\n",
       "      quickchartButtonEl.classList.remove('colab-df-spinner');\n",
       "      quickchartButtonEl.classList.add('colab-df-quickchart-complete');\n",
       "    }\n",
       "    (() => {\n",
       "      let quickchartButtonEl =\n",
       "        document.querySelector('#df-7f0ffd4a-3324-4b7b-83a4-c2098c6e0531 button');\n",
       "      quickchartButtonEl.style.display =\n",
       "        google.colab.kernel.accessAllowed ? 'block' : 'none';\n",
       "    })();\n",
       "  </script>\n",
       "</div>\n",
       "    </div>\n",
       "  </div>\n"
      ],
      "text/plain": [
       "  Month  WeekOfMonth  DayOfWeek    Make AccidentArea DayOfWeekClaimed  \\\n",
       "0   Dec            5  Wednesday   Honda        Urban          Tuesday   \n",
       "1   Jan            3  Wednesday   Honda        Urban           Monday   \n",
       "2   Oct            5     Friday   Honda        Urban         Thursday   \n",
       "3   Jun            2   Saturday  Toyota        Rural           Friday   \n",
       "4   Jan            5     Monday   Honda        Urban          Tuesday   \n",
       "\n",
       "  MonthClaimed  WeekOfMonthClaimed     Sex MaritalStatus  ...  \\\n",
       "0          Jan                   1  Female        Single  ...   \n",
       "1          Jan                   4    Male        Single  ...   \n",
       "2          Nov                   2    Male       Married  ...   \n",
       "3          Jul                   1    Male       Married  ...   \n",
       "4          Feb                   2  Female        Single  ...   \n",
       "\n",
       "   PoliceReportFiled WitnessPresent AgentType NumberOfSuppliments  \\\n",
       "0                 No             No  External                none   \n",
       "1                Yes             No  External                none   \n",
       "2                 No             No  External                none   \n",
       "3                Yes             No  External         more than 5   \n",
       "4                 No             No  External                none   \n",
       "\n",
       "  AddressChange_Claim  NumberOfCars  Year  BasePolicy  Age_Bracket  \\\n",
       "0              1 year        3 to 4  1994   Liability     21 to 25   \n",
       "1           no change     1 vehicle  1994   Collision     31 to 35   \n",
       "2           no change     1 vehicle  1994   Collision     41 to 50   \n",
       "3           no change     1 vehicle  1994   Liability     51 to 65   \n",
       "4           no change     1 vehicle  1994   Collision     26 to 30   \n",
       "\n",
       "  VehicleCategory_BasePolicy  \n",
       "0          Sport - Liability  \n",
       "1          Sport - Collision  \n",
       "2          Sport - Collision  \n",
       "3          Sport - Liability  \n",
       "4          Sport - Collision  \n",
       "\n",
       "[5 rows x 34 columns]"
      ]
     },
     "execution_count": 21,
     "metadata": {},
     "output_type": "execute_result"
    }
   ],
   "source": [
    "df_fraud.head()"
   ]
  },
  {
   "cell_type": "code",
   "execution_count": null,
   "metadata": {
    "id": "-uDqfg7N-Svc"
   },
   "outputs": [],
   "source": [
    "# converting numerical to categorical varialbes. Leaving FraudFound_P as is.\n",
    "df_fraud[['Deductible', 'DriverRating', 'WeekOfMonth', 'WeekOfMonthClaimed', 'Year', 'RepNumber']] = \\\n",
    "df_fraud[['Deductible', 'DriverRating', 'WeekOfMonth', 'WeekOfMonthClaimed', 'Year', 'RepNumber']].astype(str)\n"
   ]
  },
  {
   "cell_type": "code",
   "execution_count": null,
   "metadata": {
    "colab": {
     "base_uri": "https://localhost:8080/",
     "height": 206
    },
    "executionInfo": {
     "elapsed": 314,
     "status": "ok",
     "timestamp": 1701473277025,
     "user": {
      "displayName": "Yana G.",
      "userId": "05404332677488623640"
     },
     "user_tz": -60
    },
    "id": "z0Q0zWVpDy4y",
    "outputId": "7f2e1bf8-987d-47c7-b817-652506ce09ef"
   },
   "outputs": [
    {
     "data": {
      "text/html": [
       "\n",
       "  <div id=\"df-01ac4cae-8a6d-4541-83ed-712727be0273\" class=\"colab-df-container\">\n",
       "    <div>\n",
       "<style scoped>\n",
       "    .dataframe tbody tr th:only-of-type {\n",
       "        vertical-align: middle;\n",
       "    }\n",
       "\n",
       "    .dataframe tbody tr th {\n",
       "        vertical-align: top;\n",
       "    }\n",
       "\n",
       "    .dataframe thead th {\n",
       "        text-align: right;\n",
       "    }\n",
       "</style>\n",
       "<table border=\"1\" class=\"dataframe\">\n",
       "  <thead>\n",
       "    <tr style=\"text-align: right;\">\n",
       "      <th></th>\n",
       "      <th>FraudFound_P</th>\n",
       "    </tr>\n",
       "  </thead>\n",
       "  <tbody>\n",
       "    <tr>\n",
       "      <th>0</th>\n",
       "      <td>0</td>\n",
       "    </tr>\n",
       "    <tr>\n",
       "      <th>1</th>\n",
       "      <td>0</td>\n",
       "    </tr>\n",
       "    <tr>\n",
       "      <th>2</th>\n",
       "      <td>0</td>\n",
       "    </tr>\n",
       "    <tr>\n",
       "      <th>3</th>\n",
       "      <td>0</td>\n",
       "    </tr>\n",
       "    <tr>\n",
       "      <th>4</th>\n",
       "      <td>0</td>\n",
       "    </tr>\n",
       "  </tbody>\n",
       "</table>\n",
       "</div>\n",
       "    <div class=\"colab-df-buttons\">\n",
       "\n",
       "  <div class=\"colab-df-container\">\n",
       "    <button class=\"colab-df-convert\" onclick=\"convertToInteractive('df-01ac4cae-8a6d-4541-83ed-712727be0273')\"\n",
       "            title=\"Convert this dataframe to an interactive table.\"\n",
       "            style=\"display:none;\">\n",
       "\n",
       "  <svg xmlns=\"http://www.w3.org/2000/svg\" height=\"24px\" viewBox=\"0 -960 960 960\">\n",
       "    <path d=\"M120-120v-720h720v720H120Zm60-500h600v-160H180v160Zm220 220h160v-160H400v160Zm0 220h160v-160H400v160ZM180-400h160v-160H180v160Zm440 0h160v-160H620v160ZM180-180h160v-160H180v160Zm440 0h160v-160H620v160Z\"/>\n",
       "  </svg>\n",
       "    </button>\n",
       "\n",
       "  <style>\n",
       "    .colab-df-container {\n",
       "      display:flex;\n",
       "      gap: 12px;\n",
       "    }\n",
       "\n",
       "    .colab-df-convert {\n",
       "      background-color: #E8F0FE;\n",
       "      border: none;\n",
       "      border-radius: 50%;\n",
       "      cursor: pointer;\n",
       "      display: none;\n",
       "      fill: #1967D2;\n",
       "      height: 32px;\n",
       "      padding: 0 0 0 0;\n",
       "      width: 32px;\n",
       "    }\n",
       "\n",
       "    .colab-df-convert:hover {\n",
       "      background-color: #E2EBFA;\n",
       "      box-shadow: 0px 1px 2px rgba(60, 64, 67, 0.3), 0px 1px 3px 1px rgba(60, 64, 67, 0.15);\n",
       "      fill: #174EA6;\n",
       "    }\n",
       "\n",
       "    .colab-df-buttons div {\n",
       "      margin-bottom: 4px;\n",
       "    }\n",
       "\n",
       "    [theme=dark] .colab-df-convert {\n",
       "      background-color: #3B4455;\n",
       "      fill: #D2E3FC;\n",
       "    }\n",
       "\n",
       "    [theme=dark] .colab-df-convert:hover {\n",
       "      background-color: #434B5C;\n",
       "      box-shadow: 0px 1px 3px 1px rgba(0, 0, 0, 0.15);\n",
       "      filter: drop-shadow(0px 1px 2px rgba(0, 0, 0, 0.3));\n",
       "      fill: #FFFFFF;\n",
       "    }\n",
       "  </style>\n",
       "\n",
       "    <script>\n",
       "      const buttonEl =\n",
       "        document.querySelector('#df-01ac4cae-8a6d-4541-83ed-712727be0273 button.colab-df-convert');\n",
       "      buttonEl.style.display =\n",
       "        google.colab.kernel.accessAllowed ? 'block' : 'none';\n",
       "\n",
       "      async function convertToInteractive(key) {\n",
       "        const element = document.querySelector('#df-01ac4cae-8a6d-4541-83ed-712727be0273');\n",
       "        const dataTable =\n",
       "          await google.colab.kernel.invokeFunction('convertToInteractive',\n",
       "                                                    [key], {});\n",
       "        if (!dataTable) return;\n",
       "\n",
       "        const docLinkHtml = 'Like what you see? Visit the ' +\n",
       "          '<a target=\"_blank\" href=https://colab.research.google.com/notebooks/data_table.ipynb>data table notebook</a>'\n",
       "          + ' to learn more about interactive tables.';\n",
       "        element.innerHTML = '';\n",
       "        dataTable['output_type'] = 'display_data';\n",
       "        await google.colab.output.renderOutput(dataTable, element);\n",
       "        const docLink = document.createElement('div');\n",
       "        docLink.innerHTML = docLinkHtml;\n",
       "        element.appendChild(docLink);\n",
       "      }\n",
       "    </script>\n",
       "  </div>\n",
       "\n",
       "\n",
       "<div id=\"df-7014516a-2f8a-4001-a2f7-9946198efc28\">\n",
       "  <button class=\"colab-df-quickchart\" onclick=\"quickchart('df-7014516a-2f8a-4001-a2f7-9946198efc28')\"\n",
       "            title=\"Suggest charts\"\n",
       "            style=\"display:none;\">\n",
       "\n",
       "<svg xmlns=\"http://www.w3.org/2000/svg\" height=\"24px\"viewBox=\"0 0 24 24\"\n",
       "     width=\"24px\">\n",
       "    <g>\n",
       "        <path d=\"M19 3H5c-1.1 0-2 .9-2 2v14c0 1.1.9 2 2 2h14c1.1 0 2-.9 2-2V5c0-1.1-.9-2-2-2zM9 17H7v-7h2v7zm4 0h-2V7h2v10zm4 0h-2v-4h2v4z\"/>\n",
       "    </g>\n",
       "</svg>\n",
       "  </button>\n",
       "\n",
       "<style>\n",
       "  .colab-df-quickchart {\n",
       "      --bg-color: #E8F0FE;\n",
       "      --fill-color: #1967D2;\n",
       "      --hover-bg-color: #E2EBFA;\n",
       "      --hover-fill-color: #174EA6;\n",
       "      --disabled-fill-color: #AAA;\n",
       "      --disabled-bg-color: #DDD;\n",
       "  }\n",
       "\n",
       "  [theme=dark] .colab-df-quickchart {\n",
       "      --bg-color: #3B4455;\n",
       "      --fill-color: #D2E3FC;\n",
       "      --hover-bg-color: #434B5C;\n",
       "      --hover-fill-color: #FFFFFF;\n",
       "      --disabled-bg-color: #3B4455;\n",
       "      --disabled-fill-color: #666;\n",
       "  }\n",
       "\n",
       "  .colab-df-quickchart {\n",
       "    background-color: var(--bg-color);\n",
       "    border: none;\n",
       "    border-radius: 50%;\n",
       "    cursor: pointer;\n",
       "    display: none;\n",
       "    fill: var(--fill-color);\n",
       "    height: 32px;\n",
       "    padding: 0;\n",
       "    width: 32px;\n",
       "  }\n",
       "\n",
       "  .colab-df-quickchart:hover {\n",
       "    background-color: var(--hover-bg-color);\n",
       "    box-shadow: 0 1px 2px rgba(60, 64, 67, 0.3), 0 1px 3px 1px rgba(60, 64, 67, 0.15);\n",
       "    fill: var(--button-hover-fill-color);\n",
       "  }\n",
       "\n",
       "  .colab-df-quickchart-complete:disabled,\n",
       "  .colab-df-quickchart-complete:disabled:hover {\n",
       "    background-color: var(--disabled-bg-color);\n",
       "    fill: var(--disabled-fill-color);\n",
       "    box-shadow: none;\n",
       "  }\n",
       "\n",
       "  .colab-df-spinner {\n",
       "    border: 2px solid var(--fill-color);\n",
       "    border-color: transparent;\n",
       "    border-bottom-color: var(--fill-color);\n",
       "    animation:\n",
       "      spin 1s steps(1) infinite;\n",
       "  }\n",
       "\n",
       "  @keyframes spin {\n",
       "    0% {\n",
       "      border-color: transparent;\n",
       "      border-bottom-color: var(--fill-color);\n",
       "      border-left-color: var(--fill-color);\n",
       "    }\n",
       "    20% {\n",
       "      border-color: transparent;\n",
       "      border-left-color: var(--fill-color);\n",
       "      border-top-color: var(--fill-color);\n",
       "    }\n",
       "    30% {\n",
       "      border-color: transparent;\n",
       "      border-left-color: var(--fill-color);\n",
       "      border-top-color: var(--fill-color);\n",
       "      border-right-color: var(--fill-color);\n",
       "    }\n",
       "    40% {\n",
       "      border-color: transparent;\n",
       "      border-right-color: var(--fill-color);\n",
       "      border-top-color: var(--fill-color);\n",
       "    }\n",
       "    60% {\n",
       "      border-color: transparent;\n",
       "      border-right-color: var(--fill-color);\n",
       "    }\n",
       "    80% {\n",
       "      border-color: transparent;\n",
       "      border-right-color: var(--fill-color);\n",
       "      border-bottom-color: var(--fill-color);\n",
       "    }\n",
       "    90% {\n",
       "      border-color: transparent;\n",
       "      border-bottom-color: var(--fill-color);\n",
       "    }\n",
       "  }\n",
       "</style>\n",
       "\n",
       "  <script>\n",
       "    async function quickchart(key) {\n",
       "      const quickchartButtonEl =\n",
       "        document.querySelector('#' + key + ' button');\n",
       "      quickchartButtonEl.disabled = true;  // To prevent multiple clicks.\n",
       "      quickchartButtonEl.classList.add('colab-df-spinner');\n",
       "      try {\n",
       "        const charts = await google.colab.kernel.invokeFunction(\n",
       "            'suggestCharts', [key], {});\n",
       "      } catch (error) {\n",
       "        console.error('Error during call to suggestCharts:', error);\n",
       "      }\n",
       "      quickchartButtonEl.classList.remove('colab-df-spinner');\n",
       "      quickchartButtonEl.classList.add('colab-df-quickchart-complete');\n",
       "    }\n",
       "    (() => {\n",
       "      let quickchartButtonEl =\n",
       "        document.querySelector('#df-7014516a-2f8a-4001-a2f7-9946198efc28 button');\n",
       "      quickchartButtonEl.style.display =\n",
       "        google.colab.kernel.accessAllowed ? 'block' : 'none';\n",
       "    })();\n",
       "  </script>\n",
       "</div>\n",
       "    </div>\n",
       "  </div>\n"
      ],
      "text/plain": [
       "   FraudFound_P\n",
       "0             0\n",
       "1             0\n",
       "2             0\n",
       "3             0\n",
       "4             0"
      ]
     },
     "execution_count": 23,
     "metadata": {},
     "output_type": "execute_result"
    }
   ],
   "source": [
    "df_fraud.select_dtypes(include='int64').head(5)"
   ]
  },
  {
   "cell_type": "code",
   "execution_count": null,
   "metadata": {
    "colab": {
     "base_uri": "https://localhost:8080/"
    },
    "executionInfo": {
     "elapsed": 311,
     "status": "ok",
     "timestamp": 1701473277025,
     "user": {
      "displayName": "Yana G.",
      "userId": "05404332677488623640"
     },
     "user_tz": -60
    },
    "id": "Ne8Qrb_ZvxEO",
    "outputId": "c47bc1e0-e542-45ff-bd2a-827841b9f74d"
   },
   "outputs": [
    {
     "data": {
      "text/plain": [
       "Index(['Month', 'WeekOfMonth', 'DayOfWeek', 'Make', 'AccidentArea',\n",
       "       'DayOfWeekClaimed', 'MonthClaimed', 'WeekOfMonthClaimed', 'Sex',\n",
       "       'MaritalStatus', 'Age', 'Fault', 'PolicyType', 'VehicleCategory',\n",
       "       'VehiclePrice', 'FraudFound_P', 'RepNumber', 'Deductible',\n",
       "       'DriverRating', 'Days_Policy_Accident', 'Days_Policy_Claim',\n",
       "       'PastNumberOfClaims', 'AgeOfVehicle', 'AgeOfPolicyHolder',\n",
       "       'PoliceReportFiled', 'WitnessPresent', 'AgentType',\n",
       "       'NumberOfSuppliments', 'AddressChange_Claim', 'NumberOfCars', 'Year',\n",
       "       'BasePolicy', 'Age_Bracket', 'VehicleCategory_BasePolicy'],\n",
       "      dtype='object')"
      ]
     },
     "execution_count": 24,
     "metadata": {},
     "output_type": "execute_result"
    }
   ],
   "source": [
    "df_fraud.columns"
   ]
  },
  {
   "cell_type": "code",
   "execution_count": null,
   "metadata": {
    "colab": {
     "base_uri": "https://localhost:8080/",
     "height": 1000,
     "output_embedded_package_id": "18bay8v7s22rm8wfUhIkZR_0hCCS7h3_P"
    },
    "executionInfo": {
     "elapsed": 49034,
     "status": "ok",
     "timestamp": 1701473325760,
     "user": {
      "displayName": "Yana G.",
      "userId": "05404332677488623640"
     },
     "user_tz": -60
    },
    "id": "X1xGQDuFl0bA",
    "outputId": "6b553969-17bd-4ca7-f2ac-eabd1a938aff"
   },
   "outputs": [
    {
     "data": {
      "text/plain": [
       "Output hidden; open in https://colab.research.google.com to view."
      ]
     },
     "metadata": {},
     "output_type": "display_data"
    }
   ],
   "source": [
    "for col in df_fraud.columns:\n",
    "    if (col != 'FraudFound_P' and col !='Age'):\n",
    "        sns.set_style('darkgrid')\n",
    "\n",
    "        # Create a DataFrame for count and percentage of fraud cases\n",
    "        fraud_cases = pd.DataFrame(df_fraud.groupby([col, 'FraudFound_P']).size(), columns=['Count']).reset_index()\n",
    "        total_counts = fraud_cases.groupby(col)['Count'].transform('sum')\n",
    "        fraud_cases['Percentage of Fraud'] = round(fraud_cases['Count'] / total_counts * 100, 2)\n",
    "\n",
    "\n",
    "        if (fraud_cases['FraudFound_P'] == 1).any():\n",
    "            total_fraud_cases = fraud_cases[fraud_cases['FraudFound_P'] == 1]['Count'].sum()\n",
    "            fraud_cases.loc[fraud_cases['FraudFound_P'] == 1, 'Percentage of Total Fraud Cases'] = round(fraud_cases['Count'] / total_fraud_cases * 100, 2)\n",
    "\n",
    "        fraud_cases = fraud_cases.sort_values(by=['FraudFound_P', 'Percentage of Fraud', col], ascending=[False, False, True])\n",
    "\n",
    "        # Print the fraud_cases DataFrame\n",
    "        print(fraud_cases.to_string(index=False))\n",
    "\n",
    "        # Plot three graphs:\n",
    "        fig, axes = plt.subplots(1, 3, figsize=(15, 4))\n",
    "\n",
    "        # Plot 1: the count of FraudFound_P (both 0 and 1) for each category of a given variable\n",
    "        plt.subplot(1, 3, 1)\n",
    "        order = df_fraud[df_fraud['FraudFound_P'] == 1][col].value_counts().index\n",
    "        ax = sns.countplot(data=df_fraud, x=col, hue='FraudFound_P', palette='Blues', dodge=False, order=order)\n",
    "        ax.set_xticklabels(ax.get_xticklabels(), rotation=45, ha='right')\n",
    "        plt.title(f'Total # of Claims by {col}')\n",
    "\n",
    "        # Plot 2: the count of FraudFound_P == 1 for each category of a given variable\n",
    "        plt.subplot(1, 3, 2)\n",
    "        ax = sns.countplot(data=df_fraud[df_fraud['FraudFound_P'] == 1], x=col, color='#4884af', dodge=False, order=order)\n",
    "        ax.set_xticklabels(ax.get_xticklabels(), rotation=45, ha='right')\n",
    "        plt.title(f'# Fraud Claims by {col}')\n",
    "\n",
    "        # Plot 3: the  % of FraudFound_P == 1 for each category of a given variable\n",
    "        plt.subplot(1, 3, 3)\n",
    "        fraud_cases_subset = fraud_cases[fraud_cases['FraudFound_P'] == 1]\n",
    "        fraud_cases_subset = fraud_cases_subset.sort_values(by='Percentage of Fraud', ascending=False)  # Sort by Percentage of Fraud\n",
    "        plt.bar(x=fraud_cases_subset[col], height=fraud_cases_subset['Percentage of Fraud'], color='#4884af', label='Percentage of Fraud', alpha=0.7)\n",
    "        plt.xticks(rotation=45, ha='right')\n",
    "        plt.ylabel('% of Fraud')\n",
    "        plt.title(f'% Fraud Insurance Claims by {col}')\n",
    "\n",
    "        plt.show()\n"
   ]
  },
  {
   "cell_type": "code",
   "execution_count": null,
   "metadata": {
    "colab": {
     "base_uri": "https://localhost:8080/"
    },
    "executionInfo": {
     "elapsed": 103,
     "status": "ok",
     "timestamp": 1701473325766,
     "user": {
      "displayName": "Yana G.",
      "userId": "05404332677488623640"
     },
     "user_tz": -60
    },
    "id": "AJBZZgar48UE",
    "outputId": "73332e6a-5712-4a35-a3d1-c951009a301c"
   },
   "outputs": [
    {
     "data": {
      "text/plain": [
       "1516    0\n",
       "Name: FraudFound_P, dtype: int64"
      ]
     },
     "execution_count": 26,
     "metadata": {},
     "output_type": "execute_result"
    }
   ],
   "source": [
    "# we observed that DaysOfWeekClaimed and MonthClaimed both included 0 values\n",
    "df_fraud[(df_fraud['DayOfWeekClaimed'] == '0') | (df_fraud['MonthClaimed'] == '0')]['FraudFound_P']"
   ]
  },
  {
   "cell_type": "code",
   "execution_count": null,
   "metadata": {
    "colab": {
     "base_uri": "https://localhost:8080/",
     "height": 130
    },
    "executionInfo": {
     "elapsed": 96,
     "status": "ok",
     "timestamp": 1701473325767,
     "user": {
      "displayName": "Yana G.",
      "userId": "05404332677488623640"
     },
     "user_tz": -60
    },
    "id": "IoRkAlM7W8O3",
    "outputId": "6c7563d1-136d-4085-a059-9088a2af7018"
   },
   "outputs": [
    {
     "data": {
      "text/html": [
       "\n",
       "  <div id=\"df-9b0d3c41-8047-4dab-aab9-8233e48654a1\" class=\"colab-df-container\">\n",
       "    <div>\n",
       "<style scoped>\n",
       "    .dataframe tbody tr th:only-of-type {\n",
       "        vertical-align: middle;\n",
       "    }\n",
       "\n",
       "    .dataframe tbody tr th {\n",
       "        vertical-align: top;\n",
       "    }\n",
       "\n",
       "    .dataframe thead th {\n",
       "        text-align: right;\n",
       "    }\n",
       "</style>\n",
       "<table border=\"1\" class=\"dataframe\">\n",
       "  <thead>\n",
       "    <tr style=\"text-align: right;\">\n",
       "      <th></th>\n",
       "      <th>Month</th>\n",
       "      <th>WeekOfMonth</th>\n",
       "      <th>DayOfWeek</th>\n",
       "      <th>Make</th>\n",
       "      <th>AccidentArea</th>\n",
       "      <th>DayOfWeekClaimed</th>\n",
       "      <th>MonthClaimed</th>\n",
       "      <th>WeekOfMonthClaimed</th>\n",
       "      <th>Sex</th>\n",
       "      <th>MaritalStatus</th>\n",
       "      <th>...</th>\n",
       "      <th>PoliceReportFiled</th>\n",
       "      <th>WitnessPresent</th>\n",
       "      <th>AgentType</th>\n",
       "      <th>NumberOfSuppliments</th>\n",
       "      <th>AddressChange_Claim</th>\n",
       "      <th>NumberOfCars</th>\n",
       "      <th>Year</th>\n",
       "      <th>BasePolicy</th>\n",
       "      <th>Age_Bracket</th>\n",
       "      <th>VehicleCategory_BasePolicy</th>\n",
       "    </tr>\n",
       "  </thead>\n",
       "  <tbody>\n",
       "    <tr>\n",
       "      <th>1516</th>\n",
       "      <td>Jul</td>\n",
       "      <td>2</td>\n",
       "      <td>Monday</td>\n",
       "      <td>Honda</td>\n",
       "      <td>Rural</td>\n",
       "      <td>0</td>\n",
       "      <td>0</td>\n",
       "      <td>1</td>\n",
       "      <td>Male</td>\n",
       "      <td>Single</td>\n",
       "      <td>...</td>\n",
       "      <td>No</td>\n",
       "      <td>No</td>\n",
       "      <td>External</td>\n",
       "      <td>none</td>\n",
       "      <td>no change</td>\n",
       "      <td>1 vehicle</td>\n",
       "      <td>1994</td>\n",
       "      <td>All Perils</td>\n",
       "      <td>36 to 40</td>\n",
       "      <td>Sedan - All Perils</td>\n",
       "    </tr>\n",
       "  </tbody>\n",
       "</table>\n",
       "<p>1 rows × 34 columns</p>\n",
       "</div>\n",
       "    <div class=\"colab-df-buttons\">\n",
       "\n",
       "  <div class=\"colab-df-container\">\n",
       "    <button class=\"colab-df-convert\" onclick=\"convertToInteractive('df-9b0d3c41-8047-4dab-aab9-8233e48654a1')\"\n",
       "            title=\"Convert this dataframe to an interactive table.\"\n",
       "            style=\"display:none;\">\n",
       "\n",
       "  <svg xmlns=\"http://www.w3.org/2000/svg\" height=\"24px\" viewBox=\"0 -960 960 960\">\n",
       "    <path d=\"M120-120v-720h720v720H120Zm60-500h600v-160H180v160Zm220 220h160v-160H400v160Zm0 220h160v-160H400v160ZM180-400h160v-160H180v160Zm440 0h160v-160H620v160ZM180-180h160v-160H180v160Zm440 0h160v-160H620v160Z\"/>\n",
       "  </svg>\n",
       "    </button>\n",
       "\n",
       "  <style>\n",
       "    .colab-df-container {\n",
       "      display:flex;\n",
       "      gap: 12px;\n",
       "    }\n",
       "\n",
       "    .colab-df-convert {\n",
       "      background-color: #E8F0FE;\n",
       "      border: none;\n",
       "      border-radius: 50%;\n",
       "      cursor: pointer;\n",
       "      display: none;\n",
       "      fill: #1967D2;\n",
       "      height: 32px;\n",
       "      padding: 0 0 0 0;\n",
       "      width: 32px;\n",
       "    }\n",
       "\n",
       "    .colab-df-convert:hover {\n",
       "      background-color: #E2EBFA;\n",
       "      box-shadow: 0px 1px 2px rgba(60, 64, 67, 0.3), 0px 1px 3px 1px rgba(60, 64, 67, 0.15);\n",
       "      fill: #174EA6;\n",
       "    }\n",
       "\n",
       "    .colab-df-buttons div {\n",
       "      margin-bottom: 4px;\n",
       "    }\n",
       "\n",
       "    [theme=dark] .colab-df-convert {\n",
       "      background-color: #3B4455;\n",
       "      fill: #D2E3FC;\n",
       "    }\n",
       "\n",
       "    [theme=dark] .colab-df-convert:hover {\n",
       "      background-color: #434B5C;\n",
       "      box-shadow: 0px 1px 3px 1px rgba(0, 0, 0, 0.15);\n",
       "      filter: drop-shadow(0px 1px 2px rgba(0, 0, 0, 0.3));\n",
       "      fill: #FFFFFF;\n",
       "    }\n",
       "  </style>\n",
       "\n",
       "    <script>\n",
       "      const buttonEl =\n",
       "        document.querySelector('#df-9b0d3c41-8047-4dab-aab9-8233e48654a1 button.colab-df-convert');\n",
       "      buttonEl.style.display =\n",
       "        google.colab.kernel.accessAllowed ? 'block' : 'none';\n",
       "\n",
       "      async function convertToInteractive(key) {\n",
       "        const element = document.querySelector('#df-9b0d3c41-8047-4dab-aab9-8233e48654a1');\n",
       "        const dataTable =\n",
       "          await google.colab.kernel.invokeFunction('convertToInteractive',\n",
       "                                                    [key], {});\n",
       "        if (!dataTable) return;\n",
       "\n",
       "        const docLinkHtml = 'Like what you see? Visit the ' +\n",
       "          '<a target=\"_blank\" href=https://colab.research.google.com/notebooks/data_table.ipynb>data table notebook</a>'\n",
       "          + ' to learn more about interactive tables.';\n",
       "        element.innerHTML = '';\n",
       "        dataTable['output_type'] = 'display_data';\n",
       "        await google.colab.output.renderOutput(dataTable, element);\n",
       "        const docLink = document.createElement('div');\n",
       "        docLink.innerHTML = docLinkHtml;\n",
       "        element.appendChild(docLink);\n",
       "      }\n",
       "    </script>\n",
       "  </div>\n",
       "\n",
       "    </div>\n",
       "  </div>\n"
      ],
      "text/plain": [
       "     Month WeekOfMonth DayOfWeek   Make AccidentArea DayOfWeekClaimed  \\\n",
       "1516   Jul           2    Monday  Honda        Rural                0   \n",
       "\n",
       "     MonthClaimed WeekOfMonthClaimed   Sex MaritalStatus  ...  \\\n",
       "1516            0                  1  Male        Single  ...   \n",
       "\n",
       "      PoliceReportFiled WitnessPresent AgentType NumberOfSuppliments  \\\n",
       "1516                 No             No  External                none   \n",
       "\n",
       "     AddressChange_Claim  NumberOfCars  Year  BasePolicy Age_Bracket  \\\n",
       "1516           no change     1 vehicle  1994  All Perils    36 to 40   \n",
       "\n",
       "     VehicleCategory_BasePolicy  \n",
       "1516         Sedan - All Perils  \n",
       "\n",
       "[1 rows x 34 columns]"
      ]
     },
     "execution_count": 27,
     "metadata": {},
     "output_type": "execute_result"
    }
   ],
   "source": [
    "df_fraud[df_fraud['DayOfWeekClaimed'] == '0']"
   ]
  },
  {
   "cell_type": "code",
   "execution_count": null,
   "metadata": {
    "id": "3Y-29UTfTr9b"
   },
   "outputs": [],
   "source": [
    "# lets remove rows where  DayOfWeekClaimed or MonthClaimed is equal to 0 (and FraudFound_P == 0)\n",
    "\n",
    "df_fraud = df_fraud[~((df_fraud['FraudFound_P'] == 0) & ((df_fraud['DayOfWeekClaimed'] == '0') | (df_fraud['MonthClaimed'] == '0')))]\n"
   ]
  },
  {
   "cell_type": "code",
   "execution_count": null,
   "metadata": {
    "colab": {
     "base_uri": "https://localhost:8080/"
    },
    "executionInfo": {
     "elapsed": 93,
     "status": "ok",
     "timestamp": 1701473325768,
     "user": {
      "displayName": "Yana G.",
      "userId": "05404332677488623640"
     },
     "user_tz": -60
    },
    "id": "k_fyL2AH2cg3",
    "outputId": "88248474-bf8d-495a-eee7-865fc21df0d3"
   },
   "outputs": [
    {
     "data": {
      "text/plain": [
       "Series([], Name: FraudFound_P, dtype: int64)"
      ]
     },
     "execution_count": 29,
     "metadata": {},
     "output_type": "execute_result"
    }
   ],
   "source": [
    "# Confirming we removed the row (rows) where  DayOfWeekClaimed or MonthClaimed is equal to 0 (and FraudFound_P == 0)\n",
    "df_fraud[(df_fraud['DayOfWeekClaimed'] == '0') | (df_fraud['MonthClaimed'] == '0')]['FraudFound_P']"
   ]
  },
  {
   "cell_type": "code",
   "execution_count": null,
   "metadata": {
    "colab": {
     "base_uri": "https://localhost:8080/"
    },
    "executionInfo": {
     "elapsed": 96,
     "status": "ok",
     "timestamp": 1701473325774,
     "user": {
      "displayName": "Yana G.",
      "userId": "05404332677488623640"
     },
     "user_tz": -60
    },
    "id": "UvWlnqOzsYbC",
    "outputId": "edf9e4fe-58de-41df-b444-7adce050a15b"
   },
   "outputs": [
    {
     "name": "stdout",
     "output_type": "stream",
     "text": [
      "                      Variable        Chi2       P-value Significance\n",
      "12                  PolicyType  437.491381  1.768441e-89            *\n",
      "32  VehicleCategory_BasePolicy  437.490455  2.154735e-90            *\n",
      "30                  BasePolicy  402.947238  3.170436e-88            *\n",
      "13             VehicleCategory  290.980893  6.520817e-64            *\n",
      "11                       Fault  264.984556  1.406180e-59            *\n",
      "10                         Age  106.144451  7.331495e-04            *\n",
      "27         AddressChange_Claim  104.722693  9.704718e-22            *\n",
      "16                  Deductible   72.406255  1.302831e-15            *\n",
      "14                VehiclePrice   67.836116  2.888324e-13            *\n",
      "3                         Make   59.815292  2.191573e-06            *\n",
      "20          PastNumberOfClaims   53.541755  1.405198e-11            *\n",
      "6                 MonthClaimed   42.200514  1.495245e-05            *\n",
      "22           AgeOfPolicyHolder   33.104861  5.896560e-05            *\n",
      "31                 Age_Bracket   29.809235  2.284330e-04            *\n",
      "0                        Month   29.771469  1.720902e-03            *\n",
      "21                AgeOfVehicle   21.995137  2.545322e-03            *\n",
      "26         NumberOfSuppliments   18.155527  4.085276e-04            *\n",
      "4                 AccidentArea   16.901858  3.936304e-05            *\n",
      "8                          Sex   13.495678  2.391135e-04            *\n",
      "15                   RepNumber   11.799995  6.941005e-01             \n",
      "18        Days_Policy_Accident   11.569842  2.085381e-02            *\n",
      "2                    DayOfWeek   10.152846  1.183612e-01             \n",
      "29                        Year    9.592587  8.260307e-03            *\n",
      "25                   AgentType    7.380469  6.593597e-03            *\n",
      "5             DayOfWeekClaimed    5.095641  5.316063e-01             \n",
      "19           Days_Policy_Claim    4.817214  8.994051e-02             \n",
      "23           PoliceReportFiled    3.552148  5.946844e-02             \n",
      "7           WeekOfMonthClaimed    3.380722  4.962449e-01             \n",
      "1                  WeekOfMonth    2.454694  6.527664e-01             \n",
      "28                NumberOfCars    2.414921  6.599326e-01             \n",
      "17                DriverRating    1.641979  6.499092e-01             \n",
      "9                MaritalStatus    1.012387  7.982547e-01             \n",
      "24              WitnessPresent    0.599154  4.389010e-01             \n"
     ]
    }
   ],
   "source": [
    "# chi-square as a part of EDA\n",
    "\n",
    "from scipy.stats import chi2_contingency\n",
    "\n",
    "# Create an empty DataFrame to store the results\n",
    "chi2_results = pd.DataFrame(columns=['Variable', 'Chi2', 'P-value', 'Significance'])\n",
    "\n",
    "for col in df_fraud.columns:\n",
    "    if col != 'FraudFound_P':\n",
    "        # Create a contingency table\n",
    "        contingency_table = pd.crosstab(df_fraud[col], df_fraud['FraudFound_P'])\n",
    "\n",
    "        # Perform the chi-square test\n",
    "        chi2, p, _, _ = chi2_contingency(contingency_table)\n",
    "\n",
    "        # Determine significance and append the results to the chi2_results DataFrame\n",
    "        significance = '*' if p < 0.05 else ''\n",
    "        chi2_results = pd.concat([chi2_results, pd.DataFrame({'Variable': [col], 'Chi2': [chi2], 'P-value': [p], 'Significance': [significance]})], ignore_index=True)\n",
    "        chi2_results_sorted = chi2_results.sort_values(by=['Chi2'], ascending=[False])\n",
    "\n",
    "print(chi2_results_sorted)\n"
   ]
  },
  {
   "cell_type": "code",
   "execution_count": null,
   "metadata": {
    "colab": {
     "base_uri": "https://localhost:8080/"
    },
    "executionInfo": {
     "elapsed": 508,
     "status": "ok",
     "timestamp": 1701473326194,
     "user": {
      "displayName": "Yana G.",
      "userId": "05404332677488623640"
     },
     "user_tz": -60
    },
    "id": "jqdQlf71hEKK",
    "outputId": "022db10a-f2a2-48a7-afe7-3fee9b0b7fb2"
   },
   "outputs": [
    {
     "name": "stdout",
     "output_type": "stream",
     "text": [
      "                               F-Value  p-Value Significance\n",
      "Fault                       270.870598  0.00000            *\n",
      "BasePolicy                  206.839798  0.00000            *\n",
      "VehicleCategory             148.260040  0.00000            *\n",
      "VehicleCategory_BasePolicy   64.290350  0.00000            *\n",
      "PolicyType                   56.250528  0.00000            *\n",
      "AddressChange_Claim          26.351155  0.00000            *\n",
      "Deductible                   24.243000  0.00000            *\n",
      "PastNumberOfClaims           17.904795  0.00000            *\n",
      "AccidentArea                 17.380305  0.00003            *\n",
      "Sex                          13.851336  0.00020            *\n",
      "VehiclePrice                 13.621873  0.00000            *\n",
      "AgentType                     8.145948  0.00432            *\n",
      "NumberOfSuppliments           6.057405  0.00041            *\n",
      "Year                          4.798345  0.00826            *\n",
      "AgeOfPolicyHolder             4.144591  0.00006            *\n",
      "PoliceReportFiled             3.952788  0.04681            *\n",
      "MonthClaimed                  3.843945  0.00001            *\n",
      "Age_Bracket                   3.731193  0.00023            *\n",
      "Make                          3.331902  0.00000            *\n",
      "AgeOfVehicle                  3.145019  0.00254            *\n",
      "Days_Policy_Accident          2.893694  0.02084            *\n",
      "Month                         2.709623  0.00171            *\n",
      "Days_Policy_Claim             2.408891  0.08995             \n",
      "DayOfWeek                     1.692487  0.11836             \n",
      "WitnessPresent                1.001247  0.31702             \n",
      "DayOfWeekClaimed              0.849169  0.53171             \n",
      "WeekOfMonthClaimed            0.845092  0.49632             \n",
      "RepNumber                     0.786452  0.69431             \n",
      "WeekOfMonth                   0.613572  0.65285             \n",
      "NumberOfCars                  0.603629  0.66001             \n",
      "DriverRating                  0.547243  0.64997             \n",
      "MaritalStatus                 0.337397  0.79830             \n"
     ]
    }
   ],
   "source": [
    "# Another way to identify which variables have a significant impact on the target variable (FraudFound_P) - ANOVA\n",
    "from scipy import stats\n",
    "\n",
    "categorical_features = df_fraud.select_dtypes(include=['object']).columns\n",
    "anova_results = {}\n",
    "\n",
    "for feature in categorical_features:\n",
    "    grouped = df_fraud.groupby(feature)['FraudFound_P']\n",
    "    f_value, p_value = stats.f_oneway(*(group for name, group in grouped))\n",
    "    anova_results[feature] = {'F-Value': f_value, 'p-Value': p_value}\n",
    "\n",
    "# Converting results to a DataFrame for better visualization\n",
    "anova_df = pd.DataFrame(anova_results).T\n",
    "anova_df['p-Value'] = anova_df['p-Value'].round(5)\n",
    "\n",
    "# Add significance column\n",
    "anova_df['Significance'] = np.where(anova_df['p-Value'] < 0.05, '*', '')\n",
    "\n",
    "\n",
    "# Sort results by F-value and p-value significance level\n",
    "anova_df = anova_df.sort_values(by=['F-Value', 'Significance'], ascending=[False, True])\n",
    "\n",
    "print(anova_df)"
   ]
  },
  {
   "cell_type": "code",
   "execution_count": null,
   "metadata": {
    "colab": {
     "base_uri": "https://localhost:8080/"
    },
    "executionInfo": {
     "elapsed": 146,
     "status": "ok",
     "timestamp": 1701473326199,
     "user": {
      "displayName": "Yana G.",
      "userId": "05404332677488623640"
     },
     "user_tz": -60
    },
    "id": "5Mn7yL9MtAKU",
    "outputId": "b6f84246-3279-483c-c985-a634acc99a3b"
   },
   "outputs": [
    {
     "data": {
      "text/plain": [
       "Index(['Month', 'WeekOfMonth', 'DayOfWeek', 'Make', 'AccidentArea',\n",
       "       'DayOfWeekClaimed', 'MonthClaimed', 'WeekOfMonthClaimed', 'Sex',\n",
       "       'MaritalStatus', 'Age', 'Fault', 'PolicyType', 'VehicleCategory',\n",
       "       'VehiclePrice', 'FraudFound_P', 'RepNumber', 'Deductible',\n",
       "       'DriverRating', 'Days_Policy_Accident', 'Days_Policy_Claim',\n",
       "       'PastNumberOfClaims', 'AgeOfVehicle', 'AgeOfPolicyHolder',\n",
       "       'PoliceReportFiled', 'WitnessPresent', 'AgentType',\n",
       "       'NumberOfSuppliments', 'AddressChange_Claim', 'NumberOfCars', 'Year',\n",
       "       'BasePolicy', 'Age_Bracket', 'VehicleCategory_BasePolicy'],\n",
       "      dtype='object')"
      ]
     },
     "execution_count": 36,
     "metadata": {},
     "output_type": "execute_result"
    }
   ],
   "source": [
    "df_fraud.columns"
   ]
  },
  {
   "cell_type": "code",
   "execution_count": null,
   "metadata": {
    "id": "oUMdhu3xsNyp"
   },
   "outputs": [],
   "source": [
    "df_fraud_backup = df_fraud.copy()\n"
   ]
  },
  {
   "cell_type": "code",
   "execution_count": null,
   "metadata": {
    "id": "fsSAonQu6UXR"
   },
   "outputs": [],
   "source": [
    "df_fraud_for_modeling = df_fraud.drop(['Age'], axis=1)\n"
   ]
  },
  {
   "cell_type": "code",
   "execution_count": null,
   "metadata": {
    "colab": {
     "base_uri": "https://localhost:8080/"
    },
    "executionInfo": {
     "elapsed": 120,
     "status": "ok",
     "timestamp": 1701473326211,
     "user": {
      "displayName": "Yana G.",
      "userId": "05404332677488623640"
     },
     "user_tz": -60
    },
    "id": "96RyVIEfty6M",
    "outputId": "2f6f0248-f5bb-400e-9769-95fdde916d4d"
   },
   "outputs": [
    {
     "data": {
      "text/plain": [
       "Index(['Month', 'WeekOfMonth', 'DayOfWeek', 'Make', 'AccidentArea',\n",
       "       'DayOfWeekClaimed', 'MonthClaimed', 'WeekOfMonthClaimed', 'Sex',\n",
       "       'MaritalStatus', 'Fault', 'PolicyType', 'VehicleCategory',\n",
       "       'VehiclePrice', 'FraudFound_P', 'RepNumber', 'Deductible',\n",
       "       'DriverRating', 'Days_Policy_Accident', 'Days_Policy_Claim',\n",
       "       'PastNumberOfClaims', 'AgeOfVehicle', 'AgeOfPolicyHolder',\n",
       "       'PoliceReportFiled', 'WitnessPresent', 'AgentType',\n",
       "       'NumberOfSuppliments', 'AddressChange_Claim', 'NumberOfCars', 'Year',\n",
       "       'BasePolicy', 'Age_Bracket', 'VehicleCategory_BasePolicy'],\n",
       "      dtype='object')"
      ]
     },
     "execution_count": 39,
     "metadata": {},
     "output_type": "execute_result"
    }
   ],
   "source": [
    "df_fraud_for_modeling.columns"
   ]
  },
  {
   "cell_type": "code",
   "execution_count": null,
   "metadata": {
    "colab": {
     "base_uri": "https://localhost:8080/"
    },
    "executionInfo": {
     "elapsed": 102,
     "status": "ok",
     "timestamp": 1701473326214,
     "user": {
      "displayName": "Yana G.",
      "userId": "05404332677488623640"
     },
     "user_tz": -60
    },
    "id": "bPgqd5xHynDF",
    "outputId": "ea72380d-c28c-4d8b-d0d9-cbcde709c1fd"
   },
   "outputs": [
    {
     "name": "stdout",
     "output_type": "stream",
     "text": [
      "<class 'pandas.core.frame.DataFrame'>\n",
      "Int64Index: 15419 entries, 0 to 15419\n",
      "Data columns (total 33 columns):\n",
      " #   Column                      Non-Null Count  Dtype \n",
      "---  ------                      --------------  ----- \n",
      " 0   Month                       15419 non-null  object\n",
      " 1   WeekOfMonth                 15419 non-null  object\n",
      " 2   DayOfWeek                   15419 non-null  object\n",
      " 3   Make                        15419 non-null  object\n",
      " 4   AccidentArea                15419 non-null  object\n",
      " 5   DayOfWeekClaimed            15419 non-null  object\n",
      " 6   MonthClaimed                15419 non-null  object\n",
      " 7   WeekOfMonthClaimed          15419 non-null  object\n",
      " 8   Sex                         15419 non-null  object\n",
      " 9   MaritalStatus               15419 non-null  object\n",
      " 10  Fault                       15419 non-null  object\n",
      " 11  PolicyType                  15419 non-null  object\n",
      " 12  VehicleCategory             15419 non-null  object\n",
      " 13  VehiclePrice                15419 non-null  object\n",
      " 14  FraudFound_P                15419 non-null  int64 \n",
      " 15  RepNumber                   15419 non-null  object\n",
      " 16  Deductible                  15419 non-null  object\n",
      " 17  DriverRating                15419 non-null  object\n",
      " 18  Days_Policy_Accident        15419 non-null  object\n",
      " 19  Days_Policy_Claim           15419 non-null  object\n",
      " 20  PastNumberOfClaims          15419 non-null  object\n",
      " 21  AgeOfVehicle                15419 non-null  object\n",
      " 22  AgeOfPolicyHolder           15419 non-null  object\n",
      " 23  PoliceReportFiled           15419 non-null  object\n",
      " 24  WitnessPresent              15419 non-null  object\n",
      " 25  AgentType                   15419 non-null  object\n",
      " 26  NumberOfSuppliments         15419 non-null  object\n",
      " 27  AddressChange_Claim         15419 non-null  object\n",
      " 28  NumberOfCars                15419 non-null  object\n",
      " 29  Year                        15419 non-null  object\n",
      " 30  BasePolicy                  15419 non-null  object\n",
      " 31  Age_Bracket                 15419 non-null  object\n",
      " 32  VehicleCategory_BasePolicy  15419 non-null  object\n",
      "dtypes: int64(1), object(32)\n",
      "memory usage: 4.0+ MB\n"
     ]
    }
   ],
   "source": [
    "df_fraud_for_modeling.info()"
   ]
  },
  {
   "cell_type": "code",
   "execution_count": null,
   "metadata": {
    "id": "PVojaVHzu9fw"
   },
   "outputs": [],
   "source": [
    "def column_to_dummy_vars(dataframe, column_name):\n",
    "    dummies = pd.get_dummies(dataframe[column_name], prefix=f\"{column_name} = \")\n",
    "    dataframe = pd.concat([dataframe, dummies], axis=1)\n",
    "    dataframe = dataframe.drop([column_name], axis=1)\n",
    "    return dataframe"
   ]
  },
  {
   "cell_type": "code",
   "execution_count": null,
   "metadata": {
    "id": "wvfn6yxYxYZX"
   },
   "outputs": [],
   "source": [
    "#apply the function to above to all columns that have cateogorical data\n",
    "for col in df_fraud_for_modeling:\n",
    "     if df_fraud_for_modeling[col].dtype == 'object':\n",
    "\n",
    "        df_fraud_for_modeling = column_to_dummy_vars(df_fraud_for_modeling, col)"
   ]
  },
  {
   "cell_type": "code",
   "execution_count": null,
   "metadata": {
    "colab": {
     "base_uri": "https://localhost:8080/",
     "height": 112
    },
    "executionInfo": {
     "elapsed": 99,
     "status": "ok",
     "timestamp": 1701473326564,
     "user": {
      "displayName": "Yana G.",
      "userId": "05404332677488623640"
     },
     "user_tz": -60
    },
    "id": "G6ulGvB_tmDe",
    "outputId": "e23034de-74f5-48fb-f8f6-2efea85cf870"
   },
   "outputs": [
    {
     "data": {
      "text/html": [
       "\n",
       "  <div id=\"df-75c5be3c-6ace-4b82-927f-423525bf7e42\" class=\"colab-df-container\">\n",
       "    <div>\n",
       "<style scoped>\n",
       "    .dataframe tbody tr th:only-of-type {\n",
       "        vertical-align: middle;\n",
       "    }\n",
       "\n",
       "    .dataframe tbody tr th {\n",
       "        vertical-align: top;\n",
       "    }\n",
       "\n",
       "    .dataframe thead th {\n",
       "        text-align: right;\n",
       "    }\n",
       "</style>\n",
       "<table border=\"1\" class=\"dataframe\">\n",
       "  <thead>\n",
       "    <tr style=\"text-align: right;\">\n",
       "      <th></th>\n",
       "      <th>FraudFound_P</th>\n",
       "    </tr>\n",
       "  </thead>\n",
       "  <tbody>\n",
       "    <tr>\n",
       "      <th>0</th>\n",
       "      <td>14496</td>\n",
       "    </tr>\n",
       "    <tr>\n",
       "      <th>1</th>\n",
       "      <td>923</td>\n",
       "    </tr>\n",
       "  </tbody>\n",
       "</table>\n",
       "</div>\n",
       "    <div class=\"colab-df-buttons\">\n",
       "\n",
       "  <div class=\"colab-df-container\">\n",
       "    <button class=\"colab-df-convert\" onclick=\"convertToInteractive('df-75c5be3c-6ace-4b82-927f-423525bf7e42')\"\n",
       "            title=\"Convert this dataframe to an interactive table.\"\n",
       "            style=\"display:none;\">\n",
       "\n",
       "  <svg xmlns=\"http://www.w3.org/2000/svg\" height=\"24px\" viewBox=\"0 -960 960 960\">\n",
       "    <path d=\"M120-120v-720h720v720H120Zm60-500h600v-160H180v160Zm220 220h160v-160H400v160Zm0 220h160v-160H400v160ZM180-400h160v-160H180v160Zm440 0h160v-160H620v160ZM180-180h160v-160H180v160Zm440 0h160v-160H620v160Z\"/>\n",
       "  </svg>\n",
       "    </button>\n",
       "\n",
       "  <style>\n",
       "    .colab-df-container {\n",
       "      display:flex;\n",
       "      gap: 12px;\n",
       "    }\n",
       "\n",
       "    .colab-df-convert {\n",
       "      background-color: #E8F0FE;\n",
       "      border: none;\n",
       "      border-radius: 50%;\n",
       "      cursor: pointer;\n",
       "      display: none;\n",
       "      fill: #1967D2;\n",
       "      height: 32px;\n",
       "      padding: 0 0 0 0;\n",
       "      width: 32px;\n",
       "    }\n",
       "\n",
       "    .colab-df-convert:hover {\n",
       "      background-color: #E2EBFA;\n",
       "      box-shadow: 0px 1px 2px rgba(60, 64, 67, 0.3), 0px 1px 3px 1px rgba(60, 64, 67, 0.15);\n",
       "      fill: #174EA6;\n",
       "    }\n",
       "\n",
       "    .colab-df-buttons div {\n",
       "      margin-bottom: 4px;\n",
       "    }\n",
       "\n",
       "    [theme=dark] .colab-df-convert {\n",
       "      background-color: #3B4455;\n",
       "      fill: #D2E3FC;\n",
       "    }\n",
       "\n",
       "    [theme=dark] .colab-df-convert:hover {\n",
       "      background-color: #434B5C;\n",
       "      box-shadow: 0px 1px 3px 1px rgba(0, 0, 0, 0.15);\n",
       "      filter: drop-shadow(0px 1px 2px rgba(0, 0, 0, 0.3));\n",
       "      fill: #FFFFFF;\n",
       "    }\n",
       "  </style>\n",
       "\n",
       "    <script>\n",
       "      const buttonEl =\n",
       "        document.querySelector('#df-75c5be3c-6ace-4b82-927f-423525bf7e42 button.colab-df-convert');\n",
       "      buttonEl.style.display =\n",
       "        google.colab.kernel.accessAllowed ? 'block' : 'none';\n",
       "\n",
       "      async function convertToInteractive(key) {\n",
       "        const element = document.querySelector('#df-75c5be3c-6ace-4b82-927f-423525bf7e42');\n",
       "        const dataTable =\n",
       "          await google.colab.kernel.invokeFunction('convertToInteractive',\n",
       "                                                    [key], {});\n",
       "        if (!dataTable) return;\n",
       "\n",
       "        const docLinkHtml = 'Like what you see? Visit the ' +\n",
       "          '<a target=\"_blank\" href=https://colab.research.google.com/notebooks/data_table.ipynb>data table notebook</a>'\n",
       "          + ' to learn more about interactive tables.';\n",
       "        element.innerHTML = '';\n",
       "        dataTable['output_type'] = 'display_data';\n",
       "        await google.colab.output.renderOutput(dataTable, element);\n",
       "        const docLink = document.createElement('div');\n",
       "        docLink.innerHTML = docLinkHtml;\n",
       "        element.appendChild(docLink);\n",
       "      }\n",
       "    </script>\n",
       "  </div>\n",
       "\n",
       "\n",
       "<div id=\"df-0f94d5c5-f533-448a-9799-7c1484529296\">\n",
       "  <button class=\"colab-df-quickchart\" onclick=\"quickchart('df-0f94d5c5-f533-448a-9799-7c1484529296')\"\n",
       "            title=\"Suggest charts\"\n",
       "            style=\"display:none;\">\n",
       "\n",
       "<svg xmlns=\"http://www.w3.org/2000/svg\" height=\"24px\"viewBox=\"0 0 24 24\"\n",
       "     width=\"24px\">\n",
       "    <g>\n",
       "        <path d=\"M19 3H5c-1.1 0-2 .9-2 2v14c0 1.1.9 2 2 2h14c1.1 0 2-.9 2-2V5c0-1.1-.9-2-2-2zM9 17H7v-7h2v7zm4 0h-2V7h2v10zm4 0h-2v-4h2v4z\"/>\n",
       "    </g>\n",
       "</svg>\n",
       "  </button>\n",
       "\n",
       "<style>\n",
       "  .colab-df-quickchart {\n",
       "      --bg-color: #E8F0FE;\n",
       "      --fill-color: #1967D2;\n",
       "      --hover-bg-color: #E2EBFA;\n",
       "      --hover-fill-color: #174EA6;\n",
       "      --disabled-fill-color: #AAA;\n",
       "      --disabled-bg-color: #DDD;\n",
       "  }\n",
       "\n",
       "  [theme=dark] .colab-df-quickchart {\n",
       "      --bg-color: #3B4455;\n",
       "      --fill-color: #D2E3FC;\n",
       "      --hover-bg-color: #434B5C;\n",
       "      --hover-fill-color: #FFFFFF;\n",
       "      --disabled-bg-color: #3B4455;\n",
       "      --disabled-fill-color: #666;\n",
       "  }\n",
       "\n",
       "  .colab-df-quickchart {\n",
       "    background-color: var(--bg-color);\n",
       "    border: none;\n",
       "    border-radius: 50%;\n",
       "    cursor: pointer;\n",
       "    display: none;\n",
       "    fill: var(--fill-color);\n",
       "    height: 32px;\n",
       "    padding: 0;\n",
       "    width: 32px;\n",
       "  }\n",
       "\n",
       "  .colab-df-quickchart:hover {\n",
       "    background-color: var(--hover-bg-color);\n",
       "    box-shadow: 0 1px 2px rgba(60, 64, 67, 0.3), 0 1px 3px 1px rgba(60, 64, 67, 0.15);\n",
       "    fill: var(--button-hover-fill-color);\n",
       "  }\n",
       "\n",
       "  .colab-df-quickchart-complete:disabled,\n",
       "  .colab-df-quickchart-complete:disabled:hover {\n",
       "    background-color: var(--disabled-bg-color);\n",
       "    fill: var(--disabled-fill-color);\n",
       "    box-shadow: none;\n",
       "  }\n",
       "\n",
       "  .colab-df-spinner {\n",
       "    border: 2px solid var(--fill-color);\n",
       "    border-color: transparent;\n",
       "    border-bottom-color: var(--fill-color);\n",
       "    animation:\n",
       "      spin 1s steps(1) infinite;\n",
       "  }\n",
       "\n",
       "  @keyframes spin {\n",
       "    0% {\n",
       "      border-color: transparent;\n",
       "      border-bottom-color: var(--fill-color);\n",
       "      border-left-color: var(--fill-color);\n",
       "    }\n",
       "    20% {\n",
       "      border-color: transparent;\n",
       "      border-left-color: var(--fill-color);\n",
       "      border-top-color: var(--fill-color);\n",
       "    }\n",
       "    30% {\n",
       "      border-color: transparent;\n",
       "      border-left-color: var(--fill-color);\n",
       "      border-top-color: var(--fill-color);\n",
       "      border-right-color: var(--fill-color);\n",
       "    }\n",
       "    40% {\n",
       "      border-color: transparent;\n",
       "      border-right-color: var(--fill-color);\n",
       "      border-top-color: var(--fill-color);\n",
       "    }\n",
       "    60% {\n",
       "      border-color: transparent;\n",
       "      border-right-color: var(--fill-color);\n",
       "    }\n",
       "    80% {\n",
       "      border-color: transparent;\n",
       "      border-right-color: var(--fill-color);\n",
       "      border-bottom-color: var(--fill-color);\n",
       "    }\n",
       "    90% {\n",
       "      border-color: transparent;\n",
       "      border-bottom-color: var(--fill-color);\n",
       "    }\n",
       "  }\n",
       "</style>\n",
       "\n",
       "  <script>\n",
       "    async function quickchart(key) {\n",
       "      const quickchartButtonEl =\n",
       "        document.querySelector('#' + key + ' button');\n",
       "      quickchartButtonEl.disabled = true;  // To prevent multiple clicks.\n",
       "      quickchartButtonEl.classList.add('colab-df-spinner');\n",
       "      try {\n",
       "        const charts = await google.colab.kernel.invokeFunction(\n",
       "            'suggestCharts', [key], {});\n",
       "      } catch (error) {\n",
       "        console.error('Error during call to suggestCharts:', error);\n",
       "      }\n",
       "      quickchartButtonEl.classList.remove('colab-df-spinner');\n",
       "      quickchartButtonEl.classList.add('colab-df-quickchart-complete');\n",
       "    }\n",
       "    (() => {\n",
       "      let quickchartButtonEl =\n",
       "        document.querySelector('#df-0f94d5c5-f533-448a-9799-7c1484529296 button');\n",
       "      quickchartButtonEl.style.display =\n",
       "        google.colab.kernel.accessAllowed ? 'block' : 'none';\n",
       "    })();\n",
       "  </script>\n",
       "</div>\n",
       "    </div>\n",
       "  </div>\n"
      ],
      "text/plain": [
       "   FraudFound_P\n",
       "0         14496\n",
       "1           923"
      ]
     },
     "execution_count": 44,
     "metadata": {},
     "output_type": "execute_result"
    }
   ],
   "source": [
    "pd.DataFrame(df_fraud_for_modeling['FraudFound_P'].value_counts())\n"
   ]
  },
  {
   "cell_type": "code",
   "execution_count": null,
   "metadata": {
    "colab": {
     "base_uri": "https://localhost:8080/"
    },
    "executionInfo": {
     "elapsed": 84,
     "status": "ok",
     "timestamp": 1701473326566,
     "user": {
      "displayName": "Yana G.",
      "userId": "05404332677488623640"
     },
     "user_tz": -60
    },
    "id": "FLg1vFZ9g962",
    "outputId": "b5d9e442-23b6-466c-ad3b-3770624845aa"
   },
   "outputs": [
    {
     "data": {
      "text/plain": [
       "Index(['FraudFound_P', 'Month = _Apr', 'Month = _Aug', 'Month = _Dec',\n",
       "       'Month = _Feb', 'Month = _Jan', 'Month = _Jul', 'Month = _Jun',\n",
       "       'Month = _Mar', 'Month = _May',\n",
       "       ...\n",
       "       'Age_Bracket = _51 to 65', 'Age_Bracket = _over 65',\n",
       "       'VehicleCategory_BasePolicy = _Sedan - All Perils',\n",
       "       'VehicleCategory_BasePolicy = _Sedan - Collision',\n",
       "       'VehicleCategory_BasePolicy = _Sport - All Perils',\n",
       "       'VehicleCategory_BasePolicy = _Sport - Collision',\n",
       "       'VehicleCategory_BasePolicy = _Sport - Liability',\n",
       "       'VehicleCategory_BasePolicy = _Utility - All Perils',\n",
       "       'VehicleCategory_BasePolicy = _Utility - Collision',\n",
       "       'VehicleCategory_BasePolicy = _Utility - Liability'],\n",
       "      dtype='object', length=192)"
      ]
     },
     "execution_count": 45,
     "metadata": {},
     "output_type": "execute_result"
    }
   ],
   "source": [
    "df_fraud_for_modeling.columns"
   ]
  },
  {
   "cell_type": "code",
   "execution_count": null,
   "metadata": {
    "id": "trw7fzUlMFAv"
   },
   "outputs": [],
   "source": [
    "# splitting the dataset\n",
    "from sklearn.model_selection import train_test_split\n",
    "\n",
    "# Separating features and target variable\n",
    "X = df_fraud_for_modeling.drop('FraudFound_P', axis=1)\n",
    "y = df_fraud_for_modeling['FraudFound_P']\n",
    "\n",
    "# Splitting the dataset into training and testing sets\n",
    "X_train, X_test, y_train, y_test = train_test_split(X, y, test_size=0.2, random_state=42, stratify=y)\n"
   ]
  },
  {
   "cell_type": "code",
   "execution_count": null,
   "metadata": {
    "colab": {
     "base_uri": "https://localhost:8080/"
    },
    "executionInfo": {
     "elapsed": 952,
     "status": "ok",
     "timestamp": 1701473327462,
     "user": {
      "displayName": "Yana G.",
      "userId": "05404332677488623640"
     },
     "user_tz": -60
    },
    "id": "VgSAqjMeOtSL",
    "outputId": "d05f1e2f-1de3-4175-a6c6-e5ed7ab23975"
   },
   "outputs": [
    {
     "name": "stdout",
     "output_type": "stream",
     "text": [
      "\n",
      "Confusion Matrix:\n",
      " [[2889   10]\n",
      " [ 182    3]]\n",
      "\n",
      "Classification Report:\n",
      "               precision    recall  f1-score   support\n",
      "\n",
      "           0       0.94      1.00      0.97      2899\n",
      "           1       0.23      0.02      0.03       185\n",
      "\n",
      "    accuracy                           0.94      3084\n",
      "   macro avg       0.59      0.51      0.50      3084\n",
      "weighted avg       0.90      0.94      0.91      3084\n",
      "\n"
     ]
    }
   ],
   "source": [
    "# Logistic regression - baseline, without SMOTE\n",
    "\n",
    "from sklearn.linear_model import LogisticRegression\n",
    "from sklearn.metrics import accuracy_score, classification_report, confusion_matrix\n",
    "\n",
    "# Create a Logistic Regression model\n",
    "logreg_model = LogisticRegression(max_iter=1000, random_state=42)\n",
    "\n",
    "# Train the model on the balanced dataset\n",
    "logreg_model.fit(X_train, y_train)\n",
    "\n",
    "# Make predictions on the test set\n",
    "y_pred_lg = logreg_model.predict(X_test)\n",
    "\n",
    "# Evaluate the performance of the model\n",
    "conf_matrix = confusion_matrix(y_test, y_pred_lg)\n",
    "classification_rep = classification_report(y_test, y_pred_lg)\n",
    "\n",
    "# Print the results\n",
    "print(\"\\nConfusion Matrix:\\n\", conf_matrix)\n",
    "print(\"\\nClassification Report:\\n\", classification_rep)"
   ]
  },
  {
   "cell_type": "code",
   "execution_count": null,
   "metadata": {
    "colab": {
     "base_uri": "https://localhost:8080/"
    },
    "executionInfo": {
     "elapsed": 516,
     "status": "ok",
     "timestamp": 1701473327947,
     "user": {
      "displayName": "Yana G.",
      "userId": "05404332677488623640"
     },
     "user_tz": -60
    },
    "id": "UfmOS17k_7BT",
    "outputId": "b9047980-10f7-4943-da1a-e857056ba725"
   },
   "outputs": [
    {
     "name": "stdout",
     "output_type": "stream",
     "text": [
      "\n",
      "Decision Tree Confusion Matrix:\n",
      " [[2714  185]\n",
      " [ 144   41]]\n",
      "\n",
      "Decision Tree Classification Report:\n",
      "               precision    recall  f1-score   support\n",
      "\n",
      "           0       0.95      0.94      0.94      2899\n",
      "           1       0.18      0.22      0.20       185\n",
      "\n",
      "    accuracy                           0.89      3084\n",
      "   macro avg       0.57      0.58      0.57      3084\n",
      "weighted avg       0.90      0.89      0.90      3084\n",
      "\n"
     ]
    }
   ],
   "source": [
    "# Decision Tree without SMOTE\n",
    "\n",
    "from sklearn.tree import DecisionTreeClassifier\n",
    "from sklearn.metrics import classification_report, confusion_matrix\n",
    "\n",
    "# Create a Decision Tree model\n",
    "dt_model = DecisionTreeClassifier(random_state=42)\n",
    "\n",
    "# Train the model on the SMOTE dataset\n",
    "dt_model.fit(X_train, y_train)\n",
    "\n",
    "# Make predictions on the test set\n",
    "y_pred_dt = dt_model.predict(X_test)\n",
    "\n",
    "# Evaluate the performance of the model\n",
    "conf_matrix_dt = confusion_matrix(y_test, y_pred_dt)\n",
    "classification_rep_dt = classification_report(y_test, y_pred_dt)\n",
    "\n",
    "# Print the results\n",
    "print(\"\\nDecision Tree Confusion Matrix:\\n\", conf_matrix_dt)\n",
    "print(\"\\nDecision Tree Classification Report:\\n\", classification_rep_dt)"
   ]
  },
  {
   "cell_type": "code",
   "execution_count": null,
   "metadata": {
    "colab": {
     "base_uri": "https://localhost:8080/"
    },
    "executionInfo": {
     "elapsed": 2431,
     "status": "ok",
     "timestamp": 1701473330337,
     "user": {
      "displayName": "Yana G.",
      "userId": "05404332677488623640"
     },
     "user_tz": -60
    },
    "id": "Gqn6hLYoPTaZ",
    "outputId": "01fd03ed-41e9-489d-ec90-50aa87217c21"
   },
   "outputs": [
    {
     "name": "stdout",
     "output_type": "stream",
     "text": [
      "\n",
      "Random Forest Confusion Matrix:\n",
      " [[2899    0]\n",
      " [ 182    3]]\n",
      "\n",
      "Random Forest Classification Report:\n",
      "               precision    recall  f1-score   support\n",
      "\n",
      "           0       0.94      1.00      0.97      2899\n",
      "           1       1.00      0.02      0.03       185\n",
      "\n",
      "    accuracy                           0.94      3084\n",
      "   macro avg       0.97      0.51      0.50      3084\n",
      "weighted avg       0.94      0.94      0.91      3084\n",
      "\n",
      "Size of the x-train, y-train, x-test, y-test: (12335, 12335, 3084, 3084)\n"
     ]
    }
   ],
   "source": [
    "# Random Forest without SMOTE\n",
    "\n",
    "from sklearn.ensemble import RandomForestClassifier\n",
    "\n",
    "# Create a Random Forest model\n",
    "rf_model = RandomForestClassifier(random_state=42)\n",
    "\n",
    "# Train the model on the balanced dataset\n",
    "rf_model.fit(X_train, y_train)\n",
    "\n",
    "# Make predictions on the test set\n",
    "y_pred_rf = rf_model.predict(X_test)\n",
    "\n",
    "# Evaluate the performance of the model\n",
    "# accuracy_rf = accuracy_score(y_test_balanced, y_pred_rf)\n",
    "conf_matrix_rf = confusion_matrix(y_test, y_pred_rf)\n",
    "classification_rep_rf = classification_report(y_test, y_pred_rf)\n",
    "\n",
    "# Print the results\n",
    "print(\"\\nRandom Forest Confusion Matrix:\\n\", conf_matrix_rf)\n",
    "print(\"\\nRandom Forest Classification Report:\\n\", classification_rep_rf)\n",
    "print(f'Size of the x-train, y-train, x-test, y-test: {len(X_train), len(y_train), len(X_test), len(y_test)}')"
   ]
  },
  {
   "cell_type": "code",
   "execution_count": null,
   "metadata": {
    "colab": {
     "base_uri": "https://localhost:8080/"
    },
    "executionInfo": {
     "elapsed": 1781,
     "status": "ok",
     "timestamp": 1701473332088,
     "user": {
      "displayName": "Yana G.",
      "userId": "05404332677488623640"
     },
     "user_tz": -60
    },
    "id": "sOfcQ3Omo9xf",
    "outputId": "155a6cff-9d99-42f6-c5bc-5f8a74a45162"
   },
   "outputs": [
    {
     "name": "stdout",
     "output_type": "stream",
     "text": [
      "\n",
      "Confusion Matrix:\n",
      " [[2877   22]\n",
      " [ 169   16]]\n",
      "\n",
      "Classification Report:\n",
      "               precision    recall  f1-score   support\n",
      "\n",
      "           0       0.94      0.99      0.97      2899\n",
      "           1       0.42      0.09      0.14       185\n",
      "\n",
      "    accuracy                           0.94      3084\n",
      "   macro avg       0.68      0.54      0.56      3084\n",
      "weighted avg       0.91      0.94      0.92      3084\n",
      "\n"
     ]
    }
   ],
   "source": [
    "# XGBoost without SMOTE:\n",
    "import xgboost as xgb\n",
    "\n",
    "# Create an XGBoost model\n",
    "xgb_model = xgb.XGBClassifier(random_state=42)\n",
    "\n",
    "# Train the model on the training set\n",
    "xgb_model.fit(X_train, y_train)\n",
    "\n",
    "# Make predictions on the test set\n",
    "y_pred = xgb_model.predict(X_test)\n",
    "\n",
    "# Evaluate the performance of the model\n",
    "conf_matrix = confusion_matrix(y_test, y_pred)\n",
    "classification_rep = classification_report(y_test, y_pred)\n",
    "\n",
    "# Print the results\n",
    "print(\"\\nConfusion Matrix:\\n\", conf_matrix)\n",
    "print(\"\\nClassification Report:\\n\", classification_rep)\n"
   ]
  },
  {
   "cell_type": "markdown",
   "metadata": {
    "id": "E4Wt-CZLQUFi"
   },
   "source": [
    "[[True Negative (TN)   False Positive (FP)] <br/>\n",
    " [False Negative (FN)  True Positive (TP)]]"
   ]
  },
  {
   "cell_type": "code",
   "execution_count": null,
   "metadata": {
    "id": "r7tPI7MO_YYC"
   },
   "outputs": [],
   "source": [
    "# Applying SMOTE to oversample the minority class cases:\n",
    "\n",
    "from imblearn.over_sampling import SMOTE\n",
    "\n",
    "smote = SMOTE(random_state=42)\n",
    "X_train_smote, y_train_smote = smote.fit_resample(X_train, y_train)"
   ]
  },
  {
   "cell_type": "code",
   "execution_count": null,
   "metadata": {
    "colab": {
     "base_uri": "https://localhost:8080/"
    },
    "executionInfo": {
     "elapsed": 22,
     "status": "ok",
     "timestamp": 1701473332091,
     "user": {
      "displayName": "Yana G.",
      "userId": "05404332677488623640"
     },
     "user_tz": -60
    },
    "id": "O6Wvlp-gC4p3",
    "outputId": "365dee7d-22da-4af1-ce49-3ff8553773d6"
   },
   "outputs": [
    {
     "data": {
      "text/plain": [
       "1    11597\n",
       "0    11597\n",
       "Name: FraudFound_P, dtype: int64"
      ]
     },
     "execution_count": 52,
     "metadata": {},
     "output_type": "execute_result"
    }
   ],
   "source": [
    "y_train_smote.value_counts()\n"
   ]
  },
  {
   "cell_type": "code",
   "execution_count": null,
   "metadata": {
    "colab": {
     "base_uri": "https://localhost:8080/"
    },
    "executionInfo": {
     "elapsed": 2729,
     "status": "ok",
     "timestamp": 1701473334803,
     "user": {
      "displayName": "Yana G.",
      "userId": "05404332677488623640"
     },
     "user_tz": -60
    },
    "id": "c9yF8RHlwEa5",
    "outputId": "196aa6de-9538-4d68-b4b1-034620dc589f"
   },
   "outputs": [
    {
     "name": "stdout",
     "output_type": "stream",
     "text": [
      "\n",
      "Confusion Matrix:\n",
      " [[2887   12]\n",
      " [ 182    3]]\n",
      "\n",
      "Classification Report:\n",
      "               precision    recall  f1-score   support\n",
      "\n",
      "           0       0.94      1.00      0.97      2899\n",
      "           1       0.20      0.02      0.03       185\n",
      "\n",
      "    accuracy                           0.94      3084\n",
      "   macro avg       0.57      0.51      0.50      3084\n",
      "weighted avg       0.90      0.94      0.91      3084\n",
      "\n"
     ]
    }
   ],
   "source": [
    "# Logistic Regression after applying SMOTE:\n",
    "from sklearn.linear_model import LogisticRegression\n",
    "from sklearn.metrics import accuracy_score, classification_report, confusion_matrix\n",
    "\n",
    "# Create a Logistic Regression model\n",
    "logreg_model = LogisticRegression(max_iter=1000, random_state=42)\n",
    "\n",
    "# Train the model on the balanced dataset\n",
    "logreg_model.fit(X_train_smote, y_train_smote)\n",
    "\n",
    "# Make predictions on the test set\n",
    "y_pred = logreg_model.predict(X_test)\n",
    "\n",
    "# Evaluate the performance of the model\n",
    "conf_matrix = confusion_matrix(y_test, y_pred)\n",
    "classification_rep = classification_report(y_test, y_pred)\n",
    "\n",
    "# Print the results\n",
    "print(\"\\nConfusion Matrix:\\n\", conf_matrix)\n",
    "print(\"\\nClassification Report:\\n\", classification_rep)\n"
   ]
  },
  {
   "cell_type": "code",
   "execution_count": null,
   "metadata": {
    "colab": {
     "base_uri": "https://localhost:8080/"
    },
    "executionInfo": {
     "elapsed": 685,
     "status": "ok",
     "timestamp": 1701473335452,
     "user": {
      "displayName": "Yana G.",
      "userId": "05404332677488623640"
     },
     "user_tz": -60
    },
    "id": "O-vff3IHlkzl",
    "outputId": "85a584bc-8ee6-4c7d-9681-cb9d01bc8ae0"
   },
   "outputs": [
    {
     "name": "stdout",
     "output_type": "stream",
     "text": [
      "\n",
      "Decision Tree Confusion Matrix:\n",
      " [[2704  195]\n",
      " [ 156   29]]\n",
      "\n",
      "Decision Tree Classification Report:\n",
      "               precision    recall  f1-score   support\n",
      "\n",
      "           0       0.95      0.93      0.94      2899\n",
      "           1       0.13      0.16      0.14       185\n",
      "\n",
      "    accuracy                           0.89      3084\n",
      "   macro avg       0.54      0.54      0.54      3084\n",
      "weighted avg       0.90      0.89      0.89      3084\n",
      "\n"
     ]
    }
   ],
   "source": [
    "# Decision Tree after SMOTE:\n",
    "\n",
    "from sklearn.tree import DecisionTreeClassifier\n",
    "from sklearn.metrics import classification_report, confusion_matrix\n",
    "\n",
    "# Create a Decision Tree model\n",
    "dt_model = DecisionTreeClassifier(random_state=42)\n",
    "\n",
    "# Train the model on the SMOTE dataset\n",
    "dt_model.fit(X_train_smote, y_train_smote)\n",
    "\n",
    "# Make predictions on the test set\n",
    "y_pred_dt = dt_model.predict(X_test)\n",
    "\n",
    "# Evaluate the performance of the model\n",
    "conf_matrix_dt = confusion_matrix(y_test, y_pred_dt)\n",
    "classification_rep_dt = classification_report(y_test, y_pred_dt)\n",
    "\n",
    "# Print the results\n",
    "print(\"\\nDecision Tree Confusion Matrix:\\n\", conf_matrix_dt)\n",
    "print(\"\\nDecision Tree Classification Report:\\n\", classification_rep_dt)\n"
   ]
  },
  {
   "cell_type": "code",
   "execution_count": null,
   "metadata": {
    "colab": {
     "base_uri": "https://localhost:8080/"
    },
    "executionInfo": {
     "elapsed": 444073,
     "status": "ok",
     "timestamp": 1701473779517,
     "user": {
      "displayName": "Yana G.",
      "userId": "05404332677488623640"
     },
     "user_tz": -60
    },
    "id": "JKTUNzWoF7Ks",
    "outputId": "ae02701b-7d79-4d4f-8bb9-0ca6f2cf5f56"
   },
   "outputs": [
    {
     "name": "stdout",
     "output_type": "stream",
     "text": [
      "Best Parameters:  {'class_weight': None, 'criterion': 'gini', 'max_depth': None, 'min_samples_leaf': 4, 'min_samples_split': 2}\n",
      "\n",
      "Best Decision Tree Confusion Matrix:\n",
      " [[2675  224]\n",
      " [ 139   46]]\n",
      "\n",
      "Best Decision Tree Classification Report:\n",
      "               precision    recall  f1-score   support\n",
      "\n",
      "           0       0.95      0.92      0.94      2899\n",
      "           1       0.17      0.25      0.20       185\n",
      "\n",
      "    accuracy                           0.88      3084\n",
      "   macro avg       0.56      0.59      0.57      3084\n",
      "weighted avg       0.90      0.88      0.89      3084\n",
      "\n"
     ]
    }
   ],
   "source": [
    "# Decision Tree after SMOTE with  hyperparameters tuning\n",
    "\n",
    "from sklearn.tree import DecisionTreeClassifier\n",
    "from sklearn.model_selection import GridSearchCV\n",
    "from sklearn.metrics import classification_report, confusion_matrix\n",
    "\n",
    "# Define the parameter grid\n",
    "param_grid = {\n",
    "    'criterion': ['gini', 'entropy'],\n",
    "    'max_depth': [None, 5, 10, 15],\n",
    "    'min_samples_split': [2, 3, 4, 5],\n",
    "    'min_samples_leaf': [1, 2, 3, 4],\n",
    "    'class_weight': ['balanced', None]\n",
    "}\n",
    "\n",
    "# Create the Decision Tree model\n",
    "dt_model = DecisionTreeClassifier(random_state=42)\n",
    "\n",
    "# Create the GridSearchCV object\n",
    "grid_search = GridSearchCV(dt_model, param_grid, scoring='f1', cv=5)\n",
    "\n",
    "# Fit the grid search to the data\n",
    "grid_search.fit(X_train_smote, y_train_smote)\n",
    "\n",
    "# Print the best parameters\n",
    "print(\"Best Parameters: \", grid_search.best_params_)\n",
    "\n",
    "# Get the best model\n",
    "best_dt_model = grid_search.best_estimator_\n",
    "\n",
    "# Make predictions on the test set\n",
    "y_pred_prob_dt = best_dt_model.predict_proba(X_test)[:, 1]\n",
    "\n",
    "# Adjust the decision threshold (example: set it to 0.3)\n",
    "custom_threshold = 0.3\n",
    "y_pred_dt = (y_pred_prob_dt >= custom_threshold).astype(int)\n",
    "\n",
    "# Evaluate the performance of the best Decision Tree model\n",
    "conf_matrix_dt = confusion_matrix(y_test, y_pred_dt)\n",
    "classification_rep_dt = classification_report(y_test, y_pred_dt)\n",
    "\n",
    "# Print the results\n",
    "print(\"\\nBest Decision Tree Confusion Matrix:\\n\", conf_matrix_dt)\n",
    "print(\"\\nBest Decision Tree Classification Report:\\n\", classification_rep_dt)\n",
    "\n",
    "\n"
   ]
  },
  {
   "cell_type": "code",
   "execution_count": null,
   "metadata": {
    "colab": {
     "base_uri": "https://localhost:8080/"
    },
    "executionInfo": {
     "elapsed": 27,
     "status": "ok",
     "timestamp": 1701473779518,
     "user": {
      "displayName": "Yana G.",
      "userId": "05404332677488623640"
     },
     "user_tz": -60
    },
    "id": "8LfZA9jYL1ip",
    "outputId": "809797c0-2a26-4d40-a270-364205d4bc7c"
   },
   "outputs": [
    {
     "data": {
      "text/plain": [
       "0    2899\n",
       "1     185\n",
       "Name: FraudFound_P, dtype: int64"
      ]
     },
     "execution_count": 56,
     "metadata": {},
     "output_type": "execute_result"
    }
   ],
   "source": [
    "y_test.value_counts()"
   ]
  },
  {
   "cell_type": "code",
   "execution_count": null,
   "metadata": {
    "id": "Wg5rxTebls-O"
   },
   "outputs": [],
   "source": [
    "# Ensemble Models (black-box)"
   ]
  },
  {
   "cell_type": "code",
   "execution_count": null,
   "metadata": {
    "colab": {
     "base_uri": "https://localhost:8080/"
    },
    "executionInfo": {
     "elapsed": 3907,
     "status": "ok",
     "timestamp": 1701473783413,
     "user": {
      "displayName": "Yana G.",
      "userId": "05404332677488623640"
     },
     "user_tz": -60
    },
    "id": "oWA_NaqnUrjm",
    "outputId": "bdaf5b36-b97d-4ffe-c4e6-235a4bc10528"
   },
   "outputs": [
    {
     "name": "stdout",
     "output_type": "stream",
     "text": [
      "\n",
      "Random Forest Confusion Matrix:\n",
      " [[2898    1]\n",
      " [ 181    4]]\n",
      "\n",
      "Random Forest Classification Report:\n",
      "               precision    recall  f1-score   support\n",
      "\n",
      "           0       0.94      1.00      0.97      2899\n",
      "           1       0.80      0.02      0.04       185\n",
      "\n",
      "    accuracy                           0.94      3084\n",
      "   macro avg       0.87      0.51      0.51      3084\n",
      "weighted avg       0.93      0.94      0.91      3084\n",
      "\n"
     ]
    }
   ],
   "source": [
    "# Random Trees after SMOTE using hypertuning parameters from Decision Tree\n",
    "\n",
    "from sklearn.ensemble import RandomForestClassifier\n",
    "from sklearn.metrics import classification_report, confusion_matrix\n",
    "\n",
    "# Best hyperparameters obtained from the Decision Tree model\n",
    "best_dt_params = {\n",
    "    'class_weight': 'balanced',\n",
    "    'criterion': 'gini',\n",
    "    'max_depth': None,\n",
    "    'min_samples_leaf': 4,\n",
    "    'min_samples_split': 2\n",
    "}\n",
    "\n",
    "# Create a Random Forest model using the best hyperparameters\n",
    "rf_model = RandomForestClassifier(**best_dt_params, random_state=42)\n",
    "\n",
    "# Train the model on your data\n",
    "rf_model.fit(X_train_smote, y_train_smote)\n",
    "\n",
    "# Make predictions\n",
    "y_pred_rf = rf_model.predict(X_test)\n",
    "\n",
    "# Evaluate the performance of the Random Forest model\n",
    "conf_matrix_rf = confusion_matrix(y_test, y_pred_rf)\n",
    "classification_rep_rf = classification_report(y_test, y_pred_rf)\n",
    "\n",
    "# Print the results\n",
    "print(\"\\nRandom Forest Confusion Matrix:\\n\", conf_matrix_rf)\n",
    "print(\"\\nRandom Forest Classification Report:\\n\", classification_rep_rf)\n"
   ]
  },
  {
   "cell_type": "code",
   "execution_count": null,
   "metadata": {
    "colab": {
     "base_uri": "https://localhost:8080/"
    },
    "executionInfo": {
     "elapsed": 5904,
     "status": "ok",
     "timestamp": 1701473789301,
     "user": {
      "displayName": "Yana G.",
      "userId": "05404332677488623640"
     },
     "user_tz": -60
    },
    "id": "47i8-lNz1pCI",
    "outputId": "d9754fbd-ab4c-4aa7-b5c0-a0d73fbf31c8"
   },
   "outputs": [
    {
     "name": "stdout",
     "output_type": "stream",
     "text": [
      "\n",
      "Random Forest Confusion Matrix:\n",
      " [[2899    0]\n",
      " [ 176    9]]\n",
      "\n",
      "Random Forest Classification Report:\n",
      "               precision    recall  f1-score   support\n",
      "\n",
      "           0       0.94      1.00      0.97      2899\n",
      "           1       1.00      0.05      0.09       185\n",
      "\n",
      "    accuracy                           0.94      3084\n",
      "   macro avg       0.97      0.52      0.53      3084\n",
      "weighted avg       0.95      0.94      0.92      3084\n",
      "\n"
     ]
    }
   ],
   "source": [
    "# Random Forest after applying SMOTE\n",
    "\n",
    "# Create a Random Forest model\n",
    "rf_model = RandomForestClassifier(random_state=42)\n",
    "\n",
    "# Train the model on the balanced dataset\n",
    "rf_model.fit(X_train_smote, y_train_smote)\n",
    "\n",
    "# Make predictions on the test set\n",
    "y_pred_rf = rf_model.predict(X_test)\n",
    "\n",
    "# Evaluate the performance of the model\n",
    "# accuracy_rf = accuracy_score(y_test_balanced, y_pred_rf)\n",
    "conf_matrix_rf = confusion_matrix(y_test, y_pred_rf)\n",
    "classification_rep_rf = classification_report(y_test, y_pred_rf)\n",
    "\n",
    "# Print the results\n",
    "print(\"\\nRandom Forest Confusion Matrix:\\n\", conf_matrix_rf)\n",
    "print(\"\\nRandom Forest Classification Report:\\n\", classification_rep_rf)\n"
   ]
  },
  {
   "cell_type": "code",
   "execution_count": null,
   "metadata": {
    "colab": {
     "base_uri": "https://localhost:8080/"
    },
    "executionInfo": {
     "elapsed": 1015614,
     "status": "ok",
     "timestamp": 1701474804882,
     "user": {
      "displayName": "Yana G.",
      "userId": "05404332677488623640"
     },
     "user_tz": -60
    },
    "id": "5DMN1mV4jb_z",
    "outputId": "5bb7d263-f975-4e4a-ff51-9909f8b7715a"
   },
   "outputs": [
    {
     "name": "stdout",
     "output_type": "stream",
     "text": [
      "Fitting 5 folds for each of 81 candidates, totalling 405 fits\n",
      "\n",
      "Random Forest Confusion Matrix:\n",
      " [[2899    0]\n",
      " [ 176    9]]\n",
      "\n",
      "Random Forest Classification Report:\n",
      "               precision    recall  f1-score   support\n",
      "\n",
      "           0       0.94      1.00      0.97      2899\n",
      "           1       1.00      0.05      0.09       185\n",
      "\n",
      "    accuracy                           0.94      3084\n",
      "   macro avg       0.97      0.52      0.53      3084\n",
      "weighted avg       0.95      0.94      0.92      3084\n",
      "\n",
      "Best Hyperparameters: {'max_depth': None, 'min_samples_leaf': 1, 'min_samples_split': 2, 'n_estimators': 200}\n"
     ]
    }
   ],
   "source": [
    "# Random Forest after applying SMOTE with hyperparameter tuning\n",
    "\n",
    "from sklearn.model_selection import GridSearchCV\n",
    "from sklearn.ensemble import RandomForestClassifier\n",
    "from sklearn.metrics import confusion_matrix, classification_report\n",
    "\n",
    "\n",
    "# Create a Random Forest model\n",
    "rf_model = RandomForestClassifier(random_state=42)\n",
    "\n",
    "# Define the parameter grid for hyperparameter tuning\n",
    "param_grid = {\n",
    "   'n_estimators': [50, 100, 200],\n",
    "   'max_depth': [None, 10, 20],\n",
    "   'min_samples_split': [2, 5, 10],\n",
    "   'min_samples_leaf': [1, 2, 4]\n",
    "}\n",
    "\n",
    "# param_grid = {\n",
    "#     'n_estimators': [100, 200, 300, 400],\n",
    "#     'max_depth': [None, 5, 10, 15],\n",
    "#     'min_samples_split': [5, 10, 20],\n",
    "#     'min_samples_leaf': [2, 3, 5]\n",
    "# }\n",
    "\n",
    "# Create GridSearchCV with 5-fold cross-validation\n",
    "grid_search = GridSearchCV(estimator=rf_model, param_grid=param_grid, cv=5, scoring='f1', verbose=1, n_jobs=-1)\n",
    "\n",
    "# Fit the model with early stopping\n",
    "grid_search.fit(X_train_smote, y_train_smote)\n",
    "\n",
    "# Get the best model from the grid search\n",
    "best_rf_model = grid_search.best_estimator_\n",
    "\n",
    "# Make predictions on the test set\n",
    "y_pred_rf = best_rf_model.predict(X_test)\n",
    "\n",
    "# Evaluate the performance of the model\n",
    "conf_matrix_rf = confusion_matrix(y_test, y_pred_rf)\n",
    "classification_rep_rf = classification_report(y_test, y_pred_rf)\n",
    "\n",
    "# Print the results\n",
    "print(\"\\nRandom Forest Confusion Matrix:\\n\", conf_matrix_rf)\n",
    "print(\"\\nRandom Forest Classification Report:\\n\", classification_rep_rf)\n",
    "print(\"Best Hyperparameters:\", grid_search.best_params_)\n"
   ]
  },
  {
   "cell_type": "code",
   "execution_count": null,
   "metadata": {
    "colab": {
     "base_uri": "https://localhost:8080/"
    },
    "executionInfo": {
     "elapsed": 1987,
     "status": "ok",
     "timestamp": 1701474806858,
     "user": {
      "displayName": "Yana G.",
      "userId": "05404332677488623640"
     },
     "user_tz": -60
    },
    "id": "4oH3G0Z1a-oq",
    "outputId": "6a11aa08-3448-46d8-8bef-92434c83ac24"
   },
   "outputs": [
    {
     "name": "stdout",
     "output_type": "stream",
     "text": [
      "\n",
      "Confusion Matrix:\n",
      " [[2891    8]\n",
      " [ 179    6]]\n",
      "\n",
      "Classification Report:\n",
      "               precision    recall  f1-score   support\n",
      "\n",
      "           0       0.94      1.00      0.97      2899\n",
      "           1       0.43      0.03      0.06       185\n",
      "\n",
      "    accuracy                           0.94      3084\n",
      "   macro avg       0.69      0.51      0.51      3084\n",
      "weighted avg       0.91      0.94      0.91      3084\n",
      "\n"
     ]
    }
   ],
   "source": [
    "# XGBoost After SMOTE:\n",
    "import xgboost as xgb\n",
    "\n",
    "# Create an XGBoost model\n",
    "xgb_model = xgb.XGBClassifier(random_state=42)\n",
    "\n",
    "# Train the model on the training set\n",
    "xgb_model.fit(X_train_smote, y_train_smote)\n",
    "\n",
    "# Make predictions on the test set\n",
    "y_pred = xgb_model.predict(X_test)\n",
    "\n",
    "# Evaluate the performance of the model\n",
    "conf_matrix = confusion_matrix(y_test, y_pred)\n",
    "classification_rep = classification_report(y_test, y_pred)\n",
    "\n",
    "# Print the results\n",
    "print(\"\\nConfusion Matrix:\\n\", conf_matrix)\n",
    "print(\"\\nClassification Report:\\n\", classification_rep)\n"
   ]
  },
  {
   "cell_type": "code",
   "execution_count": null,
   "metadata": {
    "colab": {
     "base_uri": "https://localhost:8080/"
    },
    "executionInfo": {
     "elapsed": 2637538,
     "status": "ok",
     "timestamp": 1701477444384,
     "user": {
      "displayName": "Yana G.",
      "userId": "05404332677488623640"
     },
     "user_tz": -60
    },
    "id": "rT00zX_8bZI0",
    "outputId": "39fdcf01-f08e-4131-a2b5-52af6adb4318"
   },
   "outputs": [
    {
     "name": "stdout",
     "output_type": "stream",
     "text": [
      "Best Hyperparameters: {'colsample_bytree': 0.8, 'gamma': 1, 'learning_rate': 0.1, 'max_depth': 5, 'n_estimators': 200, 'subsample': 1.0}\n",
      "\n",
      "Confusion Matrix:\n",
      " [[2899    0]\n",
      " [ 181    4]]\n",
      "\n",
      "Classification Report:\n",
      "               precision    recall  f1-score   support\n",
      "\n",
      "           0       0.94      1.00      0.97      2899\n",
      "           1       1.00      0.02      0.04       185\n",
      "\n",
      "    accuracy                           0.94      3084\n",
      "   macro avg       0.97      0.51      0.51      3084\n",
      "weighted avg       0.94      0.94      0.91      3084\n",
      "\n"
     ]
    }
   ],
   "source": [
    "# XGBoost After SMOTE with hyperparameters tuning\n",
    "\n",
    "import xgboost as xgb\n",
    "from sklearn.model_selection import GridSearchCV\n",
    "\n",
    "# Create an XGBoost model\n",
    "xgb_model = xgb.XGBClassifier(random_state=42)\n",
    "\n",
    "# Define the hyperparameter grid to search\n",
    "param_grid = {\n",
    "    'n_estimators': [50, 100, 200],\n",
    "    'learning_rate': [0.01, 0.1, 0.2],\n",
    "    'max_depth': [3, 5, 7],\n",
    "    'subsample': [0.8, 1.0],\n",
    "    'colsample_bytree': [0.8, 1.0],\n",
    "    'gamma': [0, 1],\n",
    "}\n",
    "\n",
    "# Create a GridSearchCV object\n",
    "grid_search = GridSearchCV(estimator=xgb_model, param_grid=param_grid, scoring='f1', cv=5)\n",
    "\n",
    "# Fit the grid search to the data\n",
    "grid_search.fit(X_train_smote, y_train_smote)\n",
    "\n",
    "# Get the best hyperparameters\n",
    "best_params = grid_search.best_params_\n",
    "\n",
    "# Print the best hyperparameters\n",
    "print(\"Best Hyperparameters:\", best_params)\n",
    "\n",
    "# Use the best model to make predictions on the test set\n",
    "best_xgb_model = grid_search.best_estimator_\n",
    "y_pred = best_xgb_model.predict(X_test)\n",
    "\n",
    "# Evaluate the performance of the best model\n",
    "conf_matrix = confusion_matrix(y_test, y_pred)\n",
    "classification_rep = classification_report(y_test, y_pred)\n",
    "\n",
    "# Print the results\n",
    "print(\"\\nConfusion Matrix:\\n\", conf_matrix)\n",
    "print(\"\\nClassification Report:\\n\", classification_rep)\n"
   ]
  },
  {
   "cell_type": "code",
   "execution_count": null,
   "metadata": {
    "colab": {
     "base_uri": "https://localhost:8080/"
    },
    "executionInfo": {
     "elapsed": 15755,
     "status": "ok",
     "timestamp": 1701477460127,
     "user": {
      "displayName": "Yana G.",
      "userId": "05404332677488623640"
     },
     "user_tz": -60
    },
    "id": "Mkuju1K-cSq3",
    "outputId": "79e8a3a8-c4b9-44e6-fa9f-680a21ffa45e"
   },
   "outputs": [
    {
     "name": "stdout",
     "output_type": "stream",
     "text": [
      "Epoch 1/20\n",
      "290/290 [==============================] - 2s 4ms/step - loss: 0.2265 - accuracy: 0.9246 - val_loss: 0.0119 - val_accuracy: 0.9937\n",
      "Epoch 2/20\n",
      "290/290 [==============================] - 1s 3ms/step - loss: 0.1381 - accuracy: 0.9572 - val_loss: 0.0193 - val_accuracy: 0.9907\n",
      "Epoch 3/20\n",
      "290/290 [==============================] - 1s 3ms/step - loss: 0.1286 - accuracy: 0.9578 - val_loss: 0.0137 - val_accuracy: 0.9935\n",
      "Epoch 4/20\n",
      "290/290 [==============================] - 1s 3ms/step - loss: 0.1231 - accuracy: 0.9584 - val_loss: 0.0105 - val_accuracy: 0.9953\n",
      "Epoch 5/20\n",
      "290/290 [==============================] - 1s 3ms/step - loss: 0.1194 - accuracy: 0.9589 - val_loss: 0.0083 - val_accuracy: 0.9957\n",
      "Epoch 6/20\n",
      "290/290 [==============================] - 1s 3ms/step - loss: 0.1136 - accuracy: 0.9596 - val_loss: 0.0085 - val_accuracy: 0.9957\n",
      "Epoch 7/20\n",
      "290/290 [==============================] - 1s 3ms/step - loss: 0.1090 - accuracy: 0.9610 - val_loss: 0.0065 - val_accuracy: 0.9966\n",
      "Epoch 8/20\n",
      "290/290 [==============================] - 1s 3ms/step - loss: 0.1019 - accuracy: 0.9624 - val_loss: 0.0064 - val_accuracy: 0.9963\n",
      "Epoch 9/20\n",
      "290/290 [==============================] - 1s 3ms/step - loss: 0.0960 - accuracy: 0.9636 - val_loss: 0.0029 - val_accuracy: 0.9983\n",
      "Epoch 10/20\n",
      "290/290 [==============================] - 1s 3ms/step - loss: 0.0903 - accuracy: 0.9656 - val_loss: 0.0062 - val_accuracy: 0.9966\n",
      "Epoch 11/20\n",
      "290/290 [==============================] - 1s 3ms/step - loss: 0.0783 - accuracy: 0.9698 - val_loss: 0.0039 - val_accuracy: 0.9976\n",
      "Epoch 12/20\n",
      "290/290 [==============================] - 1s 3ms/step - loss: 0.0686 - accuracy: 0.9734 - val_loss: 0.0037 - val_accuracy: 0.9976\n",
      "97/97 [==============================] - 0s 1ms/step\n",
      "\n",
      "Confusion Matrix:\n",
      " [[2839   60]\n",
      " [ 158   27]]\n",
      "\n",
      "Classification Report:\n",
      "               precision    recall  f1-score   support\n",
      "\n",
      "           0       0.95      0.98      0.96      2899\n",
      "           1       0.31      0.15      0.20       185\n",
      "\n",
      "    accuracy                           0.93      3084\n",
      "   macro avg       0.63      0.56      0.58      3084\n",
      "weighted avg       0.91      0.93      0.92      3084\n",
      "\n"
     ]
    }
   ],
   "source": [
    "# NN model applied after SMOTE:\n",
    "\n",
    "\n",
    "import tensorflow as tf\n",
    "from tensorflow.keras.models import Sequential\n",
    "from tensorflow.keras.layers import Dense\n",
    "from sklearn.metrics import confusion_matrix, classification_report\n",
    "\n",
    "# added\n",
    "from tensorflow.keras.callbacks import EarlyStopping\n",
    "\n",
    "# Define early stopping callback\n",
    "\n",
    "# added\n",
    "early_stopping_callback = EarlyStopping(monitor='val_loss', patience=3)\n",
    "\n",
    "\n",
    "# Create a Sequential model\n",
    "model = Sequential()\n",
    "\n",
    "# Add layers to the model\n",
    "model.add(Dense(128, input_dim=X_train_smote.shape[1], activation='relu'))\n",
    "model.add(Dense(64, activation='relu'))\n",
    "model.add(Dense(1, activation='sigmoid'))\n",
    "\n",
    "# Compile the model\n",
    "model.compile(loss='binary_crossentropy', optimizer='adam', metrics=['accuracy'])\n",
    "\n",
    "# Train the model on the training set\n",
    "#model.fit(X_train_smote, y_train_smote, epochs=10, batch_size=32, validation_split=0.2)\n",
    "model.fit(X_train_smote, y_train_smote, epochs=20, batch_size=64, validation_split=0.2, callbacks=[early_stopping_callback])\n",
    "# try decreasing the batch size\n",
    "\n",
    "\n",
    "# Make predictions on the test set\n",
    "y_pred_prob = model.predict(X_test)\n",
    "y_pred = (y_pred_prob > 0.5).astype(int)\n",
    "\n",
    "# Evaluate the performance of the model\n",
    "conf_matrix = confusion_matrix(y_test, y_pred)\n",
    "classification_rep = classification_report(y_test, y_pred)\n",
    "\n",
    "# Print the results\n",
    "print(\"\\nConfusion Matrix:\\n\", conf_matrix)\n",
    "print(\"\\nClassification Report:\\n\", classification_rep)\n",
    "\n"
   ]
  },
  {
   "cell_type": "markdown",
   "metadata": {
    "id": "y7PlDkejcA_2"
   },
   "source": [
    "Move the code snippets below to the appropriate places once done with all the models"
   ]
  },
  {
   "cell_type": "code",
   "execution_count": null,
   "metadata": {
    "colab": {
     "base_uri": "https://localhost:8080/",
     "height": 409
    },
    "executionInfo": {
     "elapsed": 1023,
     "status": "error",
     "timestamp": 1701477461139,
     "user": {
      "displayName": "Yana G.",
      "userId": "05404332677488623640"
     },
     "user_tz": -60
    },
    "id": "-89XuqJSZ0K5",
    "outputId": "f7bb8e66-4272-4bdd-fd9c-0212af58e323"
   },
   "outputs": [
    {
     "ename": "ValueError",
     "evalue": "ignored",
     "output_type": "error",
     "traceback": [
      "\u001b[0;31m---------------------------------------------------------------------------\u001b[0m",
      "\u001b[0;31mValueError\u001b[0m                                Traceback (most recent call last)",
      "\u001b[0;32m<ipython-input-64-bd6e60e637c6>\u001b[0m in \u001b[0;36m<cell line: 11>\u001b[0;34m()\u001b[0m\n\u001b[1;32m      9\u001b[0m \u001b[0;34m\u001b[0m\u001b[0m\n\u001b[1;32m     10\u001b[0m \u001b[0;31m# DataFrame to store coefficients and feature names\u001b[0m\u001b[0;34m\u001b[0m\u001b[0;34m\u001b[0m\u001b[0m\n\u001b[0;32m---> 11\u001b[0;31m \u001b[0mcoefficients_df\u001b[0m \u001b[0;34m=\u001b[0m \u001b[0mpd\u001b[0m\u001b[0;34m.\u001b[0m\u001b[0mDataFrame\u001b[0m\u001b[0;34m(\u001b[0m\u001b[0;34m{\u001b[0m\u001b[0;34m'Feature'\u001b[0m\u001b[0;34m:\u001b[0m \u001b[0mfeature_names\u001b[0m\u001b[0;34m,\u001b[0m \u001b[0;34m'Coefficient'\u001b[0m\u001b[0;34m:\u001b[0m \u001b[0mcoefficients\u001b[0m\u001b[0;34m}\u001b[0m\u001b[0;34m)\u001b[0m\u001b[0;34m\u001b[0m\u001b[0;34m\u001b[0m\u001b[0m\n\u001b[0m\u001b[1;32m     12\u001b[0m \u001b[0;34m\u001b[0m\u001b[0m\n\u001b[1;32m     13\u001b[0m \u001b[0;31m# Sort the DataFrame by absolute values of coefficients\u001b[0m\u001b[0;34m\u001b[0m\u001b[0;34m\u001b[0m\u001b[0m\n",
      "\u001b[0;32m/usr/local/lib/python3.10/dist-packages/pandas/core/frame.py\u001b[0m in \u001b[0;36m__init__\u001b[0;34m(self, data, index, columns, dtype, copy)\u001b[0m\n\u001b[1;32m    662\u001b[0m         \u001b[0;32melif\u001b[0m \u001b[0misinstance\u001b[0m\u001b[0;34m(\u001b[0m\u001b[0mdata\u001b[0m\u001b[0;34m,\u001b[0m \u001b[0mdict\u001b[0m\u001b[0;34m)\u001b[0m\u001b[0;34m:\u001b[0m\u001b[0;34m\u001b[0m\u001b[0;34m\u001b[0m\u001b[0m\n\u001b[1;32m    663\u001b[0m             \u001b[0;31m# GH#38939 de facto copy defaults to False only in non-dict cases\u001b[0m\u001b[0;34m\u001b[0m\u001b[0;34m\u001b[0m\u001b[0m\n\u001b[0;32m--> 664\u001b[0;31m             \u001b[0mmgr\u001b[0m \u001b[0;34m=\u001b[0m \u001b[0mdict_to_mgr\u001b[0m\u001b[0;34m(\u001b[0m\u001b[0mdata\u001b[0m\u001b[0;34m,\u001b[0m \u001b[0mindex\u001b[0m\u001b[0;34m,\u001b[0m \u001b[0mcolumns\u001b[0m\u001b[0;34m,\u001b[0m \u001b[0mdtype\u001b[0m\u001b[0;34m=\u001b[0m\u001b[0mdtype\u001b[0m\u001b[0;34m,\u001b[0m \u001b[0mcopy\u001b[0m\u001b[0;34m=\u001b[0m\u001b[0mcopy\u001b[0m\u001b[0;34m,\u001b[0m \u001b[0mtyp\u001b[0m\u001b[0;34m=\u001b[0m\u001b[0mmanager\u001b[0m\u001b[0;34m)\u001b[0m\u001b[0;34m\u001b[0m\u001b[0;34m\u001b[0m\u001b[0m\n\u001b[0m\u001b[1;32m    665\u001b[0m         \u001b[0;32melif\u001b[0m \u001b[0misinstance\u001b[0m\u001b[0;34m(\u001b[0m\u001b[0mdata\u001b[0m\u001b[0;34m,\u001b[0m \u001b[0mma\u001b[0m\u001b[0;34m.\u001b[0m\u001b[0mMaskedArray\u001b[0m\u001b[0;34m)\u001b[0m\u001b[0;34m:\u001b[0m\u001b[0;34m\u001b[0m\u001b[0;34m\u001b[0m\u001b[0m\n\u001b[1;32m    666\u001b[0m             \u001b[0;32mimport\u001b[0m \u001b[0mnumpy\u001b[0m\u001b[0;34m.\u001b[0m\u001b[0mma\u001b[0m\u001b[0;34m.\u001b[0m\u001b[0mmrecords\u001b[0m \u001b[0;32mas\u001b[0m \u001b[0mmrecords\u001b[0m\u001b[0;34m\u001b[0m\u001b[0;34m\u001b[0m\u001b[0m\n",
      "\u001b[0;32m/usr/local/lib/python3.10/dist-packages/pandas/core/internals/construction.py\u001b[0m in \u001b[0;36mdict_to_mgr\u001b[0;34m(data, index, columns, dtype, typ, copy)\u001b[0m\n\u001b[1;32m    491\u001b[0m             \u001b[0marrays\u001b[0m \u001b[0;34m=\u001b[0m \u001b[0;34m[\u001b[0m\u001b[0mx\u001b[0m\u001b[0;34m.\u001b[0m\u001b[0mcopy\u001b[0m\u001b[0;34m(\u001b[0m\u001b[0;34m)\u001b[0m \u001b[0;32mif\u001b[0m \u001b[0mhasattr\u001b[0m\u001b[0;34m(\u001b[0m\u001b[0mx\u001b[0m\u001b[0;34m,\u001b[0m \u001b[0;34m\"dtype\"\u001b[0m\u001b[0;34m)\u001b[0m \u001b[0;32melse\u001b[0m \u001b[0mx\u001b[0m \u001b[0;32mfor\u001b[0m \u001b[0mx\u001b[0m \u001b[0;32min\u001b[0m \u001b[0marrays\u001b[0m\u001b[0;34m]\u001b[0m\u001b[0;34m\u001b[0m\u001b[0;34m\u001b[0m\u001b[0m\n\u001b[1;32m    492\u001b[0m \u001b[0;34m\u001b[0m\u001b[0m\n\u001b[0;32m--> 493\u001b[0;31m     \u001b[0;32mreturn\u001b[0m \u001b[0marrays_to_mgr\u001b[0m\u001b[0;34m(\u001b[0m\u001b[0marrays\u001b[0m\u001b[0;34m,\u001b[0m \u001b[0mcolumns\u001b[0m\u001b[0;34m,\u001b[0m \u001b[0mindex\u001b[0m\u001b[0;34m,\u001b[0m \u001b[0mdtype\u001b[0m\u001b[0;34m=\u001b[0m\u001b[0mdtype\u001b[0m\u001b[0;34m,\u001b[0m \u001b[0mtyp\u001b[0m\u001b[0;34m=\u001b[0m\u001b[0mtyp\u001b[0m\u001b[0;34m,\u001b[0m \u001b[0mconsolidate\u001b[0m\u001b[0;34m=\u001b[0m\u001b[0mcopy\u001b[0m\u001b[0;34m)\u001b[0m\u001b[0;34m\u001b[0m\u001b[0;34m\u001b[0m\u001b[0m\n\u001b[0m\u001b[1;32m    494\u001b[0m \u001b[0;34m\u001b[0m\u001b[0m\n\u001b[1;32m    495\u001b[0m \u001b[0;34m\u001b[0m\u001b[0m\n",
      "\u001b[0;32m/usr/local/lib/python3.10/dist-packages/pandas/core/internals/construction.py\u001b[0m in \u001b[0;36marrays_to_mgr\u001b[0;34m(arrays, columns, index, dtype, verify_integrity, typ, consolidate)\u001b[0m\n\u001b[1;32m    116\u001b[0m         \u001b[0;31m# figure out the index, if necessary\u001b[0m\u001b[0;34m\u001b[0m\u001b[0;34m\u001b[0m\u001b[0m\n\u001b[1;32m    117\u001b[0m         \u001b[0;32mif\u001b[0m \u001b[0mindex\u001b[0m \u001b[0;32mis\u001b[0m \u001b[0;32mNone\u001b[0m\u001b[0;34m:\u001b[0m\u001b[0;34m\u001b[0m\u001b[0;34m\u001b[0m\u001b[0m\n\u001b[0;32m--> 118\u001b[0;31m             \u001b[0mindex\u001b[0m \u001b[0;34m=\u001b[0m \u001b[0m_extract_index\u001b[0m\u001b[0;34m(\u001b[0m\u001b[0marrays\u001b[0m\u001b[0;34m)\u001b[0m\u001b[0;34m\u001b[0m\u001b[0;34m\u001b[0m\u001b[0m\n\u001b[0m\u001b[1;32m    119\u001b[0m         \u001b[0;32melse\u001b[0m\u001b[0;34m:\u001b[0m\u001b[0;34m\u001b[0m\u001b[0;34m\u001b[0m\u001b[0m\n\u001b[1;32m    120\u001b[0m             \u001b[0mindex\u001b[0m \u001b[0;34m=\u001b[0m \u001b[0mensure_index\u001b[0m\u001b[0;34m(\u001b[0m\u001b[0mindex\u001b[0m\u001b[0;34m)\u001b[0m\u001b[0;34m\u001b[0m\u001b[0;34m\u001b[0m\u001b[0m\n",
      "\u001b[0;32m/usr/local/lib/python3.10/dist-packages/pandas/core/internals/construction.py\u001b[0m in \u001b[0;36m_extract_index\u001b[0;34m(data)\u001b[0m\n\u001b[1;32m    664\u001b[0m             \u001b[0mlengths\u001b[0m \u001b[0;34m=\u001b[0m \u001b[0mlist\u001b[0m\u001b[0;34m(\u001b[0m\u001b[0mset\u001b[0m\u001b[0;34m(\u001b[0m\u001b[0mraw_lengths\u001b[0m\u001b[0;34m)\u001b[0m\u001b[0;34m)\u001b[0m\u001b[0;34m\u001b[0m\u001b[0;34m\u001b[0m\u001b[0m\n\u001b[1;32m    665\u001b[0m             \u001b[0;32mif\u001b[0m \u001b[0mlen\u001b[0m\u001b[0;34m(\u001b[0m\u001b[0mlengths\u001b[0m\u001b[0;34m)\u001b[0m \u001b[0;34m>\u001b[0m \u001b[0;36m1\u001b[0m\u001b[0;34m:\u001b[0m\u001b[0;34m\u001b[0m\u001b[0;34m\u001b[0m\u001b[0m\n\u001b[0;32m--> 666\u001b[0;31m                 \u001b[0;32mraise\u001b[0m \u001b[0mValueError\u001b[0m\u001b[0;34m(\u001b[0m\u001b[0;34m\"All arrays must be of the same length\"\u001b[0m\u001b[0;34m)\u001b[0m\u001b[0;34m\u001b[0m\u001b[0;34m\u001b[0m\u001b[0m\n\u001b[0m\u001b[1;32m    667\u001b[0m \u001b[0;34m\u001b[0m\u001b[0m\n\u001b[1;32m    668\u001b[0m             \u001b[0;32mif\u001b[0m \u001b[0mhave_dicts\u001b[0m\u001b[0;34m:\u001b[0m\u001b[0;34m\u001b[0m\u001b[0;34m\u001b[0m\u001b[0m\n",
      "\u001b[0;31mValueError\u001b[0m: All arrays must be of the same length"
     ]
    }
   ],
   "source": [
    "# Coefficients of the Logistic Regression\n",
    "\n",
    "# feature names\n",
    "feature_names = df_fraud_for_modeling.columns\n",
    "\n",
    "# Get the coefficients and intercept\n",
    "coefficients = logreg_model.coef_[0]\n",
    "intercept = logreg_model.intercept_[0]\n",
    "\n",
    "# DataFrame to store coefficients and feature names\n",
    "coefficients_df = pd.DataFrame({'Feature': feature_names, 'Coefficient': coefficients})\n",
    "\n",
    "# Sort the DataFrame by absolute values of coefficients\n",
    "coefficients_df['AbsoluteCoefficient'] = coefficients_df['Coefficient'].abs()\n",
    "coefficients_df = coefficients_df.sort_values(by='AbsoluteCoefficient', ascending=False).drop('AbsoluteCoefficient', axis=1)\n",
    "\n",
    "# Print the sorted coefficients DataFrame\n",
    "print(\"\\nTop 10 Most Important Features:\")\n",
    "print(coefficients_df.head(10))\n"
   ]
  },
  {
   "cell_type": "code",
   "execution_count": null,
   "metadata": {
    "id": "LRihYPF5ztwO"
   },
   "outputs": [],
   "source": [
    "# 5 K-fold for log regression\n",
    "\n",
    "from sklearn.model_selection import cross_val_score, StratifiedKFold\n",
    "from sklearn.metrics import make_scorer, f1_score\n",
    "\n",
    "# Define a custom scorer for F1-score\n",
    "f1_scorer = make_scorer(f1_score, average='weighted')\n",
    "\n",
    "# Perform 5-fold cross-validation with F1-score as the scoring metric\n",
    "cv = StratifiedKFold(n_splits=5, shuffle=True, random_state=42)\n",
    "cross_val_results_f1 = cross_val_score(logreg_model, X_test, y_test, cv=cv, scoring=f1_scorer)\n",
    "\n",
    "# Print cross-validation results for F1-score\n",
    "print(\"Cross-Validation Results (F1-score):\", cross_val_results_f1)\n"
   ]
  },
  {
   "cell_type": "code",
   "execution_count": null,
   "metadata": {
    "id": "eEIiIRXH-yn7"
   },
   "outputs": [],
   "source": [
    "# 5 K-fold for Decision Tree\n",
    "\n",
    "from sklearn.model_selection import cross_val_score, StratifiedKFold\n",
    "from sklearn.metrics import make_scorer, f1_score\n",
    "\n",
    "# Define a custom scorer for F1-score\n",
    "f1_scorer = make_scorer(f1_score, average='weighted')\n",
    "\n",
    "# Perform 5-fold cross-validation with F1-score as the scoring metric\n",
    "cv = StratifiedKFold(n_splits=5, shuffle=True, random_state=42)\n",
    "cross_val_results_f1 = cross_val_score(dt_model, X_test, y_test, cv=cv, scoring=f1_scorer)\n",
    "\n",
    "# Print cross-validation results for F1-score\n",
    "print(\"Cross-Validation Results (F1-score):\", cross_val_results_f1)\n"
   ]
  },
  {
   "cell_type": "code",
   "execution_count": null,
   "metadata": {
    "id": "zROO58wVGSJD"
   },
   "outputs": [],
   "source": [
    "# 5 K-fold for Random Forest\n",
    "\n",
    "\n",
    "from sklearn.model_selection import cross_val_score, StratifiedKFold\n",
    "from sklearn.metrics import make_scorer, f1_score\n",
    "\n",
    "# Define a custom scorer for F1-score\n",
    "f1_scorer = make_scorer(f1_score, average='weighted')\n",
    "\n",
    "# Perform 5-fold cross-validation with F1-score as the scoring metric\n",
    "cv = StratifiedKFold(n_splits=5, shuffle=True, random_state=42)\n",
    "cross_val_results_f1 = cross_val_score(rf_model, X_test, y_test, cv=cv, scoring=f1_scorer)\n",
    "\n",
    "# Print cross-validation results for F1-score\n",
    "print(\"Cross-Validation Results (F1-score):\", cross_val_results_f1)\n"
   ]
  },
  {
   "cell_type": "code",
   "execution_count": null,
   "metadata": {
    "id": "_wgwneBLIpD3"
   },
   "outputs": [],
   "source": [
    "# Feature Importance in Random Tree Classifier\n",
    "\n",
    "# Get feature importance\n",
    "feature_importances = rf_model.feature_importances_\n",
    "\n",
    "# Sort features by importance\n",
    "sorted_features = sorted(zip(X_balanced.columns, feature_importances), key=lambda x: x[1], reverse=True)\n",
    "\n",
    "# Print the results\n",
    "print(\"\\nTop 15 Most Important Features:\")\n",
    "for feature, importance in sorted_features[:10]:\n",
    "    print(f\"Feature: {feature}, Importance: {importance:.3f}\")"
   ]
  },
  {
   "cell_type": "code",
   "execution_count": null,
   "metadata": {
    "id": "fzFBNU1pkACs"
   },
   "outputs": [],
   "source": [
    "# TRYING Sepi's approach:\n",
    "import warnings\n",
    "from sklearn.utils.parallel import delayed\n",
    "from imblearn.ensemble import BalancedRandomForestClassifier\n",
    "from sklearn.metrics import confusion_matrix, classification_report\n",
    "\n",
    "\n",
    "# Suppress UserWarning about delayed\n",
    "warnings.filterwarnings(\"ignore\", category=UserWarning)\n",
    "warnings.filterwarnings(\"ignore\", category=FutureWarning)\n",
    "\n",
    "# Initialising the Balanced Random Forest\n",
    "brf_model = BalancedRandomForestClassifier(random_state=42)\n",
    "\n",
    "# Fit the model\n",
    "brf_model.fit(X_train_smote, y_train_smote)\n",
    "\n",
    "# Predict probabilities\n",
    "y_pred_proba = brf_model.predict_proba(X_test)[:, 1]\n",
    "\n",
    "# Predict binary classes\n",
    "y_pred_binary = brf_model.predict(X_test)\n",
    "\n",
    "# Generate a confusion matrix\n",
    "conf_matrix = confusion_matrix(y_test, y_pred_binary)\n",
    "\n",
    "# Generate a classification report\n",
    "report = classification_report(y_test, y_pred_binary)\n",
    "\n",
    "# Print the confusion matrix and classification report\n",
    "print(\"\\nConfusion Matrix:\\n\", conf_matrix)\n",
    "print(\"\\nClassification Report:\\n\", report)\n"
   ]
  },
  {
   "cell_type": "code",
   "execution_count": null,
   "metadata": {
    "id": "FCxuHNtboNTZ"
   },
   "outputs": [],
   "source": [
    "# Feature Importance in BALANCED Random Tree Classifier\n",
    "\n",
    "# Get feature importance\n",
    "feature_importances = brf_model.feature_importances_\n",
    "\n",
    "# Sort features by importance\n",
    "sorted_features = sorted(zip(X.columns, feature_importances), key=lambda x: x[1], reverse=True)\n",
    "\n",
    "# Print the results\n",
    "print(\"\\nTop 15 Most Important Features:\")\n",
    "for feature, importance in sorted_features[:10]:\n",
    "    print(f\"Feature: {feature}, Importance: {importance:.3f}\")"
   ]
  },
  {
   "cell_type": "code",
   "execution_count": null,
   "metadata": {
    "id": "6V87R6D9lOPe"
   },
   "outputs": [],
   "source": [
    "#SMOTE - Synthetic Minority Over-sampling Technique for the minority class\n",
    "#!pip install imbalanced-learn\n"
   ]
  },
  {
   "cell_type": "code",
   "execution_count": null,
   "metadata": {
    "id": "05Om7xbblV0R"
   },
   "outputs": [],
   "source": [
    "from sklearn.ensemble import RandomForestClassifier\n",
    "\n",
    "#RandomForestClassifier\n",
    "rf_model_sepi = RandomForestClassifier(class_weight='balanced', random_state=42)\n",
    "rf_model_sepi.fit(X_train, y_train)\n"
   ]
  },
  {
   "cell_type": "code",
   "execution_count": null,
   "metadata": {
    "id": "B5DaiTn9nEBX"
   },
   "outputs": [],
   "source": [
    "# Defining a new threshold\n",
    "threshold = 0.2  # This value can be tuned\n",
    "\n",
    "# Convert probabilities to predictions based on the new threshold\n",
    "y_pred_new_threshold = (y_pred_proba >= threshold).astype(int)"
   ]
  },
  {
   "cell_type": "code",
   "execution_count": null,
   "metadata": {
    "id": "UxSV37k8lnGl"
   },
   "outputs": [],
   "source": [
    "from sklearn.metrics import classification_report, confusion_matrix, roc_auc_score\n",
    "\n",
    "# Model predictions\n",
    "y_pred_new_threshold = (brf_model.predict_proba(X_test)[:, 1] >= threshold).astype(int)\n",
    "\n",
    "# Evaluation\n",
    "print(\"Confusion Matrix:\\n\", confusion_matrix(y_test, y_pred_new_threshold))\n",
    "print(\"\\nClassification Report:\\n\", classification_report(y_test, y_pred_new_threshold))\n",
    "print(\"\\nROC AUC Score:\", roc_auc_score(y_test, y_pred_proba))"
   ]
  },
  {
   "cell_type": "code",
   "execution_count": null,
   "metadata": {
    "id": "YLchKskLG9_l"
   },
   "outputs": [],
   "source": [
    "# NOT WORKING - some garbage\n",
    "\n",
    "# Hierarchical CLustering\n",
    "\n",
    "from sklearn.cluster import AgglomerativeClustering\n",
    "from sklearn.metrics import silhouette_score\n",
    "\n",
    "X_balanced = balanced_df.drop('FraudFound_P', axis=1)\n",
    "\n",
    "# Create an Agglomerative Clustering model\n",
    "hc_model = AgglomerativeClustering(n_clusters=3)  # Assuming binary classification\n",
    "\n",
    "# Fit the model to the data\n",
    "hc_labels = hc_model.fit_predict(X_balanced)\n",
    "\n",
    "# Calculate silhouette scores for each data point\n",
    "silhouette_vals = silhouette_samples(X_balanced, hc_labels)\n",
    "\n",
    "# Create a DataFrame to store silhouette scores for each feature\n",
    "silhouette_df = pd.DataFrame(index=X_balanced.columns)\n",
    "\n",
    "# Calculate the mean silhouette score for each feature\n",
    "silhouette_df['MeanSilhouette'] = np.abs(silhouette_vals).mean(axis=0)\n",
    "\n",
    "# Sort the DataFrame by mean silhouette scores in descending order\n",
    "silhouette_df = silhouette_df.sort_values(by='MeanSilhouette', ascending=False)\n",
    "\n",
    "# Evaluate the performance of clustering using silhouette score\n",
    "silhouette_avg = silhouette_score(X_balanced, hc_labels)\n",
    "\n",
    "# Print the silhouette score\n",
    "print(\"\\nHierarchical Clustering Silhouette Score:\", silhouette_avg)\n",
    "\n",
    "# Print the sorted silhouette scores DataFrame\n",
    "print(\"\\nTop 10 Most Important Features for Clustering:\")\n",
    "print(silhouette_df.head(20))\n"
   ]
  },
  {
   "cell_type": "code",
   "execution_count": null,
   "metadata": {
    "id": "qO7HFFdcKD5v"
   },
   "outputs": [],
   "source": [
    "import matplotlib.pyplot as plt\n",
    "from scipy.cluster.hierarchy import dendrogram, linkage\n",
    "\n",
    "# Perform hierarchical clustering and obtain linkage matrix\n",
    "linkage_matrix = linkage(X_balanced, 'ward')\n",
    "\n",
    "# Plot the dendrogram\n",
    "plt.figure(figsize=(12, 8))\n",
    "dendrogram(linkage_matrix, p=30, truncate_mode='level', leaf_rotation=45., leaf_font_size=8., show_contracted=True)\n",
    "plt.title('Hierarchical Clustering Dendrogram')\n",
    "plt.xlabel('Sample Index')\n",
    "plt.ylabel('Distance')\n",
    "plt.show()\n"
   ]
  },
  {
   "cell_type": "code",
   "execution_count": null,
   "metadata": {
    "id": "xy_roe1jMOfO"
   },
   "outputs": [],
   "source": []
  },
  {
   "cell_type": "code",
   "execution_count": null,
   "metadata": {
    "id": "D0YL2cEwKfIP"
   },
   "outputs": [],
   "source": [
    "from sklearn.manifold import TSNE\n",
    "\n",
    "# Perform t-SNE\n",
    "tsne = TSNE(n_components=2, random_state=42)\n",
    "X_tsne = tsne.fit_transform(X_balanced)\n",
    "\n",
    "# Plot the clustered data in 2D\n",
    "plt.figure(figsize=(8, 6))\n",
    "plt.scatter(X_tsne[:, 0], X_tsne[:, 1], c=hc_labels, cmap='viridis', s=50)\n",
    "plt.title('t-SNE Visualization of Hierarchical Clustering')\n",
    "plt.xlabel('t-SNE Dimension 1')\n",
    "plt.ylabel('t-SNE Dimension 2')\n",
    "plt.show()\n"
   ]
  },
  {
   "cell_type": "code",
   "execution_count": null,
   "metadata": {
    "id": "_O0G6CLNMP7o"
   },
   "outputs": [],
   "source": [
    "# for later. to try NN model:\n",
    "\n",
    "from sklearn.model_selection import train_test_split\n",
    "from sklearn.preprocessing import StandardScaler\n",
    "from sklearn.metrics import accuracy_score, classification_report, confusion_matrix\n",
    "from tensorflow import keras\n",
    "from tensorflow.keras import layers\n",
    "\n",
    "# Assuming you have a DataFrame named balanced_df\n",
    "X = balanced_df.drop('FraudFound_P', axis=1)\n",
    "y = balanced_df['FraudFound_P']\n",
    "\n",
    "# Split the data into training and testing sets\n",
    "X_train, X_test, y_train, y_test = train_test_split(X, y, test_size=0.2, random_state=42)\n",
    "\n",
    "# Standardize the data\n",
    "scaler = StandardScaler()\n",
    "X_train_scaled = scaler.fit_transform(X_train)\n",
    "X_test_scaled = scaler.transform(X_test)\n",
    "\n",
    "# Build the neural network model\n",
    "model = keras.Sequential([\n",
    "    layers.Dense(64, activation='relu', input_shape=(X_train_scaled.shape[1],)),\n",
    "    layers.Dense(32, activation='relu'),\n",
    "    layers.Dense(1, activation='sigmoid')\n",
    "])\n",
    "\n",
    "# Compile the model\n",
    "model.compile(optimizer='adam', loss='binary_crossentropy', metrics=['accuracy'])\n",
    "\n",
    "# Train the model\n",
    "model.fit(X_train_scaled, y_train, epochs=10, batch_size=32, validation_split=0.2, verbose=1)\n",
    "\n",
    "# Make predictions on the test set\n",
    "y_pred_proba = model.predict(X_test_scaled)\n",
    "y_pred = (y_pred_proba > 0.5).astype(int)\n",
    "\n",
    "# Evaluate the performance of the model\n",
    "accuracy = accuracy_score(y_test, y_pred)\n",
    "conf_matrix = confusion_matrix(y_test, y_pred)\n",
    "classification_rep = classification_report(y_test, y_pred)\n",
    "\n",
    "# Print the results\n",
    "print(\"\\nConfusion Matrix:\\n\", conf_matrix)\n",
    "print(\"\\nClassification Report:\\n\", classification_rep)\n",
    "print(\"\\nAccuracy:\", accuracy)\n"
   ]
  },
  {
   "cell_type": "code",
   "execution_count": null,
   "metadata": {
    "id": "VYYn0GEC7f7H"
   },
   "outputs": [],
   "source": [
    "# this was supposed to go with the chi-square results in EDA but it does not work...\n",
    "# trying (and failing?) to use logistic regression for evaluation the association between each variable and the output variable\n",
    "# it does not work because it produces the same result for all of them (?)???\n",
    "\n",
    "from sklearn.model_selection import train_test_split\n",
    "from sklearn.linear_model import LogisticRegression\n",
    "from sklearn.metrics import classification_report, precision_score, recall_score, f1_score\n",
    "import pandas as pd\n",
    "\n",
    "# Selecting relevant columns\n",
    "features = df_fraud_for_modeling.drop(['FraudFound_P'], axis=1)\n",
    "\n",
    "# Create an empty DataFrame to store results\n",
    "model_results = pd.DataFrame(columns=['Feature', 'Precision', 'Recall', 'F1-Score', 'FraudPrediction'])\n",
    "\n",
    "# Loop through columns and perform logistic regression\n",
    "for col in features.columns:\n",
    "    X = features[[col]]\n",
    "    y = df_fraud_for_modeling['FraudFound_P']\n",
    "\n",
    "    # Split the data into training and testing sets\n",
    "    X_train, X_test, y_train, y_test = train_test_split(X, y, test_size=0.2, random_state=42)\n",
    "\n",
    "    # Create and fit the logistic regression model\n",
    "    model = LogisticRegression()\n",
    "    model.fit(X_train, y_train)\n",
    "\n",
    "    # Make predictions on the test set\n",
    "    y_pred = model.predict(X_test)\n",
    "\n",
    "    # Calculate metrics\n",
    "    precision = precision_score(y_test, y_pred, average='weighted', zero_division=1)\n",
    "    recall = recall_score(y_test, y_pred, average='weighted', zero_division=1)\n",
    "    f1 = f1_score(y_test, y_pred, average='weighted', zero_division=1)\n",
    "\n",
    "    # Create a row with the results\n",
    "    result_row = pd.DataFrame([[col, precision, recall, f1, '*']], columns=model_results.columns)\n",
    "\n",
    "    # Append the row to the results DataFrame\n",
    "    model_results = pd.concat([model_results, result_row], ignore_index=True)\n",
    "\n",
    "# Print the results\n",
    "print(model_results)\n"
   ]
  },
  {
   "cell_type": "code",
   "execution_count": null,
   "metadata": {
    "id": "e6p6yONSXtyG"
   },
   "outputs": [],
   "source": [
    "# Prepare the data for analysis. Consider Oversampling / Downsampling"
   ]
  },
  {
   "cell_type": "markdown",
   "metadata": {
    "id": "ckRRYqD5Ui3s"
   },
   "source": [
    "**For PastNumberOfClaims and NumberOfSuppliments 'none' act as a category itself**\n",
    "\n"
   ]
  },
  {
   "cell_type": "markdown",
   "metadata": {
    "id": "oqOx5lm_lt7B"
   },
   "source": [
    "**Features Summary:**\n",
    "\n",
    "1. **Make (Car Manufacturer):**\n",
    "   - Honda shows a higher percentage of insurance fraud (6.39%) compared to other cars.\n",
    "\n",
    "2. **Accident Area:**\n",
    "   - Higher fraud percentage in rural areas (8.32%) compared to urban areas (5.72%).\n",
    "\n",
    "3. **Sex:**\n",
    "   - Higher percentage of fraud in male customers (6.29%) compared to female customers (4.34%).\n",
    "\n",
    "4. **Marital Status:**\n",
    "   - Highest fraud percentage in widows (8.57%), but the number of cases is relatively low.\n",
    "   - Married and single categories have comparable fraud percentages (6.01% vs. 5.94%).\n",
    "\n",
    "5. **Fault in the Accident:**\n",
    "   - Insurance fraud is more common when it's the policyholder's fault (7.89%) rather than the third party's fault (0.88%).\n",
    "\n",
    "6. **Policy Type:**\n",
    "   - Highest fraud percentages in sport collision (13.79%), utility all perils (12.06%), and sedan all perils (10.06%) policy types.\n",
    "\n",
    "7. **Vehicle Category:**\n",
    "   - Utility vehicles have the highest percentage of fraud (11.25%), followed by sedans (8.22%), and sports cars (1.57%).\n",
    "\n",
    "8. **Vehicle Price:**\n",
    "   - Highest fraud percentages in vehicles priced less than $20,000 (9.40%)\n",
    "    and more than $69,000 (8.73%).\n",
    "\n",
    "9. **Days of Policy Accident:**\n",
    "   - Highest fraud percentage in cases where days of policy accident are 'none' (16.36%).\n",
    "\n",
    "10. **Day of Week:**\n",
    "    - Limited variation in fraud percentages across days of the week (5.33% to 6.30%).\n",
    "\n",
    "11. **Days Policy Claim:**\n",
    "    - Most common situation is for days of policy claim to be more than 30 days (5.96%).\n",
    "\n",
    "12. **Number of Past Claims:**\n",
    "    - Fraud percentages vary from 3.38% for more than 2 claims to 7.79% for zero past claims.\n",
    "\n",
    "13. **Age of Vehicle:**\n",
    "    - Highest fraud percentage in new vehicles (8.58%), lowest in vehicles more than 7 years old (5.17%).\n",
    "\n",
    "14. **Age of Policy Holder:**\n",
    "    - Fraud percentages distributed rather evenly across age groups.\n",
    "\n",
    "15. **Police Report Filed:**\n",
    "    - Higher percentage of fraud when no report was filed (6.5%).\n",
    "\n",
    "16. **Witness Present:**\n",
    "    - Higher percentage of fraud when no witness was present (6%).\n",
    "\n",
    "17. **Agent Type:**\n",
    "    - Higher percentage of fraud when the agent was external (6.5%).\n",
    "\n",
    "18. **Number of Supplements:**\n",
    "    - Fraud percentages vary from 4.81% for 3 to 5 supplements to 6.7% for 0 supplements.\n",
    "\n",
    "19. **Address Change Claim:**\n",
    "    - Highest fraud percentage for 2 to 3 years address change (17.53%).\n",
    "\n",
    "20. **Number of Cars:**\n",
    "    - Fraud percentages vary from 4.78% for 5 to 8 cars to 7.80% for 3 to 4 cars.\n",
    "\n",
    "21. **Base Policy Type:**\n",
    "    - Lowest fraud percentage in liability type (0.72%), highest in old perils category (10.16%)."
   ]
  },
  {
   "cell_type": "code",
   "execution_count": null,
   "metadata": {
    "id": "wwUfAi5nST6s"
   },
   "outputs": [],
   "source": []
  },
  {
   "cell_type": "code",
   "execution_count": null,
   "metadata": {
    "id": "v7-5IOBhAnbh"
   },
   "outputs": [],
   "source": [
    "pd.set_option('display.max_columns', None)\n"
   ]
  },
  {
   "cell_type": "code",
   "execution_count": null,
   "metadata": {
    "id": "a3fR1c-KC4ZM"
   },
   "outputs": [],
   "source": [
    "df_encoded = pd.get_dummies(df_fraud, drop_first=True)"
   ]
  },
  {
   "cell_type": "markdown",
   "metadata": {
    "id": "CTieMa62lOQq"
   },
   "source": [
    "correlation_matrix = df_encoded.corr()"
   ]
  },
  {
   "cell_type": "code",
   "execution_count": null,
   "metadata": {
    "id": "aPoeNnl5hIlh"
   },
   "outputs": [],
   "source": []
  },
  {
   "cell_type": "code",
   "execution_count": null,
   "metadata": {
    "id": "kfJnAC4QhZo7"
   },
   "outputs": [],
   "source": [
    "for idx, row in df_fraud.iterrows():\n",
    "    day_of_week = row['DayOfWeek']\n",
    "    df_fraud.loc[idx, \"is_weekend\"] = True if day_of_week in [\"Saturday\", \"Sunday\"] else False"
   ]
  },
  {
   "cell_type": "code",
   "execution_count": null,
   "metadata": {
    "id": "iPOlJct3DGVW"
   },
   "outputs": [],
   "source": [
    "# to do/ discuss:\n",
    "\n",
    "# DID: changed the code in the for-loop for bar plots to display ALL claims with the FRAUD cases stacked with non-fraud cases in each variable category\n",
    "# DID: recode day of the week to weekend/not weekend?\n",
    "# DID: added a pie chart at the beginning of EDA showing the proportion of fraud claims (6%)\n",
    "\n",
    "# recode sex and maybe other variables? into 0/1 for stats and correlation\n",
    "# some kind of log plot for probabilities of fraud_found from 0 to 1\n",
    "# PCA to identify main factors. Plotting. Customer stratification to identify low, mid, high risk fraud-prone\n",
    "# logistic regression + ensemble methods (decision tree, random forest). Model effeiciency evaluation.\n",
    "# K-fold approach for a more accurate and generalizable approach\n",
    "\n",
    "\n",
    "#Sepide:\n",
    "#I think as the count of males/females is already biased (there are more male customers making insurance claim than females)\n",
    "#then we cannot conclude that males do more fraud than females based on our current bar plots.\n",
    "#but we can certainly say that the number of claimes made by males are higher, therefore\n",
    "# males have more car accidents than females? (although we don't know if generally they have more male customers than females or not - not just based on claimes)????\n",
    "\n",
    "\n",
    "\n",
    "# the columns which are relevant to keep for our model:\n",
    "# Past number of claims\n",
    "# Policy type\n",
    "# age\n",
    "#"
   ]
  },
  {
   "cell_type": "markdown",
   "metadata": {
    "id": "9DwxTSRtvEJ_"
   },
   "source": [
    "# **Not fraud- we can get rid of this row then**"
   ]
  },
  {
   "cell_type": "code",
   "execution_count": null,
   "metadata": {
    "id": "jFvQSTUjmfhr"
   },
   "outputs": [],
   "source": []
  },
  {
   "cell_type": "code",
   "execution_count": null,
   "metadata": {
    "id": "nx96yv3T0ehD"
   },
   "outputs": [],
   "source": [
    "# Trying (and failing to downsample the majority class only)\n",
    "\n",
    "from sklearn.model_selection import train_test_split\n",
    "from imblearn.under_sampling import RandomUnderSampler\n",
    "\n",
    "X = df_fraud_for_modeling.drop('FraudFound_P', axis=1)\n",
    "y = df_fraud_for_modeling['FraudFound_P']\n",
    "\n",
    "# Count instances of each class\n",
    "class_counts = y.value_counts()\n",
    "\n",
    "# Calculate the desired sampling strategy for downsampling majority class\n",
    "# Set the majority class to have the same number of instances as the minority class\n",
    "desired_sampling_strategy = {0: class_counts[0], 1: class_counts[1]}\n",
    "\n",
    "# Split the data into training and testing sets\n",
    "X_train, X_test, y_train, y_test = train_test_split(X, y, test_size=0.2, random_state=42)\n",
    "\n",
    "# Using RandomUnderSampler to downsample the majority class (FraudFound_P = 0)\n",
    "undersampler = RandomUnderSampler(sampling_strategy=desired_sampling_strategy, random_state=42)\n",
    "X_resampled, y_resampled = undersampler.fit_resample(X_train, y_train)\n",
    "\n",
    "# X_resampled and y_resampled contain the balanced dataset\n",
    "# can use these for training your machine learning model\n",
    "\n",
    "# combine X_resampled and y_resampled back into a DataFrame\n",
    "balanced_df = pd.concat([pd.DataFrame(X_resampled, columns=X.columns), pd.Series(y_resampled, name='FraudFound_P')], axis=1)\n",
    "\n",
    "# counting class cases:\n",
    "pd.DataFrame(balanced_df['FraudFound_P'].value_counts())\n"
   ]
  }
 ],
 "metadata": {
  "colab": {
   "provenance": [
    {
     "file_id": "1VP7BRASC9zVasiYrsyjTkxugH-6t1Vz1",
     "timestamp": 1700663199939
    }
   ]
  },
  "kernelspec": {
   "display_name": "Python 3 (ipykernel)",
   "language": "python",
   "name": "python3"
  },
  "language_info": {
   "codemirror_mode": {
    "name": "ipython",
    "version": 3
   },
   "file_extension": ".py",
   "mimetype": "text/x-python",
   "name": "python",
   "nbconvert_exporter": "python",
   "pygments_lexer": "ipython3",
   "version": "3.11.7"
  }
 },
 "nbformat": 4,
 "nbformat_minor": 4
}
