{
  "cells": [
    {
      "cell_type": "markdown",
      "metadata": {
        "id": "K6n7VmmwaIiM"
      },
      "source": [
        "<h1>Fraud is bad. Don't commit no fraud</h1>"
      ]
    },
    {
      "cell_type": "markdown",
      "metadata": {
        "id": "YLwulGtqgNP6"
      },
      "source": [
        "\n",
        "\n",
        "1.   Data Import\n",
        "2.   Exploratory Data Analysis"
      ]
    },
    {
      "cell_type": "markdown",
      "metadata": {
        "id": "NeZr1pZcg-qi"
      },
      "source": [
        "\n",
        "\n",
        "\n",
        "\n",
        "\n",
        "# Data Import"
      ]
    },
    {
      "cell_type": "code",
      "execution_count": 2,
      "metadata": {
        "id": "jgFX9zSu2fKT"
      },
      "outputs": [],
      "source": [
        "# importing all the python libraries we will use\n",
        "import pathlib\n",
        "import matplotlib.pyplot as plt\n",
        "from google.colab import drive\n",
        "import pandas as pd\n",
        "import seaborn as sns\n",
        "import numpy as np\n",
        "\n",
        "url = 'https://raw.githubusercontent.com/YanaGilBCN/dspt11-YanaSepi-FinalProject/master/card_transdata_balanced.csv'\n",
        "\n",
        "\n",
        "df_fraud = pd.read_csv(url)\n",
        "df_fraud_backup = df_fraud.copy()"
      ]
    },
    {
      "cell_type": "markdown",
      "metadata": {
        "id": "U7bYZvHyp_Ef"
      },
      "source": [
        "### Exploratory Data Analysis ###\n",
        "\n",
        "\n",
        "* Number of variables\n",
        "* Data types\n",
        "* Class distribution of the variables\n",
        "* Data quality check\n",
        "* Feature engineering\n",
        "\n",
        "\n",
        "\n"
      ]
    },
    {
      "cell_type": "code",
      "execution_count": 3,
      "metadata": {
        "colab": {
          "base_uri": "https://localhost:8080/"
        },
        "id": "Wi76wZBTDczC",
        "outputId": "45396ebf-5338-4032-8ef2-3a92f849653a"
      },
      "outputs": [
        {
          "output_type": "execute_result",
          "data": {
            "text/plain": [
              "(175000, 8)"
            ]
          },
          "metadata": {},
          "execution_count": 3
        }
      ],
      "source": [
        "# size of the dataset\n",
        "df_fraud.shape"
      ]
    },
    {
      "cell_type": "code",
      "execution_count": 4,
      "metadata": {
        "colab": {
          "base_uri": "https://localhost:8080/"
        },
        "id": "r0zW9AdAcHY6",
        "outputId": "6acd3337-5ba3-4931-9718-ebf5847aa310"
      },
      "outputs": [
        {
          "output_type": "stream",
          "name": "stdout",
          "text": [
            "<class 'pandas.core.frame.DataFrame'>\n",
            "RangeIndex: 175000 entries, 0 to 174999\n",
            "Data columns (total 8 columns):\n",
            " #   Column                          Non-Null Count   Dtype  \n",
            "---  ------                          --------------   -----  \n",
            " 0   distance_from_home              175000 non-null  float64\n",
            " 1   distance_from_last_transaction  175000 non-null  float64\n",
            " 2   ratio_to_median_purchase_price  175000 non-null  float64\n",
            " 3   repeat_retailer                 175000 non-null  int64  \n",
            " 4   used_chip                       175000 non-null  int64  \n",
            " 5   used_pin_number                 175000 non-null  int64  \n",
            " 6   online_order                    175000 non-null  int64  \n",
            " 7   fraud                           175000 non-null  int64  \n",
            "dtypes: float64(3), int64(5)\n",
            "memory usage: 10.7 MB\n"
          ]
        }
      ],
      "source": [
        "# first look at the data\n",
        "df_fraud.info()"
      ]
    },
    {
      "cell_type": "code",
      "execution_count": 5,
      "metadata": {
        "colab": {
          "base_uri": "https://localhost:8080/"
        },
        "id": "s1v_ZzG2vefl",
        "outputId": "5c395fa2-a27a-4c1c-cabf-f5b0ad049865"
      },
      "outputs": [
        {
          "output_type": "execute_result",
          "data": {
            "text/plain": [
              "int64      5\n",
              "float64    3\n",
              "dtype: int64"
            ]
          },
          "metadata": {},
          "execution_count": 5
        }
      ],
      "source": [
        "# variable type breakdown and count\n",
        "df_fraud.dtypes.value_counts()"
      ]
    },
    {
      "cell_type": "code",
      "execution_count": 6,
      "metadata": {
        "colab": {
          "base_uri": "https://localhost:8080/"
        },
        "id": "J3zFHubwvvHd",
        "outputId": "b04cef9c-4720-4aaf-8e77-62123859d641"
      },
      "outputs": [
        {
          "output_type": "execute_result",
          "data": {
            "text/plain": [
              "Index(['distance_from_home', 'distance_from_last_transaction',\n",
              "       'ratio_to_median_purchase_price'],\n",
              "      dtype='object')"
            ]
          },
          "metadata": {},
          "execution_count": 6
        }
      ],
      "source": [
        "\n",
        "# list of categorical variables\n",
        "df_fraud.columns[df_fraud.dtypes == 'float64']"
      ]
    },
    {
      "cell_type": "code",
      "execution_count": 7,
      "metadata": {
        "colab": {
          "base_uri": "https://localhost:8080/"
        },
        "id": "rtZrJvmtwOcu",
        "outputId": "89c3a8aa-4939-4601-cf4b-5a6e7803e1a3"
      },
      "outputs": [
        {
          "output_type": "execute_result",
          "data": {
            "text/plain": [
              "Index(['repeat_retailer', 'used_chip', 'used_pin_number', 'online_order',\n",
              "       'fraud'],\n",
              "      dtype='object')"
            ]
          },
          "metadata": {},
          "execution_count": 7
        }
      ],
      "source": [
        "# list of numerical variables\n",
        "df_fraud.columns[df_fraud.dtypes == 'int64']"
      ]
    },
    {
      "cell_type": "code",
      "execution_count": 8,
      "metadata": {
        "colab": {
          "base_uri": "https://localhost:8080/",
          "height": 112
        },
        "id": "ILJPS3V2A4CF",
        "outputId": "fc70e90a-3d32-4626-f249-fdab07740b66"
      },
      "outputs": [
        {
          "output_type": "execute_result",
          "data": {
            "text/plain": [
              "   Claims  Percentage\n",
              "0   87597       50.06\n",
              "1   87403       49.94"
            ],
            "text/html": [
              "\n",
              "  <div id=\"df-8e89a885-4a5e-4e2c-982c-c1535b7a07ff\" class=\"colab-df-container\">\n",
              "    <div>\n",
              "<style scoped>\n",
              "    .dataframe tbody tr th:only-of-type {\n",
              "        vertical-align: middle;\n",
              "    }\n",
              "\n",
              "    .dataframe tbody tr th {\n",
              "        vertical-align: top;\n",
              "    }\n",
              "\n",
              "    .dataframe thead th {\n",
              "        text-align: right;\n",
              "    }\n",
              "</style>\n",
              "<table border=\"1\" class=\"dataframe\">\n",
              "  <thead>\n",
              "    <tr style=\"text-align: right;\">\n",
              "      <th></th>\n",
              "      <th>Claims</th>\n",
              "      <th>Percentage</th>\n",
              "    </tr>\n",
              "  </thead>\n",
              "  <tbody>\n",
              "    <tr>\n",
              "      <th>0</th>\n",
              "      <td>87597</td>\n",
              "      <td>50.06</td>\n",
              "    </tr>\n",
              "    <tr>\n",
              "      <th>1</th>\n",
              "      <td>87403</td>\n",
              "      <td>49.94</td>\n",
              "    </tr>\n",
              "  </tbody>\n",
              "</table>\n",
              "</div>\n",
              "    <div class=\"colab-df-buttons\">\n",
              "\n",
              "  <div class=\"colab-df-container\">\n",
              "    <button class=\"colab-df-convert\" onclick=\"convertToInteractive('df-8e89a885-4a5e-4e2c-982c-c1535b7a07ff')\"\n",
              "            title=\"Convert this dataframe to an interactive table.\"\n",
              "            style=\"display:none;\">\n",
              "\n",
              "  <svg xmlns=\"http://www.w3.org/2000/svg\" height=\"24px\" viewBox=\"0 -960 960 960\">\n",
              "    <path d=\"M120-120v-720h720v720H120Zm60-500h600v-160H180v160Zm220 220h160v-160H400v160Zm0 220h160v-160H400v160ZM180-400h160v-160H180v160Zm440 0h160v-160H620v160ZM180-180h160v-160H180v160Zm440 0h160v-160H620v160Z\"/>\n",
              "  </svg>\n",
              "    </button>\n",
              "\n",
              "  <style>\n",
              "    .colab-df-container {\n",
              "      display:flex;\n",
              "      gap: 12px;\n",
              "    }\n",
              "\n",
              "    .colab-df-convert {\n",
              "      background-color: #E8F0FE;\n",
              "      border: none;\n",
              "      border-radius: 50%;\n",
              "      cursor: pointer;\n",
              "      display: none;\n",
              "      fill: #1967D2;\n",
              "      height: 32px;\n",
              "      padding: 0 0 0 0;\n",
              "      width: 32px;\n",
              "    }\n",
              "\n",
              "    .colab-df-convert:hover {\n",
              "      background-color: #E2EBFA;\n",
              "      box-shadow: 0px 1px 2px rgba(60, 64, 67, 0.3), 0px 1px 3px 1px rgba(60, 64, 67, 0.15);\n",
              "      fill: #174EA6;\n",
              "    }\n",
              "\n",
              "    .colab-df-buttons div {\n",
              "      margin-bottom: 4px;\n",
              "    }\n",
              "\n",
              "    [theme=dark] .colab-df-convert {\n",
              "      background-color: #3B4455;\n",
              "      fill: #D2E3FC;\n",
              "    }\n",
              "\n",
              "    [theme=dark] .colab-df-convert:hover {\n",
              "      background-color: #434B5C;\n",
              "      box-shadow: 0px 1px 3px 1px rgba(0, 0, 0, 0.15);\n",
              "      filter: drop-shadow(0px 1px 2px rgba(0, 0, 0, 0.3));\n",
              "      fill: #FFFFFF;\n",
              "    }\n",
              "  </style>\n",
              "\n",
              "    <script>\n",
              "      const buttonEl =\n",
              "        document.querySelector('#df-8e89a885-4a5e-4e2c-982c-c1535b7a07ff button.colab-df-convert');\n",
              "      buttonEl.style.display =\n",
              "        google.colab.kernel.accessAllowed ? 'block' : 'none';\n",
              "\n",
              "      async function convertToInteractive(key) {\n",
              "        const element = document.querySelector('#df-8e89a885-4a5e-4e2c-982c-c1535b7a07ff');\n",
              "        const dataTable =\n",
              "          await google.colab.kernel.invokeFunction('convertToInteractive',\n",
              "                                                    [key], {});\n",
              "        if (!dataTable) return;\n",
              "\n",
              "        const docLinkHtml = 'Like what you see? Visit the ' +\n",
              "          '<a target=\"_blank\" href=https://colab.research.google.com/notebooks/data_table.ipynb>data table notebook</a>'\n",
              "          + ' to learn more about interactive tables.';\n",
              "        element.innerHTML = '';\n",
              "        dataTable['output_type'] = 'display_data';\n",
              "        await google.colab.output.renderOutput(dataTable, element);\n",
              "        const docLink = document.createElement('div');\n",
              "        docLink.innerHTML = docLinkHtml;\n",
              "        element.appendChild(docLink);\n",
              "      }\n",
              "    </script>\n",
              "  </div>\n",
              "\n",
              "\n",
              "<div id=\"df-3716d14e-d865-4ca4-ac31-ff9aaf25e48e\">\n",
              "  <button class=\"colab-df-quickchart\" onclick=\"quickchart('df-3716d14e-d865-4ca4-ac31-ff9aaf25e48e')\"\n",
              "            title=\"Suggest charts\"\n",
              "            style=\"display:none;\">\n",
              "\n",
              "<svg xmlns=\"http://www.w3.org/2000/svg\" height=\"24px\"viewBox=\"0 0 24 24\"\n",
              "     width=\"24px\">\n",
              "    <g>\n",
              "        <path d=\"M19 3H5c-1.1 0-2 .9-2 2v14c0 1.1.9 2 2 2h14c1.1 0 2-.9 2-2V5c0-1.1-.9-2-2-2zM9 17H7v-7h2v7zm4 0h-2V7h2v10zm4 0h-2v-4h2v4z\"/>\n",
              "    </g>\n",
              "</svg>\n",
              "  </button>\n",
              "\n",
              "<style>\n",
              "  .colab-df-quickchart {\n",
              "      --bg-color: #E8F0FE;\n",
              "      --fill-color: #1967D2;\n",
              "      --hover-bg-color: #E2EBFA;\n",
              "      --hover-fill-color: #174EA6;\n",
              "      --disabled-fill-color: #AAA;\n",
              "      --disabled-bg-color: #DDD;\n",
              "  }\n",
              "\n",
              "  [theme=dark] .colab-df-quickchart {\n",
              "      --bg-color: #3B4455;\n",
              "      --fill-color: #D2E3FC;\n",
              "      --hover-bg-color: #434B5C;\n",
              "      --hover-fill-color: #FFFFFF;\n",
              "      --disabled-bg-color: #3B4455;\n",
              "      --disabled-fill-color: #666;\n",
              "  }\n",
              "\n",
              "  .colab-df-quickchart {\n",
              "    background-color: var(--bg-color);\n",
              "    border: none;\n",
              "    border-radius: 50%;\n",
              "    cursor: pointer;\n",
              "    display: none;\n",
              "    fill: var(--fill-color);\n",
              "    height: 32px;\n",
              "    padding: 0;\n",
              "    width: 32px;\n",
              "  }\n",
              "\n",
              "  .colab-df-quickchart:hover {\n",
              "    background-color: var(--hover-bg-color);\n",
              "    box-shadow: 0 1px 2px rgba(60, 64, 67, 0.3), 0 1px 3px 1px rgba(60, 64, 67, 0.15);\n",
              "    fill: var(--button-hover-fill-color);\n",
              "  }\n",
              "\n",
              "  .colab-df-quickchart-complete:disabled,\n",
              "  .colab-df-quickchart-complete:disabled:hover {\n",
              "    background-color: var(--disabled-bg-color);\n",
              "    fill: var(--disabled-fill-color);\n",
              "    box-shadow: none;\n",
              "  }\n",
              "\n",
              "  .colab-df-spinner {\n",
              "    border: 2px solid var(--fill-color);\n",
              "    border-color: transparent;\n",
              "    border-bottom-color: var(--fill-color);\n",
              "    animation:\n",
              "      spin 1s steps(1) infinite;\n",
              "  }\n",
              "\n",
              "  @keyframes spin {\n",
              "    0% {\n",
              "      border-color: transparent;\n",
              "      border-bottom-color: var(--fill-color);\n",
              "      border-left-color: var(--fill-color);\n",
              "    }\n",
              "    20% {\n",
              "      border-color: transparent;\n",
              "      border-left-color: var(--fill-color);\n",
              "      border-top-color: var(--fill-color);\n",
              "    }\n",
              "    30% {\n",
              "      border-color: transparent;\n",
              "      border-left-color: var(--fill-color);\n",
              "      border-top-color: var(--fill-color);\n",
              "      border-right-color: var(--fill-color);\n",
              "    }\n",
              "    40% {\n",
              "      border-color: transparent;\n",
              "      border-right-color: var(--fill-color);\n",
              "      border-top-color: var(--fill-color);\n",
              "    }\n",
              "    60% {\n",
              "      border-color: transparent;\n",
              "      border-right-color: var(--fill-color);\n",
              "    }\n",
              "    80% {\n",
              "      border-color: transparent;\n",
              "      border-right-color: var(--fill-color);\n",
              "      border-bottom-color: var(--fill-color);\n",
              "    }\n",
              "    90% {\n",
              "      border-color: transparent;\n",
              "      border-bottom-color: var(--fill-color);\n",
              "    }\n",
              "  }\n",
              "</style>\n",
              "\n",
              "  <script>\n",
              "    async function quickchart(key) {\n",
              "      const quickchartButtonEl =\n",
              "        document.querySelector('#' + key + ' button');\n",
              "      quickchartButtonEl.disabled = true;  // To prevent multiple clicks.\n",
              "      quickchartButtonEl.classList.add('colab-df-spinner');\n",
              "      try {\n",
              "        const charts = await google.colab.kernel.invokeFunction(\n",
              "            'suggestCharts', [key], {});\n",
              "      } catch (error) {\n",
              "        console.error('Error during call to suggestCharts:', error);\n",
              "      }\n",
              "      quickchartButtonEl.classList.remove('colab-df-spinner');\n",
              "      quickchartButtonEl.classList.add('colab-df-quickchart-complete');\n",
              "    }\n",
              "    (() => {\n",
              "      let quickchartButtonEl =\n",
              "        document.querySelector('#df-3716d14e-d865-4ca4-ac31-ff9aaf25e48e button');\n",
              "      quickchartButtonEl.style.display =\n",
              "        google.colab.kernel.accessAllowed ? 'block' : 'none';\n",
              "    })();\n",
              "  </script>\n",
              "</div>\n",
              "    </div>\n",
              "  </div>\n"
            ]
          },
          "metadata": {},
          "execution_count": 8
        }
      ],
      "source": [
        "# Now, let's take a look at the target variable, fraud\n",
        "# Lets see the breakdown of classes for FraudFound_P\n",
        "\n",
        "fraud_cases = pd.DataFrame(df_fraud['fraud'].value_counts())\n",
        "fraud_cases['Percentage'] = round(df_fraud['fraud'].value_counts(normalize=True) * 100, 2)\n",
        "fraud_cases = fraud_cases.rename(columns={'fraud': 'Claims'})\n",
        "fraud_cases"
      ]
    },
    {
      "cell_type": "code",
      "execution_count": 9,
      "metadata": {
        "colab": {
          "base_uri": "https://localhost:8080/",
          "height": 290
        },
        "id": "aDbi3PTqAtL1",
        "outputId": "574cf158-2b77-4f90-9cd0-20185d1915a0"
      },
      "outputs": [
        {
          "output_type": "display_data",
          "data": {
            "text/plain": [
              "<Figure size 400x300 with 1 Axes>"
            ],
            "image/png": "[encoded data removed]"
          },
          "metadata": {}
        }
      ],
      "source": [
        "# Lets make a pie chart to vizualize this is now a balanced set:\n",
        "\n",
        "import matplotlib.pyplot as plt\n",
        "\n",
        "# Proportion of fraud claims\n",
        "fig, ax = plt.subplots(figsize=(4, 3))\n",
        "fraud_proportion = df_fraud['fraud'].value_counts(normalize=True)\n",
        "fraud_proportion.plot.pie(labels=['Non-fraud', 'Fraud'], autopct='%1.1f%%', ax=ax, colors=['lightgreen', 'pink'])  # Specify the axis using ax=ax\n",
        "\n",
        "# Remove y-axis label\n",
        "ax.set_ylabel('')\n",
        "\n",
        "plt.title('Proportion of Fraud Claims After Balancing')\n",
        "plt.show()"
      ]
    },
    {
      "cell_type": "code",
      "execution_count": 10,
      "metadata": {
        "colab": {
          "base_uri": "https://localhost:8080/",
          "height": 300
        },
        "id": "Bm_9fKorhaaC",
        "outputId": "0f389392-ad88-4325-f458-09d86a001baa"
      },
      "outputs": [
        {
          "output_type": "execute_result",
          "data": {
            "text/plain": [
              "       distance_from_home  distance_from_last_transaction  \\\n",
              "count       175000.000000                   175000.000000   \n",
              "mean            44.569242                        8.498134   \n",
              "std            104.708034                       36.754614   \n",
              "min              0.021322                        0.000407   \n",
              "25%              4.136120                        0.309575   \n",
              "50%             11.750789                        1.062965   \n",
              "75%             37.568075                        3.811612   \n",
              "max          10632.723672                     2160.499922   \n",
              "\n",
              "       ratio_to_median_purchase_price  repeat_retailer      used_chip  \\\n",
              "count                   175000.000000    175000.000000  175000.000000   \n",
              "mean                         3.711368         0.881371       0.308297   \n",
              "std                          4.753289         0.323352       0.461791   \n",
              "min                          0.011373         0.000000       0.000000   \n",
              "25%                          0.690526         1.000000       0.000000   \n",
              "50%                          2.004227         1.000000       0.000000   \n",
              "75%                          5.234390         1.000000       1.000000   \n",
              "max                        266.689692         1.000000       1.000000   \n",
              "\n",
              "       used_pin_number   online_order          fraud  \n",
              "count    175000.000000  175000.000000  175000.000000  \n",
              "mean          0.057954       0.784194       0.499446  \n",
              "std           0.233658       0.411381       0.500001  \n",
              "min           0.000000       0.000000       0.000000  \n",
              "25%           0.000000       1.000000       0.000000  \n",
              "50%           0.000000       1.000000       0.000000  \n",
              "75%           0.000000       1.000000       1.000000  \n",
              "max           1.000000       1.000000       1.000000  "
            ],
            "text/html": [
              "\n",
              "  <div id=\"df-4bf7ab1b-933e-4666-ae39-4cf4cdd48d1a\" class=\"colab-df-container\">\n",
              "    <div>\n",
              "<style scoped>\n",
              "    .dataframe tbody tr th:only-of-type {\n",
              "        vertical-align: middle;\n",
              "    }\n",
              "\n",
              "    .dataframe tbody tr th {\n",
              "        vertical-align: top;\n",
              "    }\n",
              "\n",
              "    .dataframe thead th {\n",
              "        text-align: right;\n",
              "    }\n",
              "</style>\n",
              "<table border=\"1\" class=\"dataframe\">\n",
              "  <thead>\n",
              "    <tr style=\"text-align: right;\">\n",
              "      <th></th>\n",
              "      <th>distance_from_home</th>\n",
              "      <th>distance_from_last_transaction</th>\n",
              "      <th>ratio_to_median_purchase_price</th>\n",
              "      <th>repeat_retailer</th>\n",
              "      <th>used_chip</th>\n",
              "      <th>used_pin_number</th>\n",
              "      <th>online_order</th>\n",
              "      <th>fraud</th>\n",
              "    </tr>\n",
              "  </thead>\n",
              "  <tbody>\n",
              "    <tr>\n",
              "      <th>count</th>\n",
              "      <td>175000.000000</td>\n",
              "      <td>175000.000000</td>\n",
              "      <td>175000.000000</td>\n",
              "      <td>175000.000000</td>\n",
              "      <td>175000.000000</td>\n",
              "      <td>175000.000000</td>\n",
              "      <td>175000.000000</td>\n",
              "      <td>175000.000000</td>\n",
              "    </tr>\n",
              "    <tr>\n",
              "      <th>mean</th>\n",
              "      <td>44.569242</td>\n",
              "      <td>8.498134</td>\n",
              "      <td>3.711368</td>\n",
              "      <td>0.881371</td>\n",
              "      <td>0.308297</td>\n",
              "      <td>0.057954</td>\n",
              "      <td>0.784194</td>\n",
              "      <td>0.499446</td>\n",
              "    </tr>\n",
              "    <tr>\n",
              "      <th>std</th>\n",
              "      <td>104.708034</td>\n",
              "      <td>36.754614</td>\n",
              "      <td>4.753289</td>\n",
              "      <td>0.323352</td>\n",
              "      <td>0.461791</td>\n",
              "      <td>0.233658</td>\n",
              "      <td>0.411381</td>\n",
              "      <td>0.500001</td>\n",
              "    </tr>\n",
              "    <tr>\n",
              "      <th>min</th>\n",
              "      <td>0.021322</td>\n",
              "      <td>0.000407</td>\n",
              "      <td>0.011373</td>\n",
              "      <td>0.000000</td>\n",
              "      <td>0.000000</td>\n",
              "      <td>0.000000</td>\n",
              "      <td>0.000000</td>\n",
              "      <td>0.000000</td>\n",
              "    </tr>\n",
              "    <tr>\n",
              "      <th>25%</th>\n",
              "      <td>4.136120</td>\n",
              "      <td>0.309575</td>\n",
              "      <td>0.690526</td>\n",
              "      <td>1.000000</td>\n",
              "      <td>0.000000</td>\n",
              "      <td>0.000000</td>\n",
              "      <td>1.000000</td>\n",
              "      <td>0.000000</td>\n",
              "    </tr>\n",
              "    <tr>\n",
              "      <th>50%</th>\n",
              "      <td>11.750789</td>\n",
              "      <td>1.062965</td>\n",
              "      <td>2.004227</td>\n",
              "      <td>1.000000</td>\n",
              "      <td>0.000000</td>\n",
              "      <td>0.000000</td>\n",
              "      <td>1.000000</td>\n",
              "      <td>0.000000</td>\n",
              "    </tr>\n",
              "    <tr>\n",
              "      <th>75%</th>\n",
              "      <td>37.568075</td>\n",
              "      <td>3.811612</td>\n",
              "      <td>5.234390</td>\n",
              "      <td>1.000000</td>\n",
              "      <td>1.000000</td>\n",
              "      <td>0.000000</td>\n",
              "      <td>1.000000</td>\n",
              "      <td>1.000000</td>\n",
              "    </tr>\n",
              "    <tr>\n",
              "      <th>max</th>\n",
              "      <td>10632.723672</td>\n",
              "      <td>2160.499922</td>\n",
              "      <td>266.689692</td>\n",
              "      <td>1.000000</td>\n",
              "      <td>1.000000</td>\n",
              "      <td>1.000000</td>\n",
              "      <td>1.000000</td>\n",
              "      <td>1.000000</td>\n",
              "    </tr>\n",
              "  </tbody>\n",
              "</table>\n",
              "</div>\n",
              "    <div class=\"colab-df-buttons\">\n",
              "\n",
              "  <div class=\"colab-df-container\">\n",
              "    <button class=\"colab-df-convert\" onclick=\"convertToInteractive('df-4bf7ab1b-933e-4666-ae39-4cf4cdd48d1a')\"\n",
              "            title=\"Convert this dataframe to an interactive table.\"\n",
              "            style=\"display:none;\">\n",
              "\n",
              "  <svg xmlns=\"http://www.w3.org/2000/svg\" height=\"24px\" viewBox=\"0 -960 960 960\">\n",
              "    <path d=\"M120-120v-720h720v720H120Zm60-500h600v-160H180v160Zm220 220h160v-160H400v160Zm0 220h160v-160H400v160ZM180-400h160v-160H180v160Zm440 0h160v-160H620v160ZM180-180h160v-160H180v160Zm440 0h160v-160H620v160Z\"/>\n",
              "  </svg>\n",
              "    </button>\n",
              "\n",
              "  <style>\n",
              "    .colab-df-container {\n",
              "      display:flex;\n",
              "      gap: 12px;\n",
              "    }\n",
              "\n",
              "    .colab-df-convert {\n",
              "      background-color: #E8F0FE;\n",
              "      border: none;\n",
              "      border-radius: 50%;\n",
              "      cursor: pointer;\n",
              "      display: none;\n",
              "      fill: #1967D2;\n",
              "      height: 32px;\n",
              "      padding: 0 0 0 0;\n",
              "      width: 32px;\n",
              "    }\n",
              "\n",
              "    .colab-df-convert:hover {\n",
              "      background-color: #E2EBFA;\n",
              "      box-shadow: 0px 1px 2px rgba(60, 64, 67, 0.3), 0px 1px 3px 1px rgba(60, 64, 67, 0.15);\n",
              "      fill: #174EA6;\n",
              "    }\n",
              "\n",
              "    .colab-df-buttons div {\n",
              "      margin-bottom: 4px;\n",
              "    }\n",
              "\n",
              "    [theme=dark] .colab-df-convert {\n",
              "      background-color: #3B4455;\n",
              "      fill: #D2E3FC;\n",
              "    }\n",
              "\n",
              "    [theme=dark] .colab-df-convert:hover {\n",
              "      background-color: #434B5C;\n",
              "      box-shadow: 0px 1px 3px 1px rgba(0, 0, 0, 0.15);\n",
              "      filter: drop-shadow(0px 1px 2px rgba(0, 0, 0, 0.3));\n",
              "      fill: #FFFFFF;\n",
              "    }\n",
              "  </style>\n",
              "\n",
              "    <script>\n",
              "      const buttonEl =\n",
              "        document.querySelector('#df-4bf7ab1b-933e-4666-ae39-4cf4cdd48d1a button.colab-df-convert');\n",
              "      buttonEl.style.display =\n",
              "        google.colab.kernel.accessAllowed ? 'block' : 'none';\n",
              "\n",
              "      async function convertToInteractive(key) {\n",
              "        const element = document.querySelector('#df-4bf7ab1b-933e-4666-ae39-4cf4cdd48d1a');\n",
              "        const dataTable =\n",
              "          await google.colab.kernel.invokeFunction('convertToInteractive',\n",
              "                                                    [key], {});\n",
              "        if (!dataTable) return;\n",
              "\n",
              "        const docLinkHtml = 'Like what you see? Visit the ' +\n",
              "          '<a target=\"_blank\" href=https://colab.research.google.com/notebooks/data_table.ipynb>data table notebook</a>'\n",
              "          + ' to learn more about interactive tables.';\n",
              "        element.innerHTML = '';\n",
              "        dataTable['output_type'] = 'display_data';\n",
              "        await google.colab.output.renderOutput(dataTable, element);\n",
              "        const docLink = document.createElement('div');\n",
              "        docLink.innerHTML = docLinkHtml;\n",
              "        element.appendChild(docLink);\n",
              "      }\n",
              "    </script>\n",
              "  </div>\n",
              "\n",
              "\n",
              "<div id=\"df-2a58ad9f-54c6-476f-b6cf-014691431bf0\">\n",
              "  <button class=\"colab-df-quickchart\" onclick=\"quickchart('df-2a58ad9f-54c6-476f-b6cf-014691431bf0')\"\n",
              "            title=\"Suggest charts\"\n",
              "            style=\"display:none;\">\n",
              "\n",
              "<svg xmlns=\"http://www.w3.org/2000/svg\" height=\"24px\"viewBox=\"0 0 24 24\"\n",
              "     width=\"24px\">\n",
              "    <g>\n",
              "        <path d=\"M19 3H5c-1.1 0-2 .9-2 2v14c0 1.1.9 2 2 2h14c1.1 0 2-.9 2-2V5c0-1.1-.9-2-2-2zM9 17H7v-7h2v7zm4 0h-2V7h2v10zm4 0h-2v-4h2v4z\"/>\n",
              "    </g>\n",
              "</svg>\n",
              "  </button>\n",
              "\n",
              "<style>\n",
              "  .colab-df-quickchart {\n",
              "      --bg-color: #E8F0FE;\n",
              "      --fill-color: #1967D2;\n",
              "      --hover-bg-color: #E2EBFA;\n",
              "      --hover-fill-color: #174EA6;\n",
              "      --disabled-fill-color: #AAA;\n",
              "      --disabled-bg-color: #DDD;\n",
              "  }\n",
              "\n",
              "  [theme=dark] .colab-df-quickchart {\n",
              "      --bg-color: #3B4455;\n",
              "      --fill-color: #D2E3FC;\n",
              "      --hover-bg-color: #434B5C;\n",
              "      --hover-fill-color: #FFFFFF;\n",
              "      --disabled-bg-color: #3B4455;\n",
              "      --disabled-fill-color: #666;\n",
              "  }\n",
              "\n",
              "  .colab-df-quickchart {\n",
              "    background-color: var(--bg-color);\n",
              "    border: none;\n",
              "    border-radius: 50%;\n",
              "    cursor: pointer;\n",
              "    display: none;\n",
              "    fill: var(--fill-color);\n",
              "    height: 32px;\n",
              "    padding: 0;\n",
              "    width: 32px;\n",
              "  }\n",
              "\n",
              "  .colab-df-quickchart:hover {\n",
              "    background-color: var(--hover-bg-color);\n",
              "    box-shadow: 0 1px 2px rgba(60, 64, 67, 0.3), 0 1px 3px 1px rgba(60, 64, 67, 0.15);\n",
              "    fill: var(--button-hover-fill-color);\n",
              "  }\n",
              "\n",
              "  .colab-df-quickchart-complete:disabled,\n",
              "  .colab-df-quickchart-complete:disabled:hover {\n",
              "    background-color: var(--disabled-bg-color);\n",
              "    fill: var(--disabled-fill-color);\n",
              "    box-shadow: none;\n",
              "  }\n",
              "\n",
              "  .colab-df-spinner {\n",
              "    border: 2px solid var(--fill-color);\n",
              "    border-color: transparent;\n",
              "    border-bottom-color: var(--fill-color);\n",
              "    animation:\n",
              "      spin 1s steps(1) infinite;\n",
              "  }\n",
              "\n",
              "  @keyframes spin {\n",
              "    0% {\n",
              "      border-color: transparent;\n",
              "      border-bottom-color: var(--fill-color);\n",
              "      border-left-color: var(--fill-color);\n",
              "    }\n",
              "    20% {\n",
              "      border-color: transparent;\n",
              "      border-left-color: var(--fill-color);\n",
              "      border-top-color: var(--fill-color);\n",
              "    }\n",
              "    30% {\n",
              "      border-color: transparent;\n",
              "      border-left-color: var(--fill-color);\n",
              "      border-top-color: var(--fill-color);\n",
              "      border-right-color: var(--fill-color);\n",
              "    }\n",
              "    40% {\n",
              "      border-color: transparent;\n",
              "      border-right-color: var(--fill-color);\n",
              "      border-top-color: var(--fill-color);\n",
              "    }\n",
              "    60% {\n",
              "      border-color: transparent;\n",
              "      border-right-color: var(--fill-color);\n",
              "    }\n",
              "    80% {\n",
              "      border-color: transparent;\n",
              "      border-right-color: var(--fill-color);\n",
              "      border-bottom-color: var(--fill-color);\n",
              "    }\n",
              "    90% {\n",
              "      border-color: transparent;\n",
              "      border-bottom-color: var(--fill-color);\n",
              "    }\n",
              "  }\n",
              "</style>\n",
              "\n",
              "  <script>\n",
              "    async function quickchart(key) {\n",
              "      const quickchartButtonEl =\n",
              "        document.querySelector('#' + key + ' button');\n",
              "      quickchartButtonEl.disabled = true;  // To prevent multiple clicks.\n",
              "      quickchartButtonEl.classList.add('colab-df-spinner');\n",
              "      try {\n",
              "        const charts = await google.colab.kernel.invokeFunction(\n",
              "            'suggestCharts', [key], {});\n",
              "      } catch (error) {\n",
              "        console.error('Error during call to suggestCharts:', error);\n",
              "      }\n",
              "      quickchartButtonEl.classList.remove('colab-df-spinner');\n",
              "      quickchartButtonEl.classList.add('colab-df-quickchart-complete');\n",
              "    }\n",
              "    (() => {\n",
              "      let quickchartButtonEl =\n",
              "        document.querySelector('#df-2a58ad9f-54c6-476f-b6cf-014691431bf0 button');\n",
              "      quickchartButtonEl.style.display =\n",
              "        google.colab.kernel.accessAllowed ? 'block' : 'none';\n",
              "    })();\n",
              "  </script>\n",
              "</div>\n",
              "    </div>\n",
              "  </div>\n"
            ]
          },
          "metadata": {},
          "execution_count": 10
        }
      ],
      "source": [
        "df_fraud.describe()"
      ]
    },
    {
      "cell_type": "code",
      "execution_count": 11,
      "metadata": {
        "colab": {
          "base_uri": "https://localhost:8080/",
          "height": 396
        },
        "id": "2jG1XBTn1XIC",
        "outputId": "2dc94696-f957-4c86-acc7-c92a14c46d59"
      },
      "outputs": [
        {
          "output_type": "display_data",
          "data": {
            "text/plain": [
              "<Figure size 600x300 with 1 Axes>"
            ],
            "image/png": "[encoded data removed]"
          },
          "metadata": {}
        }
      ],
      "source": [
        "# Plot the distribution with log scale on the x-axis:\n",
        "plt.figure(figsize=(6, 3))\n",
        "sns.set_style('darkgrid')\n",
        "sns.histplot(data=df_fraud, x='distance_from_last_transaction', color='teal', kde=True, hue='fraud')\n",
        "plt.xscale('log')\n",
        "plt.title('\\ndistance_from_last_transaction\\n')\n",
        "plt.xlabel('\\nDistance')\n",
        "plt.ylabel('Count\\n')\n",
        "plt.show()\n"
      ]
    },
    {
      "cell_type": "code",
      "execution_count": 12,
      "metadata": {
        "id": "3FlwWKhQEcvO"
      },
      "outputs": [],
      "source": [
        "# # recoding Age into Age_Bracket. We will assume AgeOfPolicyHolder is a different variable\n",
        "# bins = [16, 18, 21, 26, 31, 36, 41, 51, 66, 100]\n",
        "# labels = ['16 to 17', '18 to 20', '21 to 25', '26 to 30', '31 to 35', '36 to 40', '41 to 50', '51 to 65', 'over 65']\n",
        "\n",
        "# df_fraud['Age_Bracket'] = pd.cut(df_fraud['Age'], bins=bins, labels=labels, right=False)\n",
        "# df_fraud['Age_Bracket'] = df_fraud['Age_Bracket'].astype('object')\n"
      ]
    },
    {
      "cell_type": "code",
      "execution_count": 13,
      "metadata": {
        "id": "hxT_Nzl0VJnk"
      },
      "outputs": [],
      "source": [
        "# df_fraud[['Age', 'AgeOfPolicyHolder', 'Age_Bracket']].head(10)"
      ]
    },
    {
      "cell_type": "code",
      "execution_count": 14,
      "metadata": {
        "id": "axjiIJEgMeRN"
      },
      "outputs": [],
      "source": [
        "# # exploring similar columns ['BasePolicy','PolicyType', 'VehicleCategory']\n",
        "\n",
        "# df_fraud[df_fraud['VehicleCategory'] == 'Sport'][['VehicleCategory', 'BasePolicy', 'PolicyType']]\n",
        "\n"
      ]
    },
    {
      "cell_type": "code",
      "execution_count": 15,
      "metadata": {
        "id": "O8MEtw_KaVRt"
      },
      "outputs": [],
      "source": [
        "# # creating a new variable that is a combo of VehicleCategory' and 'BasePolicy'\n",
        "# # we are assuming its actually different from 'PolicyType' so we are keeping that one too\n",
        "\n",
        "# df_fraud['VehicleCategory_BasePolicy'] = df_fraud['VehicleCategory'] + ' - ' + df_fraud['BasePolicy']"
      ]
    },
    {
      "cell_type": "code",
      "execution_count": 16,
      "metadata": {
        "id": "z1KF6OERep0c"
      },
      "outputs": [],
      "source": [
        "# dropping the old ''PolicyType':\n",
        "#df_fraud['PolicyType_New'] = df_fraud['VehicleCategory'] + ' - ' + df_fraud['BasePolicy']\n",
        "#df_fraud = df_fraud.drop(['PolicyType'], axis = 1)"
      ]
    },
    {
      "cell_type": "code",
      "execution_count": 17,
      "metadata": {
        "id": "s-zt1hvf86Nm"
      },
      "outputs": [],
      "source": [
        "# # dropping other irrelevant columns\n",
        "# df_fraud = df_fraud.drop(['PolicyNumber'], axis = 1)\n",
        "#  #'DayOfWeekClaimed', 'MonthClaimed', 'Year', 'AgeOfPolicyHolder', 'Month', 'WeekOfMonth', 'WeekOfMonthClaimed',\n"
      ]
    },
    {
      "cell_type": "code",
      "execution_count": 18,
      "metadata": {
        "colab": {
          "base_uri": "https://localhost:8080/",
          "height": 206
        },
        "id": "O9o0yT-VZR3S",
        "outputId": "fabc0061-023a-45a2-ce5e-6dd66f8f115e"
      },
      "outputs": [
        {
          "output_type": "execute_result",
          "data": {
            "text/plain": [
              "   distance_from_home  distance_from_last_transaction  \\\n",
              "0            2.131956                       56.372401   \n",
              "1            3.803057                       67.241081   \n",
              "2           15.694986                      175.989182   \n",
              "3           26.711462                        1.552008   \n",
              "4           10.664474                        1.565769   \n",
              "\n",
              "   ratio_to_median_purchase_price  repeat_retailer  used_chip  \\\n",
              "0                        6.358667                1          0   \n",
              "1                        1.872950                1          0   \n",
              "2                        0.855623                1          0   \n",
              "3                        4.603601                1          1   \n",
              "4                        4.886521                1          0   \n",
              "\n",
              "   used_pin_number  online_order  fraud  \n",
              "0                0             1      1  \n",
              "1                0             1      1  \n",
              "2                0             1      1  \n",
              "3                0             1      1  \n",
              "4                0             1      1  "
            ],
            "text/html": [
              "\n",
              "  <div id=\"df-da690b7b-144b-4ed1-aac0-8b1da73d55fd\" class=\"colab-df-container\">\n",
              "    <div>\n",
              "<style scoped>\n",
              "    .dataframe tbody tr th:only-of-type {\n",
              "        vertical-align: middle;\n",
              "    }\n",
              "\n",
              "    .dataframe tbody tr th {\n",
              "        vertical-align: top;\n",
              "    }\n",
              "\n",
              "    .dataframe thead th {\n",
              "        text-align: right;\n",
              "    }\n",
              "</style>\n",
              "<table border=\"1\" class=\"dataframe\">\n",
              "  <thead>\n",
              "    <tr style=\"text-align: right;\">\n",
              "      <th></th>\n",
              "      <th>distance_from_home</th>\n",
              "      <th>distance_from_last_transaction</th>\n",
              "      <th>ratio_to_median_purchase_price</th>\n",
              "      <th>repeat_retailer</th>\n",
              "      <th>used_chip</th>\n",
              "      <th>used_pin_number</th>\n",
              "      <th>online_order</th>\n",
              "      <th>fraud</th>\n",
              "    </tr>\n",
              "  </thead>\n",
              "  <tbody>\n",
              "    <tr>\n",
              "      <th>0</th>\n",
              "      <td>2.131956</td>\n",
              "      <td>56.372401</td>\n",
              "      <td>6.358667</td>\n",
              "      <td>1</td>\n",
              "      <td>0</td>\n",
              "      <td>0</td>\n",
              "      <td>1</td>\n",
              "      <td>1</td>\n",
              "    </tr>\n",
              "    <tr>\n",
              "      <th>1</th>\n",
              "      <td>3.803057</td>\n",
              "      <td>67.241081</td>\n",
              "      <td>1.872950</td>\n",
              "      <td>1</td>\n",
              "      <td>0</td>\n",
              "      <td>0</td>\n",
              "      <td>1</td>\n",
              "      <td>1</td>\n",
              "    </tr>\n",
              "    <tr>\n",
              "      <th>2</th>\n",
              "      <td>15.694986</td>\n",
              "      <td>175.989182</td>\n",
              "      <td>0.855623</td>\n",
              "      <td>1</td>\n",
              "      <td>0</td>\n",
              "      <td>0</td>\n",
              "      <td>1</td>\n",
              "      <td>1</td>\n",
              "    </tr>\n",
              "    <tr>\n",
              "      <th>3</th>\n",
              "      <td>26.711462</td>\n",
              "      <td>1.552008</td>\n",
              "      <td>4.603601</td>\n",
              "      <td>1</td>\n",
              "      <td>1</td>\n",
              "      <td>0</td>\n",
              "      <td>1</td>\n",
              "      <td>1</td>\n",
              "    </tr>\n",
              "    <tr>\n",
              "      <th>4</th>\n",
              "      <td>10.664474</td>\n",
              "      <td>1.565769</td>\n",
              "      <td>4.886521</td>\n",
              "      <td>1</td>\n",
              "      <td>0</td>\n",
              "      <td>0</td>\n",
              "      <td>1</td>\n",
              "      <td>1</td>\n",
              "    </tr>\n",
              "  </tbody>\n",
              "</table>\n",
              "</div>\n",
              "    <div class=\"colab-df-buttons\">\n",
              "\n",
              "  <div class=\"colab-df-container\">\n",
              "    <button class=\"colab-df-convert\" onclick=\"convertToInteractive('df-da690b7b-144b-4ed1-aac0-8b1da73d55fd')\"\n",
              "            title=\"Convert this dataframe to an interactive table.\"\n",
              "            style=\"display:none;\">\n",
              "\n",
              "  <svg xmlns=\"http://www.w3.org/2000/svg\" height=\"24px\" viewBox=\"0 -960 960 960\">\n",
              "    <path d=\"M120-120v-720h720v720H120Zm60-500h600v-160H180v160Zm220 220h160v-160H400v160Zm0 220h160v-160H400v160ZM180-400h160v-160H180v160Zm440 0h160v-160H620v160ZM180-180h160v-160H180v160Zm440 0h160v-160H620v160Z\"/>\n",
              "  </svg>\n",
              "    </button>\n",
              "\n",
              "  <style>\n",
              "    .colab-df-container {\n",
              "      display:flex;\n",
              "      gap: 12px;\n",
              "    }\n",
              "\n",
              "    .colab-df-convert {\n",
              "      background-color: #E8F0FE;\n",
              "      border: none;\n",
              "      border-radius: 50%;\n",
              "      cursor: pointer;\n",
              "      display: none;\n",
              "      fill: #1967D2;\n",
              "      height: 32px;\n",
              "      padding: 0 0 0 0;\n",
              "      width: 32px;\n",
              "    }\n",
              "\n",
              "    .colab-df-convert:hover {\n",
              "      background-color: #E2EBFA;\n",
              "      box-shadow: 0px 1px 2px rgba(60, 64, 67, 0.3), 0px 1px 3px 1px rgba(60, 64, 67, 0.15);\n",
              "      fill: #174EA6;\n",
              "    }\n",
              "\n",
              "    .colab-df-buttons div {\n",
              "      margin-bottom: 4px;\n",
              "    }\n",
              "\n",
              "    [theme=dark] .colab-df-convert {\n",
              "      background-color: #3B4455;\n",
              "      fill: #D2E3FC;\n",
              "    }\n",
              "\n",
              "    [theme=dark] .colab-df-convert:hover {\n",
              "      background-color: #434B5C;\n",
              "      box-shadow: 0px 1px 3px 1px rgba(0, 0, 0, 0.15);\n",
              "      filter: drop-shadow(0px 1px 2px rgba(0, 0, 0, 0.3));\n",
              "      fill: #FFFFFF;\n",
              "    }\n",
              "  </style>\n",
              "\n",
              "    <script>\n",
              "      const buttonEl =\n",
              "        document.querySelector('#df-da690b7b-144b-4ed1-aac0-8b1da73d55fd button.colab-df-convert');\n",
              "      buttonEl.style.display =\n",
              "        google.colab.kernel.accessAllowed ? 'block' : 'none';\n",
              "\n",
              "      async function convertToInteractive(key) {\n",
              "        const element = document.querySelector('#df-da690b7b-144b-4ed1-aac0-8b1da73d55fd');\n",
              "        const dataTable =\n",
              "          await google.colab.kernel.invokeFunction('convertToInteractive',\n",
              "                                                    [key], {});\n",
              "        if (!dataTable) return;\n",
              "\n",
              "        const docLinkHtml = 'Like what you see? Visit the ' +\n",
              "          '<a target=\"_blank\" href=https://colab.research.google.com/notebooks/data_table.ipynb>data table notebook</a>'\n",
              "          + ' to learn more about interactive tables.';\n",
              "        element.innerHTML = '';\n",
              "        dataTable['output_type'] = 'display_data';\n",
              "        await google.colab.output.renderOutput(dataTable, element);\n",
              "        const docLink = document.createElement('div');\n",
              "        docLink.innerHTML = docLinkHtml;\n",
              "        element.appendChild(docLink);\n",
              "      }\n",
              "    </script>\n",
              "  </div>\n",
              "\n",
              "\n",
              "<div id=\"df-720d62e2-0bfb-45dc-b86a-847239d22bc5\">\n",
              "  <button class=\"colab-df-quickchart\" onclick=\"quickchart('df-720d62e2-0bfb-45dc-b86a-847239d22bc5')\"\n",
              "            title=\"Suggest charts\"\n",
              "            style=\"display:none;\">\n",
              "\n",
              "<svg xmlns=\"http://www.w3.org/2000/svg\" height=\"24px\"viewBox=\"0 0 24 24\"\n",
              "     width=\"24px\">\n",
              "    <g>\n",
              "        <path d=\"M19 3H5c-1.1 0-2 .9-2 2v14c0 1.1.9 2 2 2h14c1.1 0 2-.9 2-2V5c0-1.1-.9-2-2-2zM9 17H7v-7h2v7zm4 0h-2V7h2v10zm4 0h-2v-4h2v4z\"/>\n",
              "    </g>\n",
              "</svg>\n",
              "  </button>\n",
              "\n",
              "<style>\n",
              "  .colab-df-quickchart {\n",
              "      --bg-color: #E8F0FE;\n",
              "      --fill-color: #1967D2;\n",
              "      --hover-bg-color: #E2EBFA;\n",
              "      --hover-fill-color: #174EA6;\n",
              "      --disabled-fill-color: #AAA;\n",
              "      --disabled-bg-color: #DDD;\n",
              "  }\n",
              "\n",
              "  [theme=dark] .colab-df-quickchart {\n",
              "      --bg-color: #3B4455;\n",
              "      --fill-color: #D2E3FC;\n",
              "      --hover-bg-color: #434B5C;\n",
              "      --hover-fill-color: #FFFFFF;\n",
              "      --disabled-bg-color: #3B4455;\n",
              "      --disabled-fill-color: #666;\n",
              "  }\n",
              "\n",
              "  .colab-df-quickchart {\n",
              "    background-color: var(--bg-color);\n",
              "    border: none;\n",
              "    border-radius: 50%;\n",
              "    cursor: pointer;\n",
              "    display: none;\n",
              "    fill: var(--fill-color);\n",
              "    height: 32px;\n",
              "    padding: 0;\n",
              "    width: 32px;\n",
              "  }\n",
              "\n",
              "  .colab-df-quickchart:hover {\n",
              "    background-color: var(--hover-bg-color);\n",
              "    box-shadow: 0 1px 2px rgba(60, 64, 67, 0.3), 0 1px 3px 1px rgba(60, 64, 67, 0.15);\n",
              "    fill: var(--button-hover-fill-color);\n",
              "  }\n",
              "\n",
              "  .colab-df-quickchart-complete:disabled,\n",
              "  .colab-df-quickchart-complete:disabled:hover {\n",
              "    background-color: var(--disabled-bg-color);\n",
              "    fill: var(--disabled-fill-color);\n",
              "    box-shadow: none;\n",
              "  }\n",
              "\n",
              "  .colab-df-spinner {\n",
              "    border: 2px solid var(--fill-color);\n",
              "    border-color: transparent;\n",
              "    border-bottom-color: var(--fill-color);\n",
              "    animation:\n",
              "      spin 1s steps(1) infinite;\n",
              "  }\n",
              "\n",
              "  @keyframes spin {\n",
              "    0% {\n",
              "      border-color: transparent;\n",
              "      border-bottom-color: var(--fill-color);\n",
              "      border-left-color: var(--fill-color);\n",
              "    }\n",
              "    20% {\n",
              "      border-color: transparent;\n",
              "      border-left-color: var(--fill-color);\n",
              "      border-top-color: var(--fill-color);\n",
              "    }\n",
              "    30% {\n",
              "      border-color: transparent;\n",
              "      border-left-color: var(--fill-color);\n",
              "      border-top-color: var(--fill-color);\n",
              "      border-right-color: var(--fill-color);\n",
              "    }\n",
              "    40% {\n",
              "      border-color: transparent;\n",
              "      border-right-color: var(--fill-color);\n",
              "      border-top-color: var(--fill-color);\n",
              "    }\n",
              "    60% {\n",
              "      border-color: transparent;\n",
              "      border-right-color: var(--fill-color);\n",
              "    }\n",
              "    80% {\n",
              "      border-color: transparent;\n",
              "      border-right-color: var(--fill-color);\n",
              "      border-bottom-color: var(--fill-color);\n",
              "    }\n",
              "    90% {\n",
              "      border-color: transparent;\n",
              "      border-bottom-color: var(--fill-color);\n",
              "    }\n",
              "  }\n",
              "</style>\n",
              "\n",
              "  <script>\n",
              "    async function quickchart(key) {\n",
              "      const quickchartButtonEl =\n",
              "        document.querySelector('#' + key + ' button');\n",
              "      quickchartButtonEl.disabled = true;  // To prevent multiple clicks.\n",
              "      quickchartButtonEl.classList.add('colab-df-spinner');\n",
              "      try {\n",
              "        const charts = await google.colab.kernel.invokeFunction(\n",
              "            'suggestCharts', [key], {});\n",
              "      } catch (error) {\n",
              "        console.error('Error during call to suggestCharts:', error);\n",
              "      }\n",
              "      quickchartButtonEl.classList.remove('colab-df-spinner');\n",
              "      quickchartButtonEl.classList.add('colab-df-quickchart-complete');\n",
              "    }\n",
              "    (() => {\n",
              "      let quickchartButtonEl =\n",
              "        document.querySelector('#df-720d62e2-0bfb-45dc-b86a-847239d22bc5 button');\n",
              "      quickchartButtonEl.style.display =\n",
              "        google.colab.kernel.accessAllowed ? 'block' : 'none';\n",
              "    })();\n",
              "  </script>\n",
              "</div>\n",
              "    </div>\n",
              "  </div>\n"
            ]
          },
          "metadata": {},
          "execution_count": 18
        }
      ],
      "source": [
        "df_fraud.head()"
      ]
    },
    {
      "cell_type": "code",
      "execution_count": 19,
      "metadata": {
        "id": "-uDqfg7N-Svc"
      },
      "outputs": [],
      "source": [
        "# # converting numerical to categorical varialbes. Leaving FraudFound_P as is.\n",
        "# df_fraud[['Deductible', 'DriverRating', 'WeekOfMonth', 'WeekOfMonthClaimed', 'Year', 'RepNumber']] = \\\n",
        "# df_fraud[['Deductible', 'DriverRating', 'WeekOfMonth', 'WeekOfMonthClaimed', 'Year', 'RepNumber']].astype(str)\n"
      ]
    },
    {
      "cell_type": "code",
      "execution_count": 20,
      "metadata": {
        "colab": {
          "base_uri": "https://localhost:8080/",
          "height": 206
        },
        "id": "z0Q0zWVpDy4y",
        "outputId": "81ddeb34-62b7-425b-b94e-380a3dcc9b2f"
      },
      "outputs": [
        {
          "output_type": "execute_result",
          "data": {
            "text/plain": [
              "   repeat_retailer  used_chip  used_pin_number  online_order  fraud\n",
              "0                1          0                0             1      1\n",
              "1                1          0                0             1      1\n",
              "2                1          0                0             1      1\n",
              "3                1          1                0             1      1\n",
              "4                1          0                0             1      1"
            ],
            "text/html": [
              "\n",
              "  <div id=\"df-0ba27108-0754-4ca2-b5d6-92fcaa100b58\" class=\"colab-df-container\">\n",
              "    <div>\n",
              "<style scoped>\n",
              "    .dataframe tbody tr th:only-of-type {\n",
              "        vertical-align: middle;\n",
              "    }\n",
              "\n",
              "    .dataframe tbody tr th {\n",
              "        vertical-align: top;\n",
              "    }\n",
              "\n",
              "    .dataframe thead th {\n",
              "        text-align: right;\n",
              "    }\n",
              "</style>\n",
              "<table border=\"1\" class=\"dataframe\">\n",
              "  <thead>\n",
              "    <tr style=\"text-align: right;\">\n",
              "      <th></th>\n",
              "      <th>repeat_retailer</th>\n",
              "      <th>used_chip</th>\n",
              "      <th>used_pin_number</th>\n",
              "      <th>online_order</th>\n",
              "      <th>fraud</th>\n",
              "    </tr>\n",
              "  </thead>\n",
              "  <tbody>\n",
              "    <tr>\n",
              "      <th>0</th>\n",
              "      <td>1</td>\n",
              "      <td>0</td>\n",
              "      <td>0</td>\n",
              "      <td>1</td>\n",
              "      <td>1</td>\n",
              "    </tr>\n",
              "    <tr>\n",
              "      <th>1</th>\n",
              "      <td>1</td>\n",
              "      <td>0</td>\n",
              "      <td>0</td>\n",
              "      <td>1</td>\n",
              "      <td>1</td>\n",
              "    </tr>\n",
              "    <tr>\n",
              "      <th>2</th>\n",
              "      <td>1</td>\n",
              "      <td>0</td>\n",
              "      <td>0</td>\n",
              "      <td>1</td>\n",
              "      <td>1</td>\n",
              "    </tr>\n",
              "    <tr>\n",
              "      <th>3</th>\n",
              "      <td>1</td>\n",
              "      <td>1</td>\n",
              "      <td>0</td>\n",
              "      <td>1</td>\n",
              "      <td>1</td>\n",
              "    </tr>\n",
              "    <tr>\n",
              "      <th>4</th>\n",
              "      <td>1</td>\n",
              "      <td>0</td>\n",
              "      <td>0</td>\n",
              "      <td>1</td>\n",
              "      <td>1</td>\n",
              "    </tr>\n",
              "  </tbody>\n",
              "</table>\n",
              "</div>\n",
              "    <div class=\"colab-df-buttons\">\n",
              "\n",
              "  <div class=\"colab-df-container\">\n",
              "    <button class=\"colab-df-convert\" onclick=\"convertToInteractive('df-0ba27108-0754-4ca2-b5d6-92fcaa100b58')\"\n",
              "            title=\"Convert this dataframe to an interactive table.\"\n",
              "            style=\"display:none;\">\n",
              "\n",
              "  <svg xmlns=\"http://www.w3.org/2000/svg\" height=\"24px\" viewBox=\"0 -960 960 960\">\n",
              "    <path d=\"M120-120v-720h720v720H120Zm60-500h600v-160H180v160Zm220 220h160v-160H400v160Zm0 220h160v-160H400v160ZM180-400h160v-160H180v160Zm440 0h160v-160H620v160ZM180-180h160v-160H180v160Zm440 0h160v-160H620v160Z\"/>\n",
              "  </svg>\n",
              "    </button>\n",
              "\n",
              "  <style>\n",
              "    .colab-df-container {\n",
              "      display:flex;\n",
              "      gap: 12px;\n",
              "    }\n",
              "\n",
              "    .colab-df-convert {\n",
              "      background-color: #E8F0FE;\n",
              "      border: none;\n",
              "      border-radius: 50%;\n",
              "      cursor: pointer;\n",
              "      display: none;\n",
              "      fill: #1967D2;\n",
              "      height: 32px;\n",
              "      padding: 0 0 0 0;\n",
              "      width: 32px;\n",
              "    }\n",
              "\n",
              "    .colab-df-convert:hover {\n",
              "      background-color: #E2EBFA;\n",
              "      box-shadow: 0px 1px 2px rgba(60, 64, 67, 0.3), 0px 1px 3px 1px rgba(60, 64, 67, 0.15);\n",
              "      fill: #174EA6;\n",
              "    }\n",
              "\n",
              "    .colab-df-buttons div {\n",
              "      margin-bottom: 4px;\n",
              "    }\n",
              "\n",
              "    [theme=dark] .colab-df-convert {\n",
              "      background-color: #3B4455;\n",
              "      fill: #D2E3FC;\n",
              "    }\n",
              "\n",
              "    [theme=dark] .colab-df-convert:hover {\n",
              "      background-color: #434B5C;\n",
              "      box-shadow: 0px 1px 3px 1px rgba(0, 0, 0, 0.15);\n",
              "      filter: drop-shadow(0px 1px 2px rgba(0, 0, 0, 0.3));\n",
              "      fill: #FFFFFF;\n",
              "    }\n",
              "  </style>\n",
              "\n",
              "    <script>\n",
              "      const buttonEl =\n",
              "        document.querySelector('#df-0ba27108-0754-4ca2-b5d6-92fcaa100b58 button.colab-df-convert');\n",
              "      buttonEl.style.display =\n",
              "        google.colab.kernel.accessAllowed ? 'block' : 'none';\n",
              "\n",
              "      async function convertToInteractive(key) {\n",
              "        const element = document.querySelector('#df-0ba27108-0754-4ca2-b5d6-92fcaa100b58');\n",
              "        const dataTable =\n",
              "          await google.colab.kernel.invokeFunction('convertToInteractive',\n",
              "                                                    [key], {});\n",
              "        if (!dataTable) return;\n",
              "\n",
              "        const docLinkHtml = 'Like what you see? Visit the ' +\n",
              "          '<a target=\"_blank\" href=https://colab.research.google.com/notebooks/data_table.ipynb>data table notebook</a>'\n",
              "          + ' to learn more about interactive tables.';\n",
              "        element.innerHTML = '';\n",
              "        dataTable['output_type'] = 'display_data';\n",
              "        await google.colab.output.renderOutput(dataTable, element);\n",
              "        const docLink = document.createElement('div');\n",
              "        docLink.innerHTML = docLinkHtml;\n",
              "        element.appendChild(docLink);\n",
              "      }\n",
              "    </script>\n",
              "  </div>\n",
              "\n",
              "\n",
              "<div id=\"df-cfc82780-dfc6-4eb8-ab5a-6494bceffd34\">\n",
              "  <button class=\"colab-df-quickchart\" onclick=\"quickchart('df-cfc82780-dfc6-4eb8-ab5a-6494bceffd34')\"\n",
              "            title=\"Suggest charts\"\n",
              "            style=\"display:none;\">\n",
              "\n",
              "<svg xmlns=\"http://www.w3.org/2000/svg\" height=\"24px\"viewBox=\"0 0 24 24\"\n",
              "     width=\"24px\">\n",
              "    <g>\n",
              "        <path d=\"M19 3H5c-1.1 0-2 .9-2 2v14c0 1.1.9 2 2 2h14c1.1 0 2-.9 2-2V5c0-1.1-.9-2-2-2zM9 17H7v-7h2v7zm4 0h-2V7h2v10zm4 0h-2v-4h2v4z\"/>\n",
              "    </g>\n",
              "</svg>\n",
              "  </button>\n",
              "\n",
              "<style>\n",
              "  .colab-df-quickchart {\n",
              "      --bg-color: #E8F0FE;\n",
              "      --fill-color: #1967D2;\n",
              "      --hover-bg-color: #E2EBFA;\n",
              "      --hover-fill-color: #174EA6;\n",
              "      --disabled-fill-color: #AAA;\n",
              "      --disabled-bg-color: #DDD;\n",
              "  }\n",
              "\n",
              "  [theme=dark] .colab-df-quickchart {\n",
              "      --bg-color: #3B4455;\n",
              "      --fill-color: #D2E3FC;\n",
              "      --hover-bg-color: #434B5C;\n",
              "      --hover-fill-color: #FFFFFF;\n",
              "      --disabled-bg-color: #3B4455;\n",
              "      --disabled-fill-color: #666;\n",
              "  }\n",
              "\n",
              "  .colab-df-quickchart {\n",
              "    background-color: var(--bg-color);\n",
              "    border: none;\n",
              "    border-radius: 50%;\n",
              "    cursor: pointer;\n",
              "    display: none;\n",
              "    fill: var(--fill-color);\n",
              "    height: 32px;\n",
              "    padding: 0;\n",
              "    width: 32px;\n",
              "  }\n",
              "\n",
              "  .colab-df-quickchart:hover {\n",
              "    background-color: var(--hover-bg-color);\n",
              "    box-shadow: 0 1px 2px rgba(60, 64, 67, 0.3), 0 1px 3px 1px rgba(60, 64, 67, 0.15);\n",
              "    fill: var(--button-hover-fill-color);\n",
              "  }\n",
              "\n",
              "  .colab-df-quickchart-complete:disabled,\n",
              "  .colab-df-quickchart-complete:disabled:hover {\n",
              "    background-color: var(--disabled-bg-color);\n",
              "    fill: var(--disabled-fill-color);\n",
              "    box-shadow: none;\n",
              "  }\n",
              "\n",
              "  .colab-df-spinner {\n",
              "    border: 2px solid var(--fill-color);\n",
              "    border-color: transparent;\n",
              "    border-bottom-color: var(--fill-color);\n",
              "    animation:\n",
              "      spin 1s steps(1) infinite;\n",
              "  }\n",
              "\n",
              "  @keyframes spin {\n",
              "    0% {\n",
              "      border-color: transparent;\n",
              "      border-bottom-color: var(--fill-color);\n",
              "      border-left-color: var(--fill-color);\n",
              "    }\n",
              "    20% {\n",
              "      border-color: transparent;\n",
              "      border-left-color: var(--fill-color);\n",
              "      border-top-color: var(--fill-color);\n",
              "    }\n",
              "    30% {\n",
              "      border-color: transparent;\n",
              "      border-left-color: var(--fill-color);\n",
              "      border-top-color: var(--fill-color);\n",
              "      border-right-color: var(--fill-color);\n",
              "    }\n",
              "    40% {\n",
              "      border-color: transparent;\n",
              "      border-right-color: var(--fill-color);\n",
              "      border-top-color: var(--fill-color);\n",
              "    }\n",
              "    60% {\n",
              "      border-color: transparent;\n",
              "      border-right-color: var(--fill-color);\n",
              "    }\n",
              "    80% {\n",
              "      border-color: transparent;\n",
              "      border-right-color: var(--fill-color);\n",
              "      border-bottom-color: var(--fill-color);\n",
              "    }\n",
              "    90% {\n",
              "      border-color: transparent;\n",
              "      border-bottom-color: var(--fill-color);\n",
              "    }\n",
              "  }\n",
              "</style>\n",
              "\n",
              "  <script>\n",
              "    async function quickchart(key) {\n",
              "      const quickchartButtonEl =\n",
              "        document.querySelector('#' + key + ' button');\n",
              "      quickchartButtonEl.disabled = true;  // To prevent multiple clicks.\n",
              "      quickchartButtonEl.classList.add('colab-df-spinner');\n",
              "      try {\n",
              "        const charts = await google.colab.kernel.invokeFunction(\n",
              "            'suggestCharts', [key], {});\n",
              "      } catch (error) {\n",
              "        console.error('Error during call to suggestCharts:', error);\n",
              "      }\n",
              "      quickchartButtonEl.classList.remove('colab-df-spinner');\n",
              "      quickchartButtonEl.classList.add('colab-df-quickchart-complete');\n",
              "    }\n",
              "    (() => {\n",
              "      let quickchartButtonEl =\n",
              "        document.querySelector('#df-cfc82780-dfc6-4eb8-ab5a-6494bceffd34 button');\n",
              "      quickchartButtonEl.style.display =\n",
              "        google.colab.kernel.accessAllowed ? 'block' : 'none';\n",
              "    })();\n",
              "  </script>\n",
              "</div>\n",
              "    </div>\n",
              "  </div>\n"
            ]
          },
          "metadata": {},
          "execution_count": 20
        }
      ],
      "source": [
        "df_fraud.select_dtypes(include='int64').head(5)"
      ]
    },
    {
      "cell_type": "code",
      "execution_count": 21,
      "metadata": {
        "colab": {
          "base_uri": "https://localhost:8080/"
        },
        "id": "Ne8Qrb_ZvxEO",
        "outputId": "412b494e-ff02-499a-9dd5-471d590e010e"
      },
      "outputs": [
        {
          "output_type": "execute_result",
          "data": {
            "text/plain": [
              "Index(['distance_from_home', 'distance_from_last_transaction',\n",
              "       'ratio_to_median_purchase_price', 'repeat_retailer', 'used_chip',\n",
              "       'used_pin_number', 'online_order', 'fraud'],\n",
              "      dtype='object')"
            ]
          },
          "metadata": {},
          "execution_count": 21
        }
      ],
      "source": [
        "df_fraud.columns"
      ]
    },
    {
      "cell_type": "code",
      "execution_count": 23,
      "metadata": {
        "colab": {
          "base_uri": "https://localhost:8080/",
          "height": 1000
        },
        "id": "X1xGQDuFl0bA",
        "outputId": "18ae2ff3-ebe8-4fd9-e898-b1b9d63c3848"
      },
      "outputs": [
        {
          "output_type": "stream",
          "name": "stdout",
          "text": [
            " repeat_retailer  fraud  Count  Percentage of Fraud  Percentage of Total Fraud Cases\n",
            "               0      1  10478                50.47                            11.99\n",
            "               1      1  76925                49.87                            88.01\n",
            "               1      0  77315                50.13                              NaN\n",
            "               0      0  10282                49.53                              NaN\n"
          ]
        },
        {
          "output_type": "display_data",
          "data": {
            "text/plain": [
              "<Figure size 1500x400 with 3 Axes>"
            ],
            "image/png": "[encoded data removed]"
          },
          "metadata": {}
        },
        {
          "output_type": "stream",
          "name": "stdout",
          "text": [
            " used_chip  fraud  Count  Percentage of Fraud  Percentage of Total Fraud Cases\n",
            "         0      1  64993                53.69                            74.36\n",
            "         1      1  22410                41.54                            25.64\n",
            "         1      0  31542                58.46                              NaN\n",
            "         0      0  56055                46.31                              NaN\n"
          ]
        },
        {
          "output_type": "display_data",
          "data": {
            "text/plain": [
              "<Figure size 1500x400 with 3 Axes>"
            ],
            "image/png": "[encoded data removed]"
          },
          "metadata": {}
        },
        {
          "output_type": "stream",
          "name": "stdout",
          "text": [
            " used_pin_number  fraud  Count  Percentage of Fraud  Percentage of Total Fraud Cases\n",
            "               0      1  87130                52.85                            99.69\n",
            "               1      1    273                 2.69                             0.31\n",
            "               1      0   9869                97.31                              NaN\n",
            "               0      0  77728                47.15                              NaN\n"
          ]
        },
        {
          "output_type": "display_data",
          "data": {
            "text/plain": [
              "<Figure size 1500x400 with 3 Axes>"
            ],
            "image/png": "[encoded data removed]"
          },
          "metadata": {}
        },
        {
          "output_type": "stream",
          "name": "stdout",
          "text": [
            " online_order  fraud  Count  Percentage of Fraud  Percentage of Total Fraud Cases\n",
            "            1      1  82711                60.27                            94.63\n",
            "            0      1   4692                12.42                             5.37\n",
            "            0      0  33074                87.58                              NaN\n",
            "            1      0  54523                39.73                              NaN\n"
          ]
        },
        {
          "output_type": "display_data",
          "data": {
            "text/plain": [
              "<Figure size 1500x400 with 3 Axes>"
            ],
            "image/png": "[encoded data removed]"
          },
          "metadata": {}
        }
      ],
      "source": [
        "import seaborn as sns\n",
        "\n",
        "# Iterate through columns in df_fraud\n",
        "for col in df_fraud.columns:\n",
        "    if col != 'fraud' and df_fraud[col].dtype == 'int64':\n",
        "        sns.set_style('darkgrid')\n",
        "\n",
        "\n",
        "        # Create a DataFrame for count and percentage of fraud cases\n",
        "        fraud_cases = pd.DataFrame(df_fraud.groupby([col, 'fraud']).size(), columns=['Count']).reset_index()\n",
        "        total_counts = fraud_cases.groupby(col)['Count'].transform('sum')\n",
        "        fraud_cases['Percentage of Fraud'] = round(fraud_cases['Count'] / total_counts * 100, 2)\n",
        "\n",
        "\n",
        "        if (fraud_cases['fraud'] == 1).any():\n",
        "            total_fraud_cases = fraud_cases[fraud_cases['fraud'] == 1]['Count'].sum()\n",
        "            fraud_cases.loc[fraud_cases['fraud'] == 1, 'Percentage of Total Fraud Cases'] = round(fraud_cases['Count'] / total_fraud_cases * 100, 2)\n",
        "\n",
        "        fraud_cases = fraud_cases.sort_values(by=['fraud', 'Percentage of Fraud', col], ascending=[False, False, True])\n",
        "\n",
        "        # Print the fraud_cases DataFrame\n",
        "        print(fraud_cases.to_string(index=False))\n",
        "\n",
        "        # Plot three graphs:\n",
        "        fig, axes = plt.subplots(1, 3, figsize=(15, 4))\n",
        "\n",
        "        # Plot 1: the count of fraud (both 0 and 1) for each category of a given variable\n",
        "        plt.subplot(1, 3, 1)\n",
        "        order = df_fraud[df_fraud['fraud'] == 1][col].value_counts().index\n",
        "        ax = sns.countplot(data=df_fraud, x=col, hue='fraud', palette='Blues', dodge=False, order=order)\n",
        "        ax.set_xticklabels(ax.get_xticklabels(), rotation=45, ha='right')\n",
        "        plt.title(f'Total # of Claims by {col}')\n",
        "\n",
        "        # Plot 2: the count of fraud == 1 for each category of a given variable\n",
        "        plt.subplot(1, 3, 2)\n",
        "        ax = sns.countplot(data=df_fraud[df_fraud['fraud'] == 1], x=col, color='#4884af', dodge=False, order=order)\n",
        "        ax.set_xticklabels(ax.get_xticklabels(), rotation=45, ha='right')\n",
        "        plt.title(f'# Fraud Claims by {col}')\n",
        "\n",
        "        # Plot 3: the % of fraud == 1 for each category of a given variable\n",
        "        plt.subplot(1, 3, 3)\n",
        "        fraud_cases_subset = fraud_cases[fraud_cases['fraud'] == 1]\n",
        "        fraud_cases_subset = fraud_cases_subset.sort_values(by='Percentage of Fraud', ascending=False)  # Sort by Percentage of Fraud\n",
        "        plt.bar(x=fraud_cases_subset[col], height=fraud_cases_subset['Percentage of Fraud'], color='#4884af', label='Percentage of Fraud', alpha=0.7)\n",
        "        # Set x-axis ticks to be either 0 or 1\n",
        "        plt.xticks([1, 0], rotation=45, ha='right')\n",
        "        plt.ylabel('% of Fraud')\n",
        "        plt.title(f'% Fraud Insurance Claims by {col}')\n",
        "\n",
        "\n",
        "        plt.show()\n"
      ]
    },
    {
      "cell_type": "code",
      "execution_count": null,
      "metadata": {
        "id": "AJBZZgar48UE"
      },
      "outputs": [],
      "source": [
        "# # we observed that DaysOfWeekClaimed and MonthClaimed both included 0 values\n",
        "# df_fraud[(df_fraud['DayOfWeekClaimed'] == '0') | (df_fraud['MonthClaimed'] == '0')]['FraudFound_P']"
      ]
    },
    {
      "cell_type": "code",
      "execution_count": null,
      "metadata": {
        "id": "IoRkAlM7W8O3"
      },
      "outputs": [],
      "source": [
        "# df_fraud[df_fraud['DayOfWeekClaimed'] == '0']"
      ]
    },
    {
      "cell_type": "code",
      "execution_count": null,
      "metadata": {
        "id": "3Y-29UTfTr9b"
      },
      "outputs": [],
      "source": [
        "# # lets remove rows where  DayOfWeekClaimed or MonthClaimed is equal to 0 (and FraudFound_P == 0)\n",
        "\n",
        "# df_fraud = df_fraud[~((df_fraud['FraudFound_P'] == 0) & ((df_fraud['DayOfWeekClaimed'] == '0') | (df_fraud['MonthClaimed'] == '0')))]\n"
      ]
    },
    {
      "cell_type": "code",
      "execution_count": null,
      "metadata": {
        "colab": {
          "background_save": true
        },
        "id": "k_fyL2AH2cg3"
      },
      "outputs": [],
      "source": [
        "# # Confirming we removed the row (rows) where  DayOfWeekClaimed or MonthClaimed is equal to 0 (and FraudFound_P == 0)\n",
        "# df_fraud[(df_fraud['DayOfWeekClaimed'] == '0') | (df_fraud['MonthClaimed'] == '0')]['FraudFound_P']"
      ]
    },
    {
      "cell_type": "code",
      "execution_count": null,
      "metadata": {
        "id": "iwmY-jP2wbCU"
      },
      "outputs": [],
      "source": [
        "# # Recode binary categorical variables using numerical encoding\n",
        "# df_fraud['bi_AccidentArea'] = df_fraud['AccidentArea'].map({'Rural': 0, 'Urban': 1})\n",
        "# df_fraud['bi_Sex'] = df_fraud['Sex'].map({'Male': 0, 'Female': 1})\n",
        "# df_fraud['bi_Fault'] = df_fraud['Fault'].map({'Policy Holder': 0, 'Third Party': 1})\n",
        "# df_fraud['bi_AgentType'] = df_fraud['AgentType'].map({'Internal': 0, 'External': 1})\n",
        "# df_fraud['bi_WitnessPresent'] = df_fraud['WitnessPresent'].map({'No': 0, 'Yes': 1})\n",
        "# df_fraud['bi_PoliceReportFiled'] = df_fraud['PoliceReportFiled'].map({'No': 0, 'Yes': 1})\n"
      ]
    },
    {
      "cell_type": "code",
      "execution_count": null,
      "metadata": {
        "id": "ck5UIgT-0Y5F"
      },
      "outputs": [],
      "source": [
        "# from sklearn.preprocessing import LabelEncoder\n",
        "\n",
        "# # Create a LabelEncoder instance\n",
        "# label_encoder = LabelEncoder()\n",
        "\n",
        "# # Fit and transform the 'Deductible' column\n",
        "# df_fraud['le_Deductible'] = label_encoder.fit_transform(df_fraud['Deductible'])\n",
        "\n",
        "# # Fit and transform the 'DriverRating' column\n",
        "# df_fraud['le_DriverRating'] = label_encoder.fit_transform(df_fraud['DriverRating'])\n",
        "\n",
        "# # Fit and transform the 'Year' column\n",
        "\n",
        "# df_fraud['le_Year'] = label_encoder.fit_transform(df_fraud['Year'])\n",
        "\n"
      ]
    },
    {
      "cell_type": "code",
      "execution_count": null,
      "metadata": {
        "id": "R0a3Iztbq52g"
      },
      "outputs": [],
      "source": [
        "# def recode_columns(df, target_col):\n",
        "#     recoded_cols = []\n",
        "\n",
        "#     for col in df.columns:\n",
        "#         if col != target_col and df[col].nunique() > 3:\n",
        "#             # Calculate fraud counts and quantiles for each column\n",
        "#             fraud_counts = df[df[target_col] == 1][col].value_counts()\n",
        "#             quantile_1_3 = fraud_counts.quantile(1/3)\n",
        "#             quantile_2_3 = fraud_counts.quantile(2/3)\n",
        "\n",
        "#             # Split into low, medium, and high fraud risk based on quantiles\n",
        "#             low_risk = fraud_counts[fraud_counts <= quantile_1_3].index\n",
        "#             medium_risk = fraud_counts[(fraud_counts > quantile_1_3) & (fraud_counts < quantile_2_3)].index\n",
        "#             high_risk = fraud_counts[fraud_counts >= quantile_2_3].index\n",
        "\n",
        "#             # Create a new column based on the risk categories\n",
        "#             df[f'new_{col}'] = 'Low'  # Default to 'Low'\n",
        "#             df.loc[df[col].isin(medium_risk), f'new_{col}'] = 'Medium'\n",
        "#             df.loc[df[col].isin(high_risk), f'new_{col}'] = 'High'\n",
        "\n",
        "#             # Drop the old column\n",
        "#             df.drop([col], axis=1, inplace=True)\n",
        "\n",
        "#             recoded_cols.append(f'new_{col}')\n",
        "\n",
        "#     return df, recoded_cols\n",
        "\n",
        "# df_fraud, recoded_columns = recode_columns(df_fraud, 'FraudFound_P')"
      ]
    },
    {
      "cell_type": "code",
      "execution_count": null,
      "metadata": {
        "colab": {
          "base_uri": "https://localhost:8080/"
        },
        "id": "jqdQlf71hEKK",
        "outputId": "0207b2e5-26bf-4a2d-82c4-badcb1d90666"
      },
      "outputs": [
        {
          "name": "stdout",
          "output_type": "stream",
          "text": [
            "                      F-Value  p-Value Significance\n",
            "fraud                     inf  0.00000            *\n",
            "online_order     3.209235e+04  0.00000            *\n",
            "used_pin_number  1.017431e+04  0.00000            *\n",
            "used_chip        2.233576e+03  0.00000            *\n",
            "repeat_retailer  2.621557e+00  0.10542             \n"
          ]
        },
        {
          "name": "stderr",
          "output_type": "stream",
          "text": [
            "/usr/local/lib/python3.10/dist-packages/scipy/stats/_stats_py.py:4167: ConstantInputWarning: Each of the input arrays is constant;the F statistic is not defined or infinite\n",
            "  warnings.warn(stats.ConstantInputWarning(msg))\n"
          ]
        }
      ],
      "source": [
        "# Another way to identify which variables have a significant impact on the target variable (FraudFound_P) - ANOVA\n",
        "from scipy import stats\n",
        "\n",
        "categorical_features = df_fraud.select_dtypes(include=['int64']).columns\n",
        "anova_results = {}\n",
        "\n",
        "for feature in categorical_features:\n",
        "    grouped = df_fraud.groupby(feature)['fraud']\n",
        "    f_value, p_value = stats.f_oneway(*(group for name, group in grouped))\n",
        "    anova_results[feature] = {'F-Value': f_value, 'p-Value': p_value}\n",
        "\n",
        "# Converting results to a DataFrame for better visualization\n",
        "anova_df = pd.DataFrame(anova_results).T\n",
        "anova_df['p-Value'] = anova_df['p-Value'].round(5)\n",
        "\n",
        "# Add significance column\n",
        "anova_df['Significance'] = np.where(anova_df['p-Value'] < 0.05, '*', '')\n",
        "\n",
        "\n",
        "# Sort results by F-value and p-value significance level\n",
        "anova_df = anova_df.sort_values(by=['F-Value', 'Significance'], ascending=[False, True])\n",
        "\n",
        "print(anova_df)"
      ]
    },
    {
      "cell_type": "code",
      "execution_count": null,
      "metadata": {
        "id": "wcAXXGGxotZc"
      },
      "outputs": [],
      "source": [
        "# Make a copy of the dataframe so far and\n",
        "# drop vehicle type + base policy and only leave PolicyType_New\n",
        "# Create new variables for:\n",
        "# DayOfWeek >> WeekendTransition\n",
        "#\n",
        "#"
      ]
    },
    {
      "cell_type": "code",
      "execution_count": null,
      "metadata": {
        "colab": {
          "base_uri": "https://localhost:8080/"
        },
        "id": "5Mn7yL9MtAKU",
        "outputId": "0a4f7b6b-1959-4c7b-f405-93d106c96dc9"
      },
      "outputs": [
        {
          "data": {
            "text/plain": [
              "Index(['distance_from_home', 'distance_from_last_transaction',\n",
              "       'ratio_to_median_purchase_price', 'repeat_retailer', 'used_chip',\n",
              "       'used_pin_number', 'online_order', 'fraud'],\n",
              "      dtype='object')"
            ]
          },
          "execution_count": 36,
          "metadata": {},
          "output_type": "execute_result"
        }
      ],
      "source": [
        "df_fraud.columns"
      ]
    },
    {
      "cell_type": "code",
      "execution_count": null,
      "metadata": {
        "id": "oUMdhu3xsNyp"
      },
      "outputs": [],
      "source": [
        "df_fraud_for_modeling = df_fraud.copy()\n"
      ]
    },
    {
      "cell_type": "code",
      "execution_count": null,
      "metadata": {
        "id": "hg274JjpSrQf"
      },
      "outputs": [],
      "source": [
        "# # Identify columns to be converted to object\n",
        "# columns_to_convert = df_fraud_for_modeling.columns[df_fraud_for_modeling.columns != 'FraudFound_P']\n",
        "\n",
        "# # Convert selected columns to object type\n",
        "# df_fraud_for_modeling[columns_to_convert] = df_fraud_for_modeling[columns_to_convert].astype('object')\n"
      ]
    },
    {
      "cell_type": "code",
      "execution_count": null,
      "metadata": {
        "colab": {
          "base_uri": "https://localhost:8080/"
        },
        "id": "bPgqd5xHynDF",
        "outputId": "e47bda44-4191-4bce-d774-2efcba8afacf"
      },
      "outputs": [
        {
          "name": "stdout",
          "output_type": "stream",
          "text": [
            "<class 'pandas.core.frame.DataFrame'>\n",
            "RangeIndex: 175000 entries, 0 to 174999\n",
            "Data columns (total 8 columns):\n",
            " #   Column                          Non-Null Count   Dtype  \n",
            "---  ------                          --------------   -----  \n",
            " 0   distance_from_home              175000 non-null  float64\n",
            " 1   distance_from_last_transaction  175000 non-null  float64\n",
            " 2   ratio_to_median_purchase_price  175000 non-null  float64\n",
            " 3   repeat_retailer                 175000 non-null  int64  \n",
            " 4   used_chip                       175000 non-null  int64  \n",
            " 5   used_pin_number                 175000 non-null  int64  \n",
            " 6   online_order                    175000 non-null  int64  \n",
            " 7   fraud                           175000 non-null  int64  \n",
            "dtypes: float64(3), int64(5)\n",
            "memory usage: 10.7 MB\n"
          ]
        }
      ],
      "source": [
        "df_fraud_for_modeling.info()"
      ]
    },
    {
      "cell_type": "code",
      "execution_count": null,
      "metadata": {
        "colab": {
          "base_uri": "https://localhost:8080/",
          "height": 112
        },
        "id": "G6ulGvB_tmDe",
        "outputId": "aa28e87e-2b31-44da-9d30-c039b6350d10"
      },
      "outputs": [
        {
          "data": {
            "text/html": [
              "\n",
              "  <div id=\"df-bef5a9cf-08b5-421f-babd-9400edfb0e3a\" class=\"colab-df-container\">\n",
              "    <div>\n",
              "<style scoped>\n",
              "    .dataframe tbody tr th:only-of-type {\n",
              "        vertical-align: middle;\n",
              "    }\n",
              "\n",
              "    .dataframe tbody tr th {\n",
              "        vertical-align: top;\n",
              "    }\n",
              "\n",
              "    .dataframe thead th {\n",
              "        text-align: right;\n",
              "    }\n",
              "</style>\n",
              "<table border=\"1\" class=\"dataframe\">\n",
              "  <thead>\n",
              "    <tr style=\"text-align: right;\">\n",
              "      <th></th>\n",
              "      <th>fraud</th>\n",
              "    </tr>\n",
              "  </thead>\n",
              "  <tbody>\n",
              "    <tr>\n",
              "      <th>0</th>\n",
              "      <td>87597</td>\n",
              "    </tr>\n",
              "    <tr>\n",
              "      <th>1</th>\n",
              "      <td>87403</td>\n",
              "    </tr>\n",
              "  </tbody>\n",
              "</table>\n",
              "</div>\n",
              "    <div class=\"colab-df-buttons\">\n",
              "\n",
              "  <div class=\"colab-df-container\">\n",
              "    <button class=\"colab-df-convert\" onclick=\"convertToInteractive('df-bef5a9cf-08b5-421f-babd-9400edfb0e3a')\"\n",
              "            title=\"Convert this dataframe to an interactive table.\"\n",
              "            style=\"display:none;\">\n",
              "\n",
              "  <svg xmlns=\"http://www.w3.org/2000/svg\" height=\"24px\" viewBox=\"0 -960 960 960\">\n",
              "    <path d=\"M120-120v-720h720v720H120Zm60-500h600v-160H180v160Zm220 220h160v-160H400v160Zm0 220h160v-160H400v160ZM180-400h160v-160H180v160Zm440 0h160v-160H620v160ZM180-180h160v-160H180v160Zm440 0h160v-160H620v160Z\"/>\n",
              "  </svg>\n",
              "    </button>\n",
              "\n",
              "  <style>\n",
              "    .colab-df-container {\n",
              "      display:flex;\n",
              "      gap: 12px;\n",
              "    }\n",
              "\n",
              "    .colab-df-convert {\n",
              "      background-color: #E8F0FE;\n",
              "      border: none;\n",
              "      border-radius: 50%;\n",
              "      cursor: pointer;\n",
              "      display: none;\n",
              "      fill: #1967D2;\n",
              "      height: 32px;\n",
              "      padding: 0 0 0 0;\n",
              "      width: 32px;\n",
              "    }\n",
              "\n",
              "    .colab-df-convert:hover {\n",
              "      background-color: #E2EBFA;\n",
              "      box-shadow: 0px 1px 2px rgba(60, 64, 67, 0.3), 0px 1px 3px 1px rgba(60, 64, 67, 0.15);\n",
              "      fill: #174EA6;\n",
              "    }\n",
              "\n",
              "    .colab-df-buttons div {\n",
              "      margin-bottom: 4px;\n",
              "    }\n",
              "\n",
              "    [theme=dark] .colab-df-convert {\n",
              "      background-color: #3B4455;\n",
              "      fill: #D2E3FC;\n",
              "    }\n",
              "\n",
              "    [theme=dark] .colab-df-convert:hover {\n",
              "      background-color: #434B5C;\n",
              "      box-shadow: 0px 1px 3px 1px rgba(0, 0, 0, 0.15);\n",
              "      filter: drop-shadow(0px 1px 2px rgba(0, 0, 0, 0.3));\n",
              "      fill: #FFFFFF;\n",
              "    }\n",
              "  </style>\n",
              "\n",
              "    <script>\n",
              "      const buttonEl =\n",
              "        document.querySelector('#df-bef5a9cf-08b5-421f-babd-9400edfb0e3a button.colab-df-convert');\n",
              "      buttonEl.style.display =\n",
              "        google.colab.kernel.accessAllowed ? 'block' : 'none';\n",
              "\n",
              "      async function convertToInteractive(key) {\n",
              "        const element = document.querySelector('#df-bef5a9cf-08b5-421f-babd-9400edfb0e3a');\n",
              "        const dataTable =\n",
              "          await google.colab.kernel.invokeFunction('convertToInteractive',\n",
              "                                                    [key], {});\n",
              "        if (!dataTable) return;\n",
              "\n",
              "        const docLinkHtml = 'Like what you see? Visit the ' +\n",
              "          '<a target=\"_blank\" href=https://colab.research.google.com/notebooks/data_table.ipynb>data table notebook</a>'\n",
              "          + ' to learn more about interactive tables.';\n",
              "        element.innerHTML = '';\n",
              "        dataTable['output_type'] = 'display_data';\n",
              "        await google.colab.output.renderOutput(dataTable, element);\n",
              "        const docLink = document.createElement('div');\n",
              "        docLink.innerHTML = docLinkHtml;\n",
              "        element.appendChild(docLink);\n",
              "      }\n",
              "    </script>\n",
              "  </div>\n",
              "\n",
              "\n",
              "<div id=\"df-41fcc43f-bef7-42ce-9ca4-12b50607cbca\">\n",
              "  <button class=\"colab-df-quickchart\" onclick=\"quickchart('df-41fcc43f-bef7-42ce-9ca4-12b50607cbca')\"\n",
              "            title=\"Suggest charts\"\n",
              "            style=\"display:none;\">\n",
              "\n",
              "<svg xmlns=\"http://www.w3.org/2000/svg\" height=\"24px\"viewBox=\"0 0 24 24\"\n",
              "     width=\"24px\">\n",
              "    <g>\n",
              "        <path d=\"M19 3H5c-1.1 0-2 .9-2 2v14c0 1.1.9 2 2 2h14c1.1 0 2-.9 2-2V5c0-1.1-.9-2-2-2zM9 17H7v-7h2v7zm4 0h-2V7h2v10zm4 0h-2v-4h2v4z\"/>\n",
              "    </g>\n",
              "</svg>\n",
              "  </button>\n",
              "\n",
              "<style>\n",
              "  .colab-df-quickchart {\n",
              "      --bg-color: #E8F0FE;\n",
              "      --fill-color: #1967D2;\n",
              "      --hover-bg-color: #E2EBFA;\n",
              "      --hover-fill-color: #174EA6;\n",
              "      --disabled-fill-color: #AAA;\n",
              "      --disabled-bg-color: #DDD;\n",
              "  }\n",
              "\n",
              "  [theme=dark] .colab-df-quickchart {\n",
              "      --bg-color: #3B4455;\n",
              "      --fill-color: #D2E3FC;\n",
              "      --hover-bg-color: #434B5C;\n",
              "      --hover-fill-color: #FFFFFF;\n",
              "      --disabled-bg-color: #3B4455;\n",
              "      --disabled-fill-color: #666;\n",
              "  }\n",
              "\n",
              "  .colab-df-quickchart {\n",
              "    background-color: var(--bg-color);\n",
              "    border: none;\n",
              "    border-radius: 50%;\n",
              "    cursor: pointer;\n",
              "    display: none;\n",
              "    fill: var(--fill-color);\n",
              "    height: 32px;\n",
              "    padding: 0;\n",
              "    width: 32px;\n",
              "  }\n",
              "\n",
              "  .colab-df-quickchart:hover {\n",
              "    background-color: var(--hover-bg-color);\n",
              "    box-shadow: 0 1px 2px rgba(60, 64, 67, 0.3), 0 1px 3px 1px rgba(60, 64, 67, 0.15);\n",
              "    fill: var(--button-hover-fill-color);\n",
              "  }\n",
              "\n",
              "  .colab-df-quickchart-complete:disabled,\n",
              "  .colab-df-quickchart-complete:disabled:hover {\n",
              "    background-color: var(--disabled-bg-color);\n",
              "    fill: var(--disabled-fill-color);\n",
              "    box-shadow: none;\n",
              "  }\n",
              "\n",
              "  .colab-df-spinner {\n",
              "    border: 2px solid var(--fill-color);\n",
              "    border-color: transparent;\n",
              "    border-bottom-color: var(--fill-color);\n",
              "    animation:\n",
              "      spin 1s steps(1) infinite;\n",
              "  }\n",
              "\n",
              "  @keyframes spin {\n",
              "    0% {\n",
              "      border-color: transparent;\n",
              "      border-bottom-color: var(--fill-color);\n",
              "      border-left-color: var(--fill-color);\n",
              "    }\n",
              "    20% {\n",
              "      border-color: transparent;\n",
              "      border-left-color: var(--fill-color);\n",
              "      border-top-color: var(--fill-color);\n",
              "    }\n",
              "    30% {\n",
              "      border-color: transparent;\n",
              "      border-left-color: var(--fill-color);\n",
              "      border-top-color: var(--fill-color);\n",
              "      border-right-color: var(--fill-color);\n",
              "    }\n",
              "    40% {\n",
              "      border-color: transparent;\n",
              "      border-right-color: var(--fill-color);\n",
              "      border-top-color: var(--fill-color);\n",
              "    }\n",
              "    60% {\n",
              "      border-color: transparent;\n",
              "      border-right-color: var(--fill-color);\n",
              "    }\n",
              "    80% {\n",
              "      border-color: transparent;\n",
              "      border-right-color: var(--fill-color);\n",
              "      border-bottom-color: var(--fill-color);\n",
              "    }\n",
              "    90% {\n",
              "      border-color: transparent;\n",
              "      border-bottom-color: var(--fill-color);\n",
              "    }\n",
              "  }\n",
              "</style>\n",
              "\n",
              "  <script>\n",
              "    async function quickchart(key) {\n",
              "      const quickchartButtonEl =\n",
              "        document.querySelector('#' + key + ' button');\n",
              "      quickchartButtonEl.disabled = true;  // To prevent multiple clicks.\n",
              "      quickchartButtonEl.classList.add('colab-df-spinner');\n",
              "      try {\n",
              "        const charts = await google.colab.kernel.invokeFunction(\n",
              "            'suggestCharts', [key], {});\n",
              "      } catch (error) {\n",
              "        console.error('Error during call to suggestCharts:', error);\n",
              "      }\n",
              "      quickchartButtonEl.classList.remove('colab-df-spinner');\n",
              "      quickchartButtonEl.classList.add('colab-df-quickchart-complete');\n",
              "    }\n",
              "    (() => {\n",
              "      let quickchartButtonEl =\n",
              "        document.querySelector('#df-41fcc43f-bef7-42ce-9ca4-12b50607cbca button');\n",
              "      quickchartButtonEl.style.display =\n",
              "        google.colab.kernel.accessAllowed ? 'block' : 'none';\n",
              "    })();\n",
              "  </script>\n",
              "</div>\n",
              "    </div>\n",
              "  </div>\n"
            ],
            "text/plain": [
              "   fraud\n",
              "0  87597\n",
              "1  87403"
            ]
          },
          "execution_count": 40,
          "metadata": {},
          "output_type": "execute_result"
        }
      ],
      "source": [
        "pd.DataFrame(df_fraud_for_modeling['fraud'].value_counts())\n"
      ]
    },
    {
      "cell_type": "code",
      "execution_count": null,
      "metadata": {
        "colab": {
          "base_uri": "https://localhost:8080/"
        },
        "id": "FLg1vFZ9g962",
        "outputId": "0f04a94a-5d21-44d9-ef94-2637a9f2c2e5"
      },
      "outputs": [
        {
          "data": {
            "text/plain": [
              "Index(['distance_from_home', 'distance_from_last_transaction',\n",
              "       'ratio_to_median_purchase_price', 'repeat_retailer', 'used_chip',\n",
              "       'used_pin_number', 'online_order', 'fraud'],\n",
              "      dtype='object')"
            ]
          },
          "execution_count": 41,
          "metadata": {},
          "output_type": "execute_result"
        }
      ],
      "source": [
        "df_fraud_for_modeling.columns"
      ]
    },
    {
      "cell_type": "code",
      "execution_count": null,
      "metadata": {
        "id": "trw7fzUlMFAv"
      },
      "outputs": [],
      "source": [
        "# splitting the dataset\n",
        "from sklearn.model_selection import train_test_split\n",
        "\n",
        "# Separating features and target variable\n",
        "X = df_fraud_for_modeling.drop('fraud', axis=1)\n",
        "y = df_fraud_for_modeling['fraud']\n",
        "\n",
        "# Splitting the dataset into training and testing sets\n",
        "X_train, X_test, y_train, y_test = train_test_split(X, y, test_size=0.2, random_state=42, stratify=y)\n"
      ]
    },
    {
      "cell_type": "code",
      "execution_count": null,
      "metadata": {
        "colab": {
          "base_uri": "https://localhost:8080/"
        },
        "id": "VgSAqjMeOtSL",
        "outputId": "c5be7bf6-5186-44a2-dea2-ec5f7ec9732f"
      },
      "outputs": [
        {
          "name": "stdout",
          "output_type": "stream",
          "text": [
            "\n",
            "Confusion Matrix:\n",
            " [[16373  1146]\n",
            " [  869 16612]]\n",
            "\n",
            "Classification Report:\n",
            "               precision    recall  f1-score   support\n",
            "\n",
            "           0       0.95      0.93      0.94     17519\n",
            "           1       0.94      0.95      0.94     17481\n",
            "\n",
            "    accuracy                           0.94     35000\n",
            "   macro avg       0.94      0.94      0.94     35000\n",
            "weighted avg       0.94      0.94      0.94     35000\n",
            "\n"
          ]
        }
      ],
      "source": [
        "# Logistic regression - baseline, without SMOTE\n",
        "\n",
        "from sklearn.linear_model import LogisticRegression\n",
        "from sklearn.metrics import accuracy_score, classification_report, confusion_matrix\n",
        "\n",
        "# Create a Logistic Regression model\n",
        "logreg_model = LogisticRegression(max_iter=1000, random_state=42)\n",
        "\n",
        "# Train the model on the balanced dataset\n",
        "logreg_model.fit(X_train, y_train)\n",
        "\n",
        "# Make predictions on the test set\n",
        "y_pred_lg = logreg_model.predict(X_test)\n",
        "\n",
        "# Evaluate the performance of the model\n",
        "conf_matrix = confusion_matrix(y_test, y_pred_lg)\n",
        "classification_rep = classification_report(y_test, y_pred_lg)\n",
        "\n",
        "# Print the results\n",
        "print(\"\\nConfusion Matrix:\\n\", conf_matrix)\n",
        "print(\"\\nClassification Report:\\n\", classification_rep)"
      ]
    },
    {
      "cell_type": "code",
      "execution_count": null,
      "metadata": {
        "colab": {
          "base_uri": "https://localhost:8080/"
        },
        "id": "UfmOS17k_7BT",
        "outputId": "5e55d124-8145-4593-9c1a-8fc8f1c848bb"
      },
      "outputs": [
        {
          "name": "stdout",
          "output_type": "stream",
          "text": [
            "\n",
            "Decision Tree Confusion Matrix:\n",
            " [[17517     2]\n",
            " [    3 17478]]\n",
            "\n",
            "Decision Tree Classification Report:\n",
            "               precision    recall  f1-score   support\n",
            "\n",
            "           0       1.00      1.00      1.00     17519\n",
            "           1       1.00      1.00      1.00     17481\n",
            "\n",
            "    accuracy                           1.00     35000\n",
            "   macro avg       1.00      1.00      1.00     35000\n",
            "weighted avg       1.00      1.00      1.00     35000\n",
            "\n"
          ]
        }
      ],
      "source": [
        "# Decision Tree without SMOTE\n",
        "\n",
        "from sklearn.tree import DecisionTreeClassifier\n",
        "from sklearn.metrics import classification_report, confusion_matrix\n",
        "\n",
        "# Create a Decision Tree model\n",
        "dt_model = DecisionTreeClassifier(random_state=42)\n",
        "\n",
        "# Train the model on the SMOTE dataset\n",
        "dt_model.fit(X_train, y_train)\n",
        "\n",
        "# Make predictions on the test set\n",
        "y_pred_dt = dt_model.predict(X_test)\n",
        "\n",
        "# Evaluate the performance of the model\n",
        "conf_matrix_dt = confusion_matrix(y_test, y_pred_dt)\n",
        "classification_rep_dt = classification_report(y_test, y_pred_dt)\n",
        "\n",
        "# Print the results\n",
        "print(\"\\nDecision Tree Confusion Matrix:\\n\", conf_matrix_dt)\n",
        "print(\"\\nDecision Tree Classification Report:\\n\", classification_rep_dt)"
      ]
    },
    {
      "cell_type": "code",
      "execution_count": null,
      "metadata": {
        "colab": {
          "base_uri": "https://localhost:8080/"
        },
        "id": "Gqn6hLYoPTaZ",
        "outputId": "78a940c2-413c-436f-dd42-8f3126835777"
      },
      "outputs": [
        {
          "name": "stdout",
          "output_type": "stream",
          "text": [
            "\n",
            "Random Forest Confusion Matrix:\n",
            " [[17518     1]\n",
            " [    1 17480]]\n",
            "\n",
            "Random Forest Classification Report:\n",
            "               precision    recall  f1-score   support\n",
            "\n",
            "           0       1.00      1.00      1.00     17519\n",
            "           1       1.00      1.00      1.00     17481\n",
            "\n",
            "    accuracy                           1.00     35000\n",
            "   macro avg       1.00      1.00      1.00     35000\n",
            "weighted avg       1.00      1.00      1.00     35000\n",
            "\n",
            "Size of the x-train, y-train, x-test, y-test: (140000, 140000, 35000, 35000)\n"
          ]
        }
      ],
      "source": [
        "# Random Forest without SMOTE\n",
        "\n",
        "from sklearn.ensemble import RandomForestClassifier\n",
        "# Create a Random Forest model\n",
        "rf_model = RandomForestClassifier(random_state=42)\n",
        "\n",
        "# Train the model on the balanced dataset\n",
        "rf_model.fit(X_train, y_train)\n",
        "\n",
        "# Make predictions on the test set\n",
        "y_pred_rf = rf_model.predict(X_test)\n",
        "\n",
        "# Evaluate the performance of the model\n",
        "# accuracy_rf = accuracy_score(y_test_balanced, y_pred_rf)\n",
        "conf_matrix_rf = confusion_matrix(y_test, y_pred_rf)\n",
        "classification_rep_rf = classification_report(y_test, y_pred_rf)\n",
        "\n",
        "# Print the results\n",
        "print(\"\\nRandom Forest Confusion Matrix:\\n\", conf_matrix_rf)\n",
        "print(\"\\nRandom Forest Classification Report:\\n\", classification_rep_rf)\n",
        "print(f'Size of the x-train, y-train, x-test, y-test: {len(X_train), len(y_train), len(X_test), len(y_test)}')"
      ]
    },
    {
      "cell_type": "code",
      "execution_count": null,
      "metadata": {
        "colab": {
          "base_uri": "https://localhost:8080/"
        },
        "id": "sOfcQ3Omo9xf",
        "outputId": "d01e0bf4-f67a-4a24-a036-7f0bae78ea38"
      },
      "outputs": [
        {
          "name": "stdout",
          "output_type": "stream",
          "text": [
            "\n",
            "Confusion Matrix:\n",
            " [[17481    38]\n",
            " [   37 17444]]\n",
            "\n",
            "Classification Report:\n",
            "               precision    recall  f1-score   support\n",
            "\n",
            "           0       1.00      1.00      1.00     17519\n",
            "           1       1.00      1.00      1.00     17481\n",
            "\n",
            "    accuracy                           1.00     35000\n",
            "   macro avg       1.00      1.00      1.00     35000\n",
            "weighted avg       1.00      1.00      1.00     35000\n",
            "\n"
          ]
        }
      ],
      "source": [
        "# XGBoost without SMOTE:\n",
        "import xgboost as xgb\n",
        "\n",
        "# Create an XGBoost model\n",
        "xgb_model = xgb.XGBClassifier(random_state=42)\n",
        "\n",
        "# Train the model on the training set\n",
        "xgb_model.fit(X_train, y_train)\n",
        "\n",
        "# Make predictions on the test set\n",
        "y_pred = xgb_model.predict(X_test)\n",
        "\n",
        "# Evaluate the performance of the model\n",
        "conf_matrix = confusion_matrix(y_test, y_pred)\n",
        "classification_rep = classification_report(y_test, y_pred)\n",
        "\n",
        "# Print the results\n",
        "print(\"\\nConfusion Matrix:\\n\", conf_matrix)\n",
        "print(\"\\nClassification Report:\\n\", classification_rep)\n"
      ]
    },
    {
      "cell_type": "markdown",
      "metadata": {
        "id": "E4Wt-CZLQUFi"
      },
      "source": [
        "[[True Negative (TN)   False Positive (FP)] <br/>\n",
        " [False Negative (FN)  True Positive (TP)]]"
      ]
    },
    {
      "cell_type": "code",
      "execution_count": null,
      "metadata": {
        "id": "r7tPI7MO_YYC"
      },
      "outputs": [],
      "source": [
        "# Applying SMOTE to oversample the minority class cases:\n",
        "\n",
        "from imblearn.over_sampling import SMOTE\n",
        "\n",
        "smote = SMOTE(random_state=42)\n",
        "X_train_smote, y_train_smote = smote.fit_resample(X_train, y_train)"
      ]
    },
    {
      "cell_type": "code",
      "execution_count": null,
      "metadata": {
        "colab": {
          "base_uri": "https://localhost:8080/"
        },
        "id": "O6Wvlp-gC4p3",
        "outputId": "2e1fab80-5af0-4223-ae58-6caca6a73370"
      },
      "outputs": [
        {
          "data": {
            "text/plain": [
              "0    70078\n",
              "1    70078\n",
              "Name: fraud, dtype: int64"
            ]
          },
          "execution_count": 48,
          "metadata": {},
          "output_type": "execute_result"
        }
      ],
      "source": [
        "y_train_smote.value_counts()\n"
      ]
    },
    {
      "cell_type": "code",
      "execution_count": null,
      "metadata": {
        "colab": {
          "base_uri": "https://localhost:8080/"
        },
        "id": "c9yF8RHlwEa5",
        "outputId": "350ed6ca-ada5-4923-f11e-9620c186dd2a"
      },
      "outputs": [
        {
          "name": "stdout",
          "output_type": "stream",
          "text": [
            "\n",
            "Confusion Matrix:\n",
            " [[16373  1146]\n",
            " [  868 16613]]\n",
            "\n",
            "Classification Report:\n",
            "               precision    recall  f1-score   support\n",
            "\n",
            "           0       0.95      0.93      0.94     17519\n",
            "           1       0.94      0.95      0.94     17481\n",
            "\n",
            "    accuracy                           0.94     35000\n",
            "   macro avg       0.94      0.94      0.94     35000\n",
            "weighted avg       0.94      0.94      0.94     35000\n",
            "\n"
          ]
        }
      ],
      "source": [
        "# Logistic Regression after applying SMOTE:\n",
        "from sklearn.linear_model import LogisticRegression\n",
        "from sklearn.metrics import accuracy_score, classification_report, confusion_matrix\n",
        "\n",
        "# Create a Logistic Regression model\n",
        "logreg_model = LogisticRegression(max_iter=1000, random_state=42)\n",
        "\n",
        "# Train the model on the balanced dataset\n",
        "logreg_model.fit(X_train_smote, y_train_smote)\n",
        "\n",
        "# Make predictions on the test set\n",
        "y_pred = logreg_model.predict(X_test)\n",
        "\n",
        "# Evaluate the performance of the model\n",
        "conf_matrix = confusion_matrix(y_test, y_pred)\n",
        "classification_rep = classification_report(y_test, y_pred)\n",
        "\n",
        "# Print the results\n",
        "print(\"\\nConfusion Matrix:\\n\", conf_matrix)\n",
        "print(\"\\nClassification Report:\\n\", classification_rep)\n"
      ]
    },
    {
      "cell_type": "code",
      "execution_count": null,
      "metadata": {
        "colab": {
          "base_uri": "https://localhost:8080/"
        },
        "id": "O-vff3IHlkzl",
        "outputId": "a3e8ffd4-5b86-46c1-eb65-2e3d2881ebb6"
      },
      "outputs": [
        {
          "name": "stdout",
          "output_type": "stream",
          "text": [
            "\n",
            "Decision Tree Confusion Matrix:\n",
            " [[17517     2]\n",
            " [    3 17478]]\n",
            "\n",
            "Decision Tree Classification Report:\n",
            "               precision    recall  f1-score   support\n",
            "\n",
            "           0       1.00      1.00      1.00     17519\n",
            "           1       1.00      1.00      1.00     17481\n",
            "\n",
            "    accuracy                           1.00     35000\n",
            "   macro avg       1.00      1.00      1.00     35000\n",
            "weighted avg       1.00      1.00      1.00     35000\n",
            "\n"
          ]
        }
      ],
      "source": [
        "# Decision Tree after SMOTE:\n",
        "\n",
        "from sklearn.tree import DecisionTreeClassifier\n",
        "from sklearn.metrics import classification_report, confusion_matrix\n",
        "\n",
        "# Create a Decision Tree model\n",
        "dt_model = DecisionTreeClassifier(random_state=42)\n",
        "\n",
        "# Train the model on the SMOTE dataset\n",
        "dt_model.fit(X_train_smote, y_train_smote)\n",
        "\n",
        "# Make predictions on the test set\n",
        "y_pred_dt = dt_model.predict(X_test)\n",
        "\n",
        "# Evaluate the performance of the model\n",
        "conf_matrix_dt = confusion_matrix(y_test, y_pred_dt)\n",
        "classification_rep_dt = classification_report(y_test, y_pred_dt)\n",
        "\n",
        "# Print the results\n",
        "print(\"\\nDecision Tree Confusion Matrix:\\n\", conf_matrix_dt)\n",
        "print(\"\\nDecision Tree Classification Report:\\n\", classification_rep_dt)\n"
      ]
    },
    {
      "cell_type": "code",
      "execution_count": null,
      "metadata": {
        "colab": {
          "background_save": true
        },
        "id": "JKTUNzWoF7Ks",
        "outputId": "32a4dcff-04ae-4ff8-a5e0-e813b70722b8"
      },
      "outputs": [
        {
          "name": "stdout",
          "output_type": "stream",
          "text": [
            "Best Parameters:  {'class_weight': None, 'criterion': 'entropy', 'max_depth': None, 'min_samples_leaf': 1, 'min_samples_split': 3}\n",
            "\n",
            "Best Decision Tree Confusion Matrix:\n",
            " [[17519     0]\n",
            " [    1 17480]]\n",
            "\n",
            "Best Decision Tree Classification Report:\n",
            "               precision    recall  f1-score   support\n",
            "\n",
            "           0       1.00      1.00      1.00     17519\n",
            "           1       1.00      1.00      1.00     17481\n",
            "\n",
            "    accuracy                           1.00     35000\n",
            "   macro avg       1.00      1.00      1.00     35000\n",
            "weighted avg       1.00      1.00      1.00     35000\n",
            "\n"
          ]
        }
      ],
      "source": [
        "# Decision Tree after SMOTE with  hyperparameters tuning\n",
        "\n",
        "from sklearn.tree import DecisionTreeClassifier\n",
        "from sklearn.model_selection import GridSearchCV\n",
        "from sklearn.metrics import classification_report, confusion_matrix\n",
        "\n",
        "# Define the parameter grid\n",
        "param_grid = {\n",
        "    'criterion': ['gini', 'entropy'],\n",
        "    'max_depth': [None, 5, 10, 15],\n",
        "    'min_samples_split': [2, 3, 4, 5],\n",
        "    'min_samples_leaf': [1, 2, 3, 4],\n",
        "    'class_weight': ['balanced', None]\n",
        "}\n",
        "\n",
        "# Create the Decision Tree model\n",
        "dt_model = DecisionTreeClassifier(random_state=42)\n",
        "\n",
        "# Create the GridSearchCV object\n",
        "grid_search = GridSearchCV(dt_model, param_grid, scoring='f1', cv=5)\n",
        "\n",
        "# Fit the grid search to the data\n",
        "grid_search.fit(X_train_smote, y_train_smote)\n",
        "\n",
        "# Print the best parameters\n",
        "print(\"Best Parameters: \", grid_search.best_params_)\n",
        "\n",
        "# Get the best model\n",
        "best_dt_model = grid_search.best_estimator_\n",
        "\n",
        "# Make predictions on the test set\n",
        "y_pred_prob_dt = best_dt_model.predict_proba(X_test)[:, 1]\n",
        "\n",
        "# Adjust the decision threshold (example: set it to 0.3)\n",
        "custom_threshold = 0.3\n",
        "y_pred_dt = (y_pred_prob_dt >= custom_threshold).astype(int)\n",
        "\n",
        "# Evaluate the performance of the best Decision Tree model\n",
        "conf_matrix_dt = confusion_matrix(y_test, y_pred_dt)\n",
        "classification_rep_dt = classification_report(y_test, y_pred_dt)\n",
        "\n",
        "# Print the results\n",
        "print(\"\\nBest Decision Tree Confusion Matrix:\\n\", conf_matrix_dt)\n",
        "print(\"\\nBest Decision Tree Classification Report:\\n\", classification_rep_dt)\n",
        "\n",
        "\n"
      ]
    },
    {
      "cell_type": "code",
      "execution_count": null,
      "metadata": {
        "colab": {
          "background_save": true
        },
        "id": "8LfZA9jYL1ip",
        "outputId": "73639626-2fcc-41e9-d881-c19b81533e05"
      },
      "outputs": [
        {
          "data": {
            "text/plain": [
              "0    17519\n",
              "1    17481\n",
              "Name: fraud, dtype: int64"
            ]
          },
          "execution_count": 52,
          "metadata": {},
          "output_type": "execute_result"
        }
      ],
      "source": [
        "y_test.value_counts()"
      ]
    },
    {
      "cell_type": "code",
      "execution_count": null,
      "metadata": {
        "colab": {
          "background_save": true
        },
        "id": "Wg5rxTebls-O"
      },
      "outputs": [],
      "source": [
        "# Ensemble Models (black-box)"
      ]
    },
    {
      "cell_type": "code",
      "execution_count": null,
      "metadata": {
        "colab": {
          "background_save": true
        },
        "id": "oWA_NaqnUrjm",
        "outputId": "e899d07b-e912-4195-e104-f7ac5566fb7f"
      },
      "outputs": [
        {
          "name": "stdout",
          "output_type": "stream",
          "text": [
            "\n",
            "Random Forest Confusion Matrix:\n",
            " [[17518     1]\n",
            " [    1 17480]]\n",
            "\n",
            "Random Forest Classification Report:\n",
            "               precision    recall  f1-score   support\n",
            "\n",
            "           0       1.00      1.00      1.00     17519\n",
            "           1       1.00      1.00      1.00     17481\n",
            "\n",
            "    accuracy                           1.00     35000\n",
            "   macro avg       1.00      1.00      1.00     35000\n",
            "weighted avg       1.00      1.00      1.00     35000\n",
            "\n"
          ]
        }
      ],
      "source": [
        "# Random Trees after SMOTE using hypertuning parameters from Decision Tree\n",
        "\n",
        "from sklearn.ensemble import RandomForestClassifier\n",
        "from sklearn.metrics import classification_report, confusion_matrix\n",
        "\n",
        "# Best hyperparameters obtained from the Decision Tree model\n",
        "best_dt_params = {\n",
        "    'class_weight': 'balanced',\n",
        "    'criterion': 'gini',\n",
        "    'max_depth': None,\n",
        "    'min_samples_leaf': 4,\n",
        "    'min_samples_split': 2\n",
        "}\n",
        "\n",
        "# Create a Random Forest model using the best hyperparameters\n",
        "rf_model = RandomForestClassifier(**best_dt_params, random_state=42)\n",
        "\n",
        "# Train the model on your data\n",
        "rf_model.fit(X_train_smote, y_train_smote)\n",
        "\n",
        "# Make predictions\n",
        "y_pred_rf = rf_model.predict(X_test)\n",
        "\n",
        "# Evaluate the performance of the Random Forest model\n",
        "conf_matrix_rf = confusion_matrix(y_test, y_pred_rf)\n",
        "classification_rep_rf = classification_report(y_test, y_pred_rf)\n",
        "\n",
        "# Print the results\n",
        "print(\"\\nRandom Forest Confusion Matrix:\\n\", conf_matrix_rf)\n",
        "print(\"\\nRandom Forest Classification Report:\\n\", classification_rep_rf)\n"
      ]
    },
    {
      "cell_type": "code",
      "execution_count": null,
      "metadata": {
        "colab": {
          "background_save": true
        },
        "id": "47i8-lNz1pCI",
        "outputId": "dc822941-9f2d-4205-d287-6c8975c72873"
      },
      "outputs": [
        {
          "name": "stdout",
          "output_type": "stream",
          "text": [
            "\n",
            "Random Forest Confusion Matrix:\n",
            " [[17519     0]\n",
            " [    1 17480]]\n",
            "\n",
            "Random Forest Classification Report:\n",
            "               precision    recall  f1-score   support\n",
            "\n",
            "           0       1.00      1.00      1.00     17519\n",
            "           1       1.00      1.00      1.00     17481\n",
            "\n",
            "    accuracy                           1.00     35000\n",
            "   macro avg       1.00      1.00      1.00     35000\n",
            "weighted avg       1.00      1.00      1.00     35000\n",
            "\n"
          ]
        }
      ],
      "source": [
        "# Random Forest after applying SMOTE\n",
        "\n",
        "# Create a Random Forest model\n",
        "rf_model = RandomForestClassifier(random_state=42)\n",
        "\n",
        "# Train the model on the balanced dataset\n",
        "rf_model.fit(X_train_smote, y_train_smote)\n",
        "\n",
        "# Make predictions on the test set\n",
        "y_pred_rf = rf_model.predict(X_test)\n",
        "\n",
        "# Evaluate the performance of the model\n",
        "# accuracy_rf = accuracy_score(y_test_balanced, y_pred_rf)\n",
        "conf_matrix_rf = confusion_matrix(y_test, y_pred_rf)\n",
        "classification_rep_rf = classification_report(y_test, y_pred_rf)\n",
        "\n",
        "# Print the results\n",
        "print(\"\\nRandom Forest Confusion Matrix:\\n\", conf_matrix_rf)\n",
        "print(\"\\nRandom Forest Classification Report:\\n\", classification_rep_rf)\n"
      ]
    },
    {
      "cell_type": "code",
      "execution_count": null,
      "metadata": {
        "colab": {
          "base_uri": "https://localhost:8080/"
        },
        "id": "5DMN1mV4jb_z",
        "outputId": "97d1fe30-cbe8-48bf-cab5-17969dd3738f"
      },
      "outputs": [
        {
          "name": "stdout",
          "output_type": "stream",
          "text": [
            "Fitting 5 folds for each of 81 candidates, totalling 405 fits\n",
            "\n",
            "Random Forest Confusion Matrix:\n",
            " [[2899    0]\n",
            " [ 176    9]]\n",
            "\n",
            "Random Forest Classification Report:\n",
            "               precision    recall  f1-score   support\n",
            "\n",
            "           0       0.94      1.00      0.97      2899\n",
            "           1       1.00      0.05      0.09       185\n",
            "\n",
            "    accuracy                           0.94      3084\n",
            "   macro avg       0.97      0.52      0.53      3084\n",
            "weighted avg       0.95      0.94      0.92      3084\n",
            "\n",
            "Best Hyperparameters: {'max_depth': None, 'min_samples_leaf': 1, 'min_samples_split': 2, 'n_estimators': 200}\n"
          ]
        }
      ],
      "source": [
        "# Random Forest after applying SMOTE with hyperparameter tuning\n",
        "\n",
        "from sklearn.model_selection import GridSearchCV\n",
        "from sklearn.ensemble import RandomForestClassifier\n",
        "from sklearn.metrics import confusion_matrix, classification_report\n",
        "\n",
        "\n",
        "# Create a Random Forest model\n",
        "rf_model = RandomForestClassifier(random_state=42)\n",
        "\n",
        "# Define the parameter grid for hyperparameter tuning\n",
        "param_grid = {\n",
        "   'n_estimators': [50, 100, 200],\n",
        "   'max_depth': [None, 10, 20],\n",
        "   'min_samples_split': [2, 5, 10],\n",
        "   'min_samples_leaf': [1, 2, 4]\n",
        "}\n",
        "\n",
        "# param_grid = {\n",
        "#     'n_estimators': [100, 200, 300, 400],\n",
        "#     'max_depth': [None, 5, 10, 15],\n",
        "#     'min_samples_split': [5, 10, 20],\n",
        "#     'min_samples_leaf': [2, 3, 5]\n",
        "# }\n",
        "\n",
        "# Create GridSearchCV with 5-fold cross-validation\n",
        "grid_search = GridSearchCV(estimator=rf_model, param_grid=param_grid, cv=5, scoring='f1', verbose=1, n_jobs=-1)\n",
        "\n",
        "# Fit the model with early stopping\n",
        "grid_search.fit(X_train_smote, y_train_smote)\n",
        "\n",
        "# Get the best model from the grid search\n",
        "best_rf_model = grid_search.best_estimator_\n",
        "\n",
        "# Make predictions on the test set\n",
        "y_pred_rf = best_rf_model.predict(X_test)\n",
        "\n",
        "# Evaluate the performance of the model\n",
        "conf_matrix_rf = confusion_matrix(y_test, y_pred_rf)\n",
        "classification_rep_rf = classification_report(y_test, y_pred_rf)\n",
        "\n",
        "# Print the results\n",
        "print(\"\\nRandom Forest Confusion Matrix:\\n\", conf_matrix_rf)\n",
        "print(\"\\nRandom Forest Classification Report:\\n\", classification_rep_rf)\n",
        "print(\"Best Hyperparameters:\", grid_search.best_params_)\n"
      ]
    },
    {
      "cell_type": "code",
      "execution_count": null,
      "metadata": {
        "colab": {
          "base_uri": "https://localhost:8080/"
        },
        "id": "4oH3G0Z1a-oq",
        "outputId": "bcdd75df-f6ea-4e22-b1e1-fb2ca8e3f8f5"
      },
      "outputs": [
        {
          "name": "stdout",
          "output_type": "stream",
          "text": [
            "\n",
            "Confusion Matrix:\n",
            " [[2891    8]\n",
            " [ 179    6]]\n",
            "\n",
            "Classification Report:\n",
            "               precision    recall  f1-score   support\n",
            "\n",
            "           0       0.94      1.00      0.97      2899\n",
            "           1       0.43      0.03      0.06       185\n",
            "\n",
            "    accuracy                           0.94      3084\n",
            "   macro avg       0.69      0.51      0.51      3084\n",
            "weighted avg       0.91      0.94      0.91      3084\n",
            "\n"
          ]
        }
      ],
      "source": [
        "# XGBoost After SMOTE:\n",
        "import xgboost as xgb\n",
        "\n",
        "# Create an XGBoost model\n",
        "xgb_model = xgb.XGBClassifier(random_state=42)\n",
        "\n",
        "# Train the model on the training set\n",
        "xgb_model.fit(X_train_smote, y_train_smote)\n",
        "\n",
        "# Make predictions on the test set\n",
        "y_pred = xgb_model.predict(X_test)\n",
        "\n",
        "# Evaluate the performance of the model\n",
        "conf_matrix = confusion_matrix(y_test, y_pred)\n",
        "classification_rep = classification_report(y_test, y_pred)\n",
        "\n",
        "# Print the results\n",
        "print(\"\\nConfusion Matrix:\\n\", conf_matrix)\n",
        "print(\"\\nClassification Report:\\n\", classification_rep)\n"
      ]
    },
    {
      "cell_type": "code",
      "execution_count": null,
      "metadata": {
        "colab": {
          "base_uri": "https://localhost:8080/"
        },
        "id": "rT00zX_8bZI0",
        "outputId": "6300dd09-876b-4871-8223-6dcaf78fff7c"
      },
      "outputs": [
        {
          "name": "stdout",
          "output_type": "stream",
          "text": [
            "Best Hyperparameters: {'colsample_bytree': 0.8, 'gamma': 1, 'learning_rate': 0.1, 'max_depth': 5, 'n_estimators': 200, 'subsample': 1.0}\n",
            "\n",
            "Confusion Matrix:\n",
            " [[2899    0]\n",
            " [ 181    4]]\n",
            "\n",
            "Classification Report:\n",
            "               precision    recall  f1-score   support\n",
            "\n",
            "           0       0.94      1.00      0.97      2899\n",
            "           1       1.00      0.02      0.04       185\n",
            "\n",
            "    accuracy                           0.94      3084\n",
            "   macro avg       0.97      0.51      0.51      3084\n",
            "weighted avg       0.94      0.94      0.91      3084\n",
            "\n"
          ]
        }
      ],
      "source": [
        "# XGBoost After SMOTE with hyperparameters tuning\n",
        "\n",
        "import xgboost as xgb\n",
        "from sklearn.model_selection import GridSearchCV\n",
        "\n",
        "# Create an XGBoost model\n",
        "xgb_model = xgb.XGBClassifier(random_state=42)\n",
        "\n",
        "# Define the hyperparameter grid to search\n",
        "param_grid = {\n",
        "    'n_estimators': [50, 100, 200],\n",
        "    'learning_rate': [0.01, 0.1, 0.2],\n",
        "    'max_depth': [3, 5, 7],\n",
        "    'subsample': [0.8, 1.0],\n",
        "    'colsample_bytree': [0.8, 1.0],\n",
        "    'gamma': [0, 1],\n",
        "}\n",
        "\n",
        "# Create a GridSearchCV object\n",
        "grid_search = GridSearchCV(estimator=xgb_model, param_grid=param_grid, scoring='f1', cv=5)\n",
        "\n",
        "# Fit the grid search to the data\n",
        "grid_search.fit(X_train_smote, y_train_smote)\n",
        "\n",
        "# Get the best hyperparameters\n",
        "best_params = grid_search.best_params_\n",
        "\n",
        "# Print the best hyperparameters\n",
        "print(\"Best Hyperparameters:\", best_params)\n",
        "\n",
        "# Use the best model to make predictions on the test set\n",
        "best_xgb_model = grid_search.best_estimator_\n",
        "y_pred = best_xgb_model.predict(X_test)\n",
        "\n",
        "# Evaluate the performance of the best model\n",
        "conf_matrix = confusion_matrix(y_test, y_pred)\n",
        "classification_rep = classification_report(y_test, y_pred)\n",
        "\n",
        "# Print the results\n",
        "print(\"\\nConfusion Matrix:\\n\", conf_matrix)\n",
        "print(\"\\nClassification Report:\\n\", classification_rep)\n"
      ]
    },
    {
      "cell_type": "code",
      "execution_count": null,
      "metadata": {
        "colab": {
          "base_uri": "https://localhost:8080/"
        },
        "id": "Mkuju1K-cSq3",
        "outputId": "0d65c23b-90da-4dc7-9beb-155001bd2cc1"
      },
      "outputs": [
        {
          "name": "stdout",
          "output_type": "stream",
          "text": [
            "Epoch 1/20\n",
            "290/290 [==============================] - 2s 4ms/step - loss: 0.2387 - accuracy: 0.9364 - val_loss: 0.0237 - val_accuracy: 0.9914\n",
            "Epoch 2/20\n",
            "290/290 [==============================] - 1s 3ms/step - loss: 0.1375 - accuracy: 0.9570 - val_loss: 0.0157 - val_accuracy: 0.9925\n",
            "Epoch 3/20\n",
            "290/290 [==============================] - 1s 3ms/step - loss: 0.1289 - accuracy: 0.9578 - val_loss: 0.0165 - val_accuracy: 0.9929\n",
            "Epoch 4/20\n",
            "290/290 [==============================] - 1s 3ms/step - loss: 0.1242 - accuracy: 0.9585 - val_loss: 0.0120 - val_accuracy: 0.9948\n",
            "Epoch 5/20\n",
            "290/290 [==============================] - 1s 3ms/step - loss: 0.1213 - accuracy: 0.9586 - val_loss: 0.0103 - val_accuracy: 0.9950\n",
            "Epoch 6/20\n",
            "290/290 [==============================] - 1s 3ms/step - loss: 0.1173 - accuracy: 0.9593 - val_loss: 0.0123 - val_accuracy: 0.9948\n",
            "Epoch 7/20\n",
            "290/290 [==============================] - 1s 3ms/step - loss: 0.1144 - accuracy: 0.9601 - val_loss: 0.0095 - val_accuracy: 0.9955\n",
            "Epoch 8/20\n",
            "290/290 [==============================] - 1s 3ms/step - loss: 0.1089 - accuracy: 0.9611 - val_loss: 0.0074 - val_accuracy: 0.9966\n",
            "Epoch 9/20\n",
            "290/290 [==============================] - 1s 3ms/step - loss: 0.1028 - accuracy: 0.9620 - val_loss: 0.0089 - val_accuracy: 0.9963\n",
            "Epoch 10/20\n",
            "290/290 [==============================] - 1s 3ms/step - loss: 0.0972 - accuracy: 0.9637 - val_loss: 0.0064 - val_accuracy: 0.9970\n",
            "Epoch 11/20\n",
            "290/290 [==============================] - 1s 5ms/step - loss: 0.0889 - accuracy: 0.9664 - val_loss: 0.0039 - val_accuracy: 0.9978\n",
            "Epoch 12/20\n",
            "290/290 [==============================] - 2s 6ms/step - loss: 0.0825 - accuracy: 0.9678 - val_loss: 0.0054 - val_accuracy: 0.9974\n",
            "Epoch 13/20\n",
            "290/290 [==============================] - 2s 5ms/step - loss: 0.0745 - accuracy: 0.9720 - val_loss: 0.0039 - val_accuracy: 0.9978\n",
            "Epoch 14/20\n",
            "290/290 [==============================] - 1s 3ms/step - loss: 0.0651 - accuracy: 0.9742 - val_loss: 0.0053 - val_accuracy: 0.9978\n",
            "97/97 [==============================] - 0s 2ms/step\n",
            "\n",
            "Confusion Matrix:\n",
            " [[2890    9]\n",
            " [ 177    8]]\n",
            "\n",
            "Classification Report:\n",
            "               precision    recall  f1-score   support\n",
            "\n",
            "           0       0.94      1.00      0.97      2899\n",
            "           1       0.47      0.04      0.08       185\n",
            "\n",
            "    accuracy                           0.94      3084\n",
            "   macro avg       0.71      0.52      0.52      3084\n",
            "weighted avg       0.91      0.94      0.92      3084\n",
            "\n"
          ]
        }
      ],
      "source": [
        "# NN model applied after SMOTE:\n",
        "\n",
        "\n",
        "import tensorflow as tf\n",
        "from tensorflow.keras.models import Sequential\n",
        "from tensorflow.keras.layers import Dense\n",
        "from sklearn.metrics import confusion_matrix, classification_report\n",
        "\n",
        "# added\n",
        "from tensorflow.keras.callbacks import EarlyStopping\n",
        "\n",
        "# Define early stopping callback\n",
        "\n",
        "# added\n",
        "early_stopping_callback = EarlyStopping(monitor='val_loss', patience=3)\n",
        "\n",
        "\n",
        "# Create a Sequential model\n",
        "model = Sequential()\n",
        "\n",
        "# Add layers to the model\n",
        "model.add(Dense(128, input_dim=X_train_smote.shape[1], activation='relu'))\n",
        "model.add(Dense(64, activation='relu'))\n",
        "model.add(Dense(1, activation='sigmoid'))\n",
        "\n",
        "# Compile the model\n",
        "model.compile(loss='binary_crossentropy', optimizer='adam', metrics=['accuracy'])\n",
        "\n",
        "# Train the model on the training set\n",
        "#model.fit(X_train_smote, y_train_smote, epochs=10, batch_size=32, validation_split=0.2)\n",
        "model.fit(X_train_smote, y_train_smote, epochs=20, batch_size=64, validation_split=0.2, callbacks=[early_stopping_callback])\n",
        "# try decreasing the batch size\n",
        "\n",
        "\n",
        "# Make predictions on the test set\n",
        "y_pred_prob = model.predict(X_test)\n",
        "y_pred = (y_pred_prob > 0.5).astype(int)\n",
        "\n",
        "# Evaluate the performance of the model\n",
        "conf_matrix = confusion_matrix(y_test, y_pred)\n",
        "classification_rep = classification_report(y_test, y_pred)\n",
        "\n",
        "# Print the results\n",
        "print(\"\\nConfusion Matrix:\\n\", conf_matrix)\n",
        "print(\"\\nClassification Report:\\n\", classification_rep)\n",
        "\n"
      ]
    },
    {
      "cell_type": "markdown",
      "metadata": {
        "id": "y7PlDkejcA_2"
      },
      "source": [
        "Move the code snippets below to the appropriate places once done with all the models"
      ]
    },
    {
      "cell_type": "code",
      "execution_count": null,
      "metadata": {
        "id": "-89XuqJSZ0K5"
      },
      "outputs": [],
      "source": [
        "# Coefficients of the Logistic Regression\n",
        "\n",
        "# feature names\n",
        "feature_names = df_fraud_for_modeling.columns\n",
        "\n",
        "# Get the coefficients and intercept\n",
        "coefficients = logreg_model.coef_[0]\n",
        "intercept = logreg_model.intercept_[0]\n",
        "\n",
        "# DataFrame to store coefficients and feature names\n",
        "coefficients_df = pd.DataFrame({'Feature': feature_names, 'Coefficient': coefficients})\n",
        "\n",
        "# Sort the DataFrame by absolute values of coefficients\n",
        "coefficients_df['AbsoluteCoefficient'] = coefficients_df['Coefficient'].abs()\n",
        "coefficients_df = coefficients_df.sort_values(by='AbsoluteCoefficient', ascending=False).drop('AbsoluteCoefficient', axis=1)\n",
        "\n",
        "# Print the sorted coefficients DataFrame\n",
        "print(\"\\nTop 10 Most Important Features:\")\n",
        "print(coefficients_df.head(10))\n"
      ]
    },
    {
      "cell_type": "code",
      "execution_count": null,
      "metadata": {
        "id": "LRihYPF5ztwO"
      },
      "outputs": [],
      "source": [
        "# 5 K-fold for log regression\n",
        "\n",
        "from sklearn.model_selection import cross_val_score, StratifiedKFold\n",
        "from sklearn.metrics import make_scorer, f1_score\n",
        "\n",
        "# Define a custom scorer for F1-score\n",
        "f1_scorer = make_scorer(f1_score, average='weighted')\n",
        "\n",
        "# Perform 5-fold cross-validation with F1-score as the scoring metric\n",
        "cv = StratifiedKFold(n_splits=5, shuffle=True, random_state=42)\n",
        "cross_val_results_f1 = cross_val_score(logreg_model, X_test, y_test, cv=cv, scoring=f1_scorer)\n",
        "\n",
        "# Print cross-validation results for F1-score\n",
        "print(\"Cross-Validation Results (F1-score):\", cross_val_results_f1)\n"
      ]
    },
    {
      "cell_type": "code",
      "execution_count": null,
      "metadata": {
        "id": "eEIiIRXH-yn7"
      },
      "outputs": [],
      "source": [
        "# 5 K-fold for Decision Tree\n",
        "\n",
        "from sklearn.model_selection import cross_val_score, StratifiedKFold\n",
        "from sklearn.metrics import make_scorer, f1_score\n",
        "\n",
        "# Define a custom scorer for F1-score\n",
        "f1_scorer = make_scorer(f1_score, average='weighted')\n",
        "\n",
        "# Perform 5-fold cross-validation with F1-score as the scoring metric\n",
        "cv = StratifiedKFold(n_splits=5, shuffle=True, random_state=42)\n",
        "cross_val_results_f1 = cross_val_score(dt_model, X_test, y_test, cv=cv, scoring=f1_scorer)\n",
        "\n",
        "# Print cross-validation results for F1-score\n",
        "print(\"Cross-Validation Results (F1-score):\", cross_val_results_f1)\n"
      ]
    },
    {
      "cell_type": "code",
      "execution_count": null,
      "metadata": {
        "id": "zROO58wVGSJD"
      },
      "outputs": [],
      "source": [
        "# 5 K-fold for Random Forest\n",
        "\n",
        "\n",
        "from sklearn.model_selection import cross_val_score, StratifiedKFold\n",
        "from sklearn.metrics import make_scorer, f1_score\n",
        "\n",
        "# Define a custom scorer for F1-score\n",
        "f1_scorer = make_scorer(f1_score, average='weighted')\n",
        "\n",
        "# Perform 5-fold cross-validation with F1-score as the scoring metric\n",
        "cv = StratifiedKFold(n_splits=5, shuffle=True, random_state=42)\n",
        "cross_val_results_f1 = cross_val_score(rf_model, X_test, y_test, cv=cv, scoring=f1_scorer)\n",
        "\n",
        "# Print cross-validation results for F1-score\n",
        "print(\"Cross-Validation Results (F1-score):\", cross_val_results_f1)\n"
      ]
    },
    {
      "cell_type": "code",
      "execution_count": null,
      "metadata": {
        "id": "_wgwneBLIpD3"
      },
      "outputs": [],
      "source": [
        "# Feature Importance in Random Tree Classifier\n",
        "\n",
        "# Get feature importance\n",
        "feature_importances = rf_model.feature_importances_\n",
        "\n",
        "# Sort features by importance\n",
        "sorted_features = sorted(zip(X_balanced.columns, feature_importances), key=lambda x: x[1], reverse=True)\n",
        "\n",
        "# Print the results\n",
        "print(\"\\nTop 15 Most Important Features:\")\n",
        "for feature, importance in sorted_features[:10]:\n",
        "    print(f\"Feature: {feature}, Importance: {importance:.3f}\")"
      ]
    },
    {
      "cell_type": "code",
      "execution_count": null,
      "metadata": {
        "id": "fzFBNU1pkACs"
      },
      "outputs": [],
      "source": [
        "# TRYING Sepi's approach:\n",
        "import warnings\n",
        "from sklearn.utils.parallel import delayed\n",
        "from imblearn.ensemble import BalancedRandomForestClassifier\n",
        "from sklearn.metrics import confusion_matrix, classification_report\n",
        "\n",
        "\n",
        "# Suppress UserWarning about delayed\n",
        "warnings.filterwarnings(\"ignore\", category=UserWarning)\n",
        "warnings.filterwarnings(\"ignore\", category=FutureWarning)\n",
        "\n",
        "# Initialising the Balanced Random Forest\n",
        "brf_model = BalancedRandomForestClassifier(random_state=42)\n",
        "\n",
        "# Fit the model\n",
        "brf_model.fit(X_train_smote, y_train_smote)\n",
        "\n",
        "# Predict probabilities\n",
        "y_pred_proba = brf_model.predict_proba(X_test)[:, 1]\n",
        "\n",
        "# Predict binary classes\n",
        "y_pred_binary = brf_model.predict(X_test)\n",
        "\n",
        "# Generate a confusion matrix\n",
        "conf_matrix = confusion_matrix(y_test, y_pred_binary)\n",
        "\n",
        "# Generate a classification report\n",
        "report = classification_report(y_test, y_pred_binary)\n",
        "\n",
        "# Print the confusion matrix and classification report\n",
        "print(\"\\nConfusion Matrix:\\n\", conf_matrix)\n",
        "print(\"\\nClassification Report:\\n\", report)\n"
      ]
    },
    {
      "cell_type": "code",
      "execution_count": null,
      "metadata": {
        "id": "FCxuHNtboNTZ"
      },
      "outputs": [],
      "source": [
        "# Feature Importance in BALANCED Random Tree Classifier\n",
        "\n",
        "# Get feature importance\n",
        "feature_importances = brf_model.feature_importances_\n",
        "\n",
        "# Sort features by importance\n",
        "sorted_features = sorted(zip(X.columns, feature_importances), key=lambda x: x[1], reverse=True)\n",
        "\n",
        "# Print the results\n",
        "print(\"\\nTop 15 Most Important Features:\")\n",
        "for feature, importance in sorted_features[:10]:\n",
        "    print(f\"Feature: {feature}, Importance: {importance:.3f}\")"
      ]
    },
    {
      "cell_type": "code",
      "execution_count": null,
      "metadata": {
        "id": "6V87R6D9lOPe"
      },
      "outputs": [],
      "source": [
        "#SMOTE - Synthetic Minority Over-sampling Technique for the minority class\n",
        "#!pip install imbalanced-learn\n"
      ]
    },
    {
      "cell_type": "code",
      "execution_count": null,
      "metadata": {
        "id": "05Om7xbblV0R"
      },
      "outputs": [],
      "source": [
        "from sklearn.ensemble import RandomForestClassifier\n",
        "\n",
        "#RandomForestClassifier\n",
        "rf_model_sepi = RandomForestClassifier(class_weight='balanced', random_state=42)\n",
        "rf_model_sepi.fit(X_train, y_train)\n"
      ]
    },
    {
      "cell_type": "code",
      "execution_count": null,
      "metadata": {
        "id": "B5DaiTn9nEBX"
      },
      "outputs": [],
      "source": [
        "# Defining a new threshold\n",
        "threshold = 0.2  # This value can be tuned\n",
        "\n",
        "# Convert probabilities to predictions based on the new threshold\n",
        "y_pred_new_threshold = (y_pred_proba >= threshold).astype(int)"
      ]
    },
    {
      "cell_type": "code",
      "execution_count": null,
      "metadata": {
        "id": "UxSV37k8lnGl"
      },
      "outputs": [],
      "source": [
        "from sklearn.metrics import classification_report, confusion_matrix, roc_auc_score\n",
        "\n",
        "# Model predictions\n",
        "y_pred_new_threshold = (brf_model.predict_proba(X_test)[:, 1] >= threshold).astype(int)\n",
        "\n",
        "# Evaluation\n",
        "print(\"Confusion Matrix:\\n\", confusion_matrix(y_test, y_pred_new_threshold))\n",
        "print(\"\\nClassification Report:\\n\", classification_report(y_test, y_pred_new_threshold))\n",
        "print(\"\\nROC AUC Score:\", roc_auc_score(y_test, y_pred_proba))"
      ]
    },
    {
      "cell_type": "code",
      "execution_count": null,
      "metadata": {
        "id": "YLchKskLG9_l"
      },
      "outputs": [],
      "source": [
        "# NOT WORKING - some garbage\n",
        "\n",
        "# Hierarchical CLustering\n",
        "\n",
        "from sklearn.cluster import AgglomerativeClustering\n",
        "from sklearn.metrics import silhouette_score\n",
        "\n",
        "X_balanced = balanced_df.drop('FraudFound_P', axis=1)\n",
        "\n",
        "# Create an Agglomerative Clustering model\n",
        "hc_model = AgglomerativeClustering(n_clusters=3)  # Assuming binary classification\n",
        "\n",
        "# Fit the model to the data\n",
        "hc_labels = hc_model.fit_predict(X_balanced)\n",
        "\n",
        "# Calculate silhouette scores for each data point\n",
        "silhouette_vals = silhouette_samples(X_balanced, hc_labels)\n",
        "\n",
        "# Create a DataFrame to store silhouette scores for each feature\n",
        "silhouette_df = pd.DataFrame(index=X_balanced.columns)\n",
        "\n",
        "# Calculate the mean silhouette score for each feature\n",
        "silhouette_df['MeanSilhouette'] = np.abs(silhouette_vals).mean(axis=0)\n",
        "\n",
        "# Sort the DataFrame by mean silhouette scores in descending order\n",
        "silhouette_df = silhouette_df.sort_values(by='MeanSilhouette', ascending=False)\n",
        "\n",
        "# Evaluate the performance of clustering using silhouette score\n",
        "silhouette_avg = silhouette_score(X_balanced, hc_labels)\n",
        "\n",
        "# Print the silhouette score\n",
        "print(\"\\nHierarchical Clustering Silhouette Score:\", silhouette_avg)\n",
        "\n",
        "# Print the sorted silhouette scores DataFrame\n",
        "print(\"\\nTop 10 Most Important Features for Clustering:\")\n",
        "print(silhouette_df.head(20))\n"
      ]
    },
    {
      "cell_type": "code",
      "execution_count": null,
      "metadata": {
        "id": "qO7HFFdcKD5v"
      },
      "outputs": [],
      "source": [
        "import matplotlib.pyplot as plt\n",
        "from scipy.cluster.hierarchy import dendrogram, linkage\n",
        "\n",
        "# Perform hierarchical clustering and obtain linkage matrix\n",
        "linkage_matrix = linkage(X_balanced, 'ward')\n",
        "\n",
        "# Plot the dendrogram\n",
        "plt.figure(figsize=(12, 8))\n",
        "dendrogram(linkage_matrix, p=30, truncate_mode='level', leaf_rotation=45., leaf_font_size=8., show_contracted=True)\n",
        "plt.title('Hierarchical Clustering Dendrogram')\n",
        "plt.xlabel('Sample Index')\n",
        "plt.ylabel('Distance')\n",
        "plt.show()\n"
      ]
    },
    {
      "cell_type": "code",
      "execution_count": null,
      "metadata": {
        "id": "xy_roe1jMOfO"
      },
      "outputs": [],
      "source": []
    },
    {
      "cell_type": "code",
      "execution_count": null,
      "metadata": {
        "id": "D0YL2cEwKfIP"
      },
      "outputs": [],
      "source": [
        "from sklearn.manifold import TSNE\n",
        "\n",
        "# Perform t-SNE\n",
        "tsne = TSNE(n_components=2, random_state=42)\n",
        "X_tsne = tsne.fit_transform(X_balanced)\n",
        "\n",
        "# Plot the clustered data in 2D\n",
        "plt.figure(figsize=(8, 6))\n",
        "plt.scatter(X_tsne[:, 0], X_tsne[:, 1], c=hc_labels, cmap='viridis', s=50)\n",
        "plt.title('t-SNE Visualization of Hierarchical Clustering')\n",
        "plt.xlabel('t-SNE Dimension 1')\n",
        "plt.ylabel('t-SNE Dimension 2')\n",
        "plt.show()\n"
      ]
    },
    {
      "cell_type": "code",
      "execution_count": null,
      "metadata": {
        "id": "_O0G6CLNMP7o"
      },
      "outputs": [],
      "source": [
        "# for later. to try NN model:\n",
        "\n",
        "from sklearn.model_selection import train_test_split\n",
        "from sklearn.preprocessing import StandardScaler\n",
        "from sklearn.metrics import accuracy_score, classification_report, confusion_matrix\n",
        "from tensorflow import keras\n",
        "from tensorflow.keras import layers\n",
        "\n",
        "# Assuming you have a DataFrame named balanced_df\n",
        "X = balanced_df.drop('FraudFound_P', axis=1)\n",
        "y = balanced_df['FraudFound_P']\n",
        "\n",
        "# Split the data into training and testing sets\n",
        "X_train, X_test, y_train, y_test = train_test_split(X, y, test_size=0.2, random_state=42)\n",
        "\n",
        "# Standardize the data\n",
        "scaler = StandardScaler()\n",
        "X_train_scaled = scaler.fit_transform(X_train)\n",
        "X_test_scaled = scaler.transform(X_test)\n",
        "\n",
        "# Build the neural network model\n",
        "model = keras.Sequential([\n",
        "    layers.Dense(64, activation='relu', input_shape=(X_train_scaled.shape[1],)),\n",
        "    layers.Dense(32, activation='relu'),\n",
        "    layers.Dense(1, activation='sigmoid')\n",
        "])\n",
        "\n",
        "# Compile the model\n",
        "model.compile(optimizer='adam', loss='binary_crossentropy', metrics=['accuracy'])\n",
        "\n",
        "# Train the model\n",
        "model.fit(X_train_scaled, y_train, epochs=10, batch_size=32, validation_split=0.2, verbose=1)\n",
        "\n",
        "# Make predictions on the test set\n",
        "y_pred_proba = model.predict(X_test_scaled)\n",
        "y_pred = (y_pred_proba > 0.5).astype(int)\n",
        "\n",
        "# Evaluate the performance of the model\n",
        "accuracy = accuracy_score(y_test, y_pred)\n",
        "conf_matrix = confusion_matrix(y_test, y_pred)\n",
        "classification_rep = classification_report(y_test, y_pred)\n",
        "\n",
        "# Print the results\n",
        "print(\"\\nConfusion Matrix:\\n\", conf_matrix)\n",
        "print(\"\\nClassification Report:\\n\", classification_rep)\n",
        "print(\"\\nAccuracy:\", accuracy)\n"
      ]
    },
    {
      "cell_type": "code",
      "execution_count": null,
      "metadata": {
        "id": "VYYn0GEC7f7H"
      },
      "outputs": [],
      "source": [
        "# this was supposed to go with the chi-square results in EDA but it does not work...\n",
        "# trying (and failing?) to use logistic regression for evaluation the association between each variable and the output variable\n",
        "# it does not work because it produces the same result for all of them (?)???\n",
        "\n",
        "from sklearn.model_selection import train_test_split\n",
        "from sklearn.linear_model import LogisticRegression\n",
        "from sklearn.metrics import classification_report, precision_score, recall_score, f1_score\n",
        "import pandas as pd\n",
        "\n",
        "# Selecting relevant columns\n",
        "features = df_fraud_for_modeling.drop(['FraudFound_P'], axis=1)\n",
        "\n",
        "# Create an empty DataFrame to store results\n",
        "model_results = pd.DataFrame(columns=['Feature', 'Precision', 'Recall', 'F1-Score', 'FraudPrediction'])\n",
        "\n",
        "# Loop through columns and perform logistic regression\n",
        "for col in features.columns:\n",
        "    X = features[[col]]\n",
        "    y = df_fraud_for_modeling['FraudFound_P']\n",
        "\n",
        "    # Split the data into training and testing sets\n",
        "    X_train, X_test, y_train, y_test = train_test_split(X, y, test_size=0.2, random_state=42)\n",
        "\n",
        "    # Create and fit the logistic regression model\n",
        "    model = LogisticRegression()\n",
        "    model.fit(X_train, y_train)\n",
        "\n",
        "    # Make predictions on the test set\n",
        "    y_pred = model.predict(X_test)\n",
        "\n",
        "    # Calculate metrics\n",
        "    precision = precision_score(y_test, y_pred, average='weighted', zero_division=1)\n",
        "    recall = recall_score(y_test, y_pred, average='weighted', zero_division=1)\n",
        "    f1 = f1_score(y_test, y_pred, average='weighted', zero_division=1)\n",
        "\n",
        "    # Create a row with the results\n",
        "    result_row = pd.DataFrame([[col, precision, recall, f1, '*']], columns=model_results.columns)\n",
        "\n",
        "    # Append the row to the results DataFrame\n",
        "    model_results = pd.concat([model_results, result_row], ignore_index=True)\n",
        "\n",
        "# Print the results\n",
        "print(model_results)\n"
      ]
    },
    {
      "cell_type": "code",
      "execution_count": null,
      "metadata": {
        "id": "e6p6yONSXtyG"
      },
      "outputs": [],
      "source": [
        "# Prepare the data for analysis. Consider Oversampling / Downsampling"
      ]
    },
    {
      "cell_type": "markdown",
      "metadata": {
        "id": "ckRRYqD5Ui3s"
      },
      "source": [
        "**For PastNumberOfClaims and NumberOfSuppliments 'none' act as a category itself**\n",
        "\n"
      ]
    },
    {
      "cell_type": "markdown",
      "metadata": {
        "id": "oqOx5lm_lt7B"
      },
      "source": [
        "**Features Summary:**\n",
        "\n",
        "1. **Make (Car Manufacturer):**\n",
        "   - Honda shows a higher percentage of insurance fraud (6.39%) compared to other cars.\n",
        "\n",
        "2. **Accident Area:**\n",
        "   - Higher fraud percentage in rural areas (8.32%) compared to urban areas (5.72%).\n",
        "\n",
        "3. **Sex:**\n",
        "   - Higher percentage of fraud in male customers (6.29%) compared to female customers (4.34%).\n",
        "\n",
        "4. **Marital Status:**\n",
        "   - Highest fraud percentage in widows (8.57%), but the number of cases is relatively low.\n",
        "   - Married and single categories have comparable fraud percentages (6.01% vs. 5.94%).\n",
        "\n",
        "5. **Fault in the Accident:**\n",
        "   - Insurance fraud is more common when it's the policyholder's fault (7.89%) rather than the third party's fault (0.88%).\n",
        "\n",
        "6. **Policy Type:**\n",
        "   - Highest fraud percentages in sport collision (13.79%), utility all perils (12.06%), and sedan all perils (10.06%) policy types.\n",
        "\n",
        "7. **Vehicle Category:**\n",
        "   - Utility vehicles have the highest percentage of fraud (11.25%), followed by sedans (8.22%), and sports cars (1.57%).\n",
        "\n",
        "8. **Vehicle Price:**\n",
        "   - Highest fraud percentages in vehicles priced less than $20,000 (9.40%)\n",
        "    and more than $69,000 (8.73%).\n",
        "\n",
        "9. **Days of Policy Accident:**\n",
        "   - Highest fraud percentage in cases where days of policy accident are 'none' (16.36%).\n",
        "\n",
        "10. **Day of Week:**\n",
        "    - Limited variation in fraud percentages across days of the week (5.33% to 6.30%).\n",
        "\n",
        "11. **Days Policy Claim:**\n",
        "    - Most common situation is for days of policy claim to be more than 30 days (5.96%).\n",
        "\n",
        "12. **Number of Past Claims:**\n",
        "    - Fraud percentages vary from 3.38% for more than 2 claims to 7.79% for zero past claims.\n",
        "\n",
        "13. **Age of Vehicle:**\n",
        "    - Highest fraud percentage in new vehicles (8.58%), lowest in vehicles more than 7 years old (5.17%).\n",
        "\n",
        "14. **Age of Policy Holder:**\n",
        "    - Fraud percentages distributed rather evenly across age groups.\n",
        "\n",
        "15. **Police Report Filed:**\n",
        "    - Higher percentage of fraud when no report was filed (6.5%).\n",
        "\n",
        "16. **Witness Present:**\n",
        "    - Higher percentage of fraud when no witness was present (6%).\n",
        "\n",
        "17. **Agent Type:**\n",
        "    - Higher percentage of fraud when the agent was external (6.5%).\n",
        "\n",
        "18. **Number of Supplements:**\n",
        "    - Fraud percentages vary from 4.81% for 3 to 5 supplements to 6.7% for 0 supplements.\n",
        "\n",
        "19. **Address Change Claim:**\n",
        "    - Highest fraud percentage for 2 to 3 years address change (17.53%).\n",
        "\n",
        "20. **Number of Cars:**\n",
        "    - Fraud percentages vary from 4.78% for 5 to 8 cars to 7.80% for 3 to 4 cars.\n",
        "\n",
        "21. **Base Policy Type:**\n",
        "    - Lowest fraud percentage in liability type (0.72%), highest in old perils category (10.16%)."
      ]
    },
    {
      "cell_type": "code",
      "execution_count": null,
      "metadata": {
        "id": "wwUfAi5nST6s"
      },
      "outputs": [],
      "source": []
    },
    {
      "cell_type": "code",
      "execution_count": null,
      "metadata": {
        "id": "v7-5IOBhAnbh"
      },
      "outputs": [],
      "source": [
        "pd.set_option('display.max_columns', None)\n"
      ]
    },
    {
      "cell_type": "code",
      "execution_count": null,
      "metadata": {
        "id": "a3fR1c-KC4ZM"
      },
      "outputs": [],
      "source": [
        "df_encoded = pd.get_dummies(df_fraud, drop_first=True)"
      ]
    },
    {
      "cell_type": "markdown",
      "metadata": {
        "id": "CTieMa62lOQq"
      },
      "source": [
        "correlation_matrix = df_encoded.corr()"
      ]
    },
    {
      "cell_type": "code",
      "execution_count": null,
      "metadata": {
        "id": "aPoeNnl5hIlh"
      },
      "outputs": [],
      "source": []
    },
    {
      "cell_type": "code",
      "execution_count": null,
      "metadata": {
        "id": "kfJnAC4QhZo7"
      },
      "outputs": [],
      "source": [
        "for idx, row in df_fraud.iterrows():\n",
        "    day_of_week = row['DayOfWeek']\n",
        "    df_fraud.loc[idx, \"is_weekend\"] = True if day_of_week in [\"Saturday\", \"Sunday\"] else False"
      ]
    },
    {
      "cell_type": "code",
      "execution_count": null,
      "metadata": {
        "id": "iPOlJct3DGVW"
      },
      "outputs": [],
      "source": [
        "# to do/ discuss:\n",
        "\n",
        "# DID: changed the code in the for-loop for bar plots to display ALL claims with the FRAUD cases stacked with non-fraud cases in each variable category\n",
        "# DID: recode day of the week to weekend/not weekend?\n",
        "# DID: added a pie chart at the beginning of EDA showing the proportion of fraud claims (6%)\n",
        "\n",
        "# recode sex and maybe other variables? into 0/1 for stats and correlation\n",
        "# some kind of log plot for probabilities of fraud_found from 0 to 1\n",
        "# PCA to identify main factors. Plotting. Customer stratification to identify low, mid, high risk fraud-prone\n",
        "# logistic regression + ensemble methods (decision tree, random forest). Model effeiciency evaluation.\n",
        "# K-fold approach for a more accurate and generalizable approach\n",
        "\n",
        "\n",
        "#Sepide:\n",
        "#I think as the count of males/females is already biased (there are more male customers making insurance claim than females)\n",
        "#then we cannot conclude that males do more fraud than females based on our current bar plots.\n",
        "#but we can certainly say that the number of claimes made by males are higher, therefore\n",
        "# males have more car accidents than females? (although we don't know if generally they have more male customers than females or not - not just based on claimes)????\n",
        "\n",
        "\n",
        "\n",
        "# the columns which are relevant to keep for our model:\n",
        "# Past number of claims\n",
        "# Policy type\n",
        "# age\n",
        "#"
      ]
    },
    {
      "cell_type": "markdown",
      "metadata": {
        "id": "9DwxTSRtvEJ_"
      },
      "source": [
        "# **Not fraud- we can get rid of this row then**"
      ]
    },
    {
      "cell_type": "code",
      "execution_count": null,
      "metadata": {
        "id": "jFvQSTUjmfhr"
      },
      "outputs": [],
      "source": []
    },
    {
      "cell_type": "code",
      "execution_count": null,
      "metadata": {
        "id": "nx96yv3T0ehD"
      },
      "outputs": [],
      "source": [
        "# Trying (and failing to downsample the majority class only)\n",
        "\n",
        "from sklearn.model_selection import train_test_split\n",
        "from imblearn.under_sampling import RandomUnderSampler\n",
        "\n",
        "X = df_fraud_for_modeling.drop('FraudFound_P', axis=1)\n",
        "y = df_fraud_for_modeling['FraudFound_P']\n",
        "\n",
        "# Count instances of each class\n",
        "class_counts = y.value_counts()\n",
        "\n",
        "# Calculate the desired sampling strategy for downsampling majority class\n",
        "# Set the majority class to have the same number of instances as the minority class\n",
        "desired_sampling_strategy = {0: class_counts[0], 1: class_counts[1]}\n",
        "\n",
        "# Split the data into training and testing sets\n",
        "X_train, X_test, y_train, y_test = train_test_split(X, y, test_size=0.2, random_state=42)\n",
        "\n",
        "# Using RandomUnderSampler to downsample the majority class (FraudFound_P = 0)\n",
        "undersampler = RandomUnderSampler(sampling_strategy=desired_sampling_strategy, random_state=42)\n",
        "X_resampled, y_resampled = undersampler.fit_resample(X_train, y_train)\n",
        "\n",
        "# X_resampled and y_resampled contain the balanced dataset\n",
        "# can use these for training your machine learning model\n",
        "\n",
        "# combine X_resampled and y_resampled back into a DataFrame\n",
        "balanced_df = pd.concat([pd.DataFrame(X_resampled, columns=X.columns), pd.Series(y_resampled, name='FraudFound_P')], axis=1)\n",
        "\n",
        "# counting class cases:\n",
        "pd.DataFrame(balanced_df['FraudFound_P'].value_counts())\n"
      ]
    }
  ],
  "metadata": {
    "colab": {
      "provenance": []
    },
    "kernelspec": {
      "display_name": "Python 3",
      "name": "python3"
    },
    "language_info": {
      "name": "python"
    }
  },
  "nbformat": 4,
  "nbformat_minor": 0
}